{
 "cells": [
  {
   "cell_type": "code",
   "execution_count": 1,
   "metadata": {},
   "outputs": [],
   "source": [
    "import pandas as pd\n",
    "import numpy as np"
   ]
  },
  {
   "cell_type": "code",
   "execution_count": 2,
   "metadata": {},
   "outputs": [
    {
     "name": "stdout",
     "output_type": "stream",
     "text": [
      "hello world\n"
     ]
    }
   ],
   "source": [
    "print('hello world')"
   ]
  },
  {
   "cell_type": "markdown",
   "metadata": {},
   "source": [
    "# 데이터 전처리"
   ]
  },
  {
   "cell_type": "markdown",
   "metadata": {},
   "source": [
    "## RainFall"
   ]
  },
  {
   "cell_type": "markdown",
   "metadata": {},
   "source": [
    "### 결측치 처리"
   ]
  },
  {
   "cell_type": "code",
   "execution_count": 3,
   "metadata": {},
   "outputs": [
    {
     "ename": "FileNotFoundError",
     "evalue": "[Errno 2] No such file or directory: 'RainFall(12.08.27_01-00-00 ~ 21.12.31_23-00-00).csv'",
     "output_type": "error",
     "traceback": [
      "\u001b[0;31m---------------------------------------------------------------------------\u001b[0m",
      "\u001b[0;31mFileNotFoundError\u001b[0m                         Traceback (most recent call last)",
      "\u001b[1;32m/home/khs1/khs/changwon/2022ChangWon_BigData/pre_processing.ipynb Cell 6\u001b[0m in \u001b[0;36m<cell line: 1>\u001b[0;34m()\u001b[0m\n\u001b[0;32m----> <a href='vscode-notebook-cell://ssh-remote%2B220.149.231.236/home/khs1/khs/changwon/2022ChangWon_BigData/pre_processing.ipynb#W5sdnNjb2RlLXJlbW90ZQ%3D%3D?line=0'>1</a>\u001b[0m rain_df \u001b[39m=\u001b[39m pd\u001b[39m.\u001b[39;49mread_csv(\u001b[39m'\u001b[39;49m\u001b[39mRainFall(12.08.27_01-00-00 ~ 21.12.31_23-00-00).csv\u001b[39;49m\u001b[39m'\u001b[39;49m)\n",
      "File \u001b[0;32m~/miniconda3/envs/cw/lib/python3.8/site-packages/pandas/util/_decorators.py:311\u001b[0m, in \u001b[0;36mdeprecate_nonkeyword_arguments.<locals>.decorate.<locals>.wrapper\u001b[0;34m(*args, **kwargs)\u001b[0m\n\u001b[1;32m    305\u001b[0m \u001b[39mif\u001b[39;00m \u001b[39mlen\u001b[39m(args) \u001b[39m>\u001b[39m num_allow_args:\n\u001b[1;32m    306\u001b[0m     warnings\u001b[39m.\u001b[39mwarn(\n\u001b[1;32m    307\u001b[0m         msg\u001b[39m.\u001b[39mformat(arguments\u001b[39m=\u001b[39marguments),\n\u001b[1;32m    308\u001b[0m         \u001b[39mFutureWarning\u001b[39;00m,\n\u001b[1;32m    309\u001b[0m         stacklevel\u001b[39m=\u001b[39mstacklevel,\n\u001b[1;32m    310\u001b[0m     )\n\u001b[0;32m--> 311\u001b[0m \u001b[39mreturn\u001b[39;00m func(\u001b[39m*\u001b[39;49margs, \u001b[39m*\u001b[39;49m\u001b[39m*\u001b[39;49mkwargs)\n",
      "File \u001b[0;32m~/miniconda3/envs/cw/lib/python3.8/site-packages/pandas/io/parsers/readers.py:680\u001b[0m, in \u001b[0;36mread_csv\u001b[0;34m(filepath_or_buffer, sep, delimiter, header, names, index_col, usecols, squeeze, prefix, mangle_dupe_cols, dtype, engine, converters, true_values, false_values, skipinitialspace, skiprows, skipfooter, nrows, na_values, keep_default_na, na_filter, verbose, skip_blank_lines, parse_dates, infer_datetime_format, keep_date_col, date_parser, dayfirst, cache_dates, iterator, chunksize, compression, thousands, decimal, lineterminator, quotechar, quoting, doublequote, escapechar, comment, encoding, encoding_errors, dialect, error_bad_lines, warn_bad_lines, on_bad_lines, delim_whitespace, low_memory, memory_map, float_precision, storage_options)\u001b[0m\n\u001b[1;32m    665\u001b[0m kwds_defaults \u001b[39m=\u001b[39m _refine_defaults_read(\n\u001b[1;32m    666\u001b[0m     dialect,\n\u001b[1;32m    667\u001b[0m     delimiter,\n\u001b[0;32m   (...)\u001b[0m\n\u001b[1;32m    676\u001b[0m     defaults\u001b[39m=\u001b[39m{\u001b[39m\"\u001b[39m\u001b[39mdelimiter\u001b[39m\u001b[39m\"\u001b[39m: \u001b[39m\"\u001b[39m\u001b[39m,\u001b[39m\u001b[39m\"\u001b[39m},\n\u001b[1;32m    677\u001b[0m )\n\u001b[1;32m    678\u001b[0m kwds\u001b[39m.\u001b[39mupdate(kwds_defaults)\n\u001b[0;32m--> 680\u001b[0m \u001b[39mreturn\u001b[39;00m _read(filepath_or_buffer, kwds)\n",
      "File \u001b[0;32m~/miniconda3/envs/cw/lib/python3.8/site-packages/pandas/io/parsers/readers.py:575\u001b[0m, in \u001b[0;36m_read\u001b[0;34m(filepath_or_buffer, kwds)\u001b[0m\n\u001b[1;32m    572\u001b[0m _validate_names(kwds\u001b[39m.\u001b[39mget(\u001b[39m\"\u001b[39m\u001b[39mnames\u001b[39m\u001b[39m\"\u001b[39m, \u001b[39mNone\u001b[39;00m))\n\u001b[1;32m    574\u001b[0m \u001b[39m# Create the parser.\u001b[39;00m\n\u001b[0;32m--> 575\u001b[0m parser \u001b[39m=\u001b[39m TextFileReader(filepath_or_buffer, \u001b[39m*\u001b[39;49m\u001b[39m*\u001b[39;49mkwds)\n\u001b[1;32m    577\u001b[0m \u001b[39mif\u001b[39;00m chunksize \u001b[39mor\u001b[39;00m iterator:\n\u001b[1;32m    578\u001b[0m     \u001b[39mreturn\u001b[39;00m parser\n",
      "File \u001b[0;32m~/miniconda3/envs/cw/lib/python3.8/site-packages/pandas/io/parsers/readers.py:934\u001b[0m, in \u001b[0;36mTextFileReader.__init__\u001b[0;34m(self, f, engine, **kwds)\u001b[0m\n\u001b[1;32m    931\u001b[0m     \u001b[39mself\u001b[39m\u001b[39m.\u001b[39moptions[\u001b[39m\"\u001b[39m\u001b[39mhas_index_names\u001b[39m\u001b[39m\"\u001b[39m] \u001b[39m=\u001b[39m kwds[\u001b[39m\"\u001b[39m\u001b[39mhas_index_names\u001b[39m\u001b[39m\"\u001b[39m]\n\u001b[1;32m    933\u001b[0m \u001b[39mself\u001b[39m\u001b[39m.\u001b[39mhandles: IOHandles \u001b[39m|\u001b[39m \u001b[39mNone\u001b[39;00m \u001b[39m=\u001b[39m \u001b[39mNone\u001b[39;00m\n\u001b[0;32m--> 934\u001b[0m \u001b[39mself\u001b[39m\u001b[39m.\u001b[39m_engine \u001b[39m=\u001b[39m \u001b[39mself\u001b[39;49m\u001b[39m.\u001b[39;49m_make_engine(f, \u001b[39mself\u001b[39;49m\u001b[39m.\u001b[39;49mengine)\n",
      "File \u001b[0;32m~/miniconda3/envs/cw/lib/python3.8/site-packages/pandas/io/parsers/readers.py:1218\u001b[0m, in \u001b[0;36mTextFileReader._make_engine\u001b[0;34m(self, f, engine)\u001b[0m\n\u001b[1;32m   1214\u001b[0m     mode \u001b[39m=\u001b[39m \u001b[39m\"\u001b[39m\u001b[39mrb\u001b[39m\u001b[39m\"\u001b[39m\n\u001b[1;32m   1215\u001b[0m \u001b[39m# error: No overload variant of \"get_handle\" matches argument types\u001b[39;00m\n\u001b[1;32m   1216\u001b[0m \u001b[39m# \"Union[str, PathLike[str], ReadCsvBuffer[bytes], ReadCsvBuffer[str]]\"\u001b[39;00m\n\u001b[1;32m   1217\u001b[0m \u001b[39m# , \"str\", \"bool\", \"Any\", \"Any\", \"Any\", \"Any\", \"Any\"\u001b[39;00m\n\u001b[0;32m-> 1218\u001b[0m \u001b[39mself\u001b[39m\u001b[39m.\u001b[39mhandles \u001b[39m=\u001b[39m get_handle(  \u001b[39m# type: ignore[call-overload]\u001b[39;49;00m\n\u001b[1;32m   1219\u001b[0m     f,\n\u001b[1;32m   1220\u001b[0m     mode,\n\u001b[1;32m   1221\u001b[0m     encoding\u001b[39m=\u001b[39;49m\u001b[39mself\u001b[39;49m\u001b[39m.\u001b[39;49moptions\u001b[39m.\u001b[39;49mget(\u001b[39m\"\u001b[39;49m\u001b[39mencoding\u001b[39;49m\u001b[39m\"\u001b[39;49m, \u001b[39mNone\u001b[39;49;00m),\n\u001b[1;32m   1222\u001b[0m     compression\u001b[39m=\u001b[39;49m\u001b[39mself\u001b[39;49m\u001b[39m.\u001b[39;49moptions\u001b[39m.\u001b[39;49mget(\u001b[39m\"\u001b[39;49m\u001b[39mcompression\u001b[39;49m\u001b[39m\"\u001b[39;49m, \u001b[39mNone\u001b[39;49;00m),\n\u001b[1;32m   1223\u001b[0m     memory_map\u001b[39m=\u001b[39;49m\u001b[39mself\u001b[39;49m\u001b[39m.\u001b[39;49moptions\u001b[39m.\u001b[39;49mget(\u001b[39m\"\u001b[39;49m\u001b[39mmemory_map\u001b[39;49m\u001b[39m\"\u001b[39;49m, \u001b[39mFalse\u001b[39;49;00m),\n\u001b[1;32m   1224\u001b[0m     is_text\u001b[39m=\u001b[39;49mis_text,\n\u001b[1;32m   1225\u001b[0m     errors\u001b[39m=\u001b[39;49m\u001b[39mself\u001b[39;49m\u001b[39m.\u001b[39;49moptions\u001b[39m.\u001b[39;49mget(\u001b[39m\"\u001b[39;49m\u001b[39mencoding_errors\u001b[39;49m\u001b[39m\"\u001b[39;49m, \u001b[39m\"\u001b[39;49m\u001b[39mstrict\u001b[39;49m\u001b[39m\"\u001b[39;49m),\n\u001b[1;32m   1226\u001b[0m     storage_options\u001b[39m=\u001b[39;49m\u001b[39mself\u001b[39;49m\u001b[39m.\u001b[39;49moptions\u001b[39m.\u001b[39;49mget(\u001b[39m\"\u001b[39;49m\u001b[39mstorage_options\u001b[39;49m\u001b[39m\"\u001b[39;49m, \u001b[39mNone\u001b[39;49;00m),\n\u001b[1;32m   1227\u001b[0m )\n\u001b[1;32m   1228\u001b[0m \u001b[39massert\u001b[39;00m \u001b[39mself\u001b[39m\u001b[39m.\u001b[39mhandles \u001b[39mis\u001b[39;00m \u001b[39mnot\u001b[39;00m \u001b[39mNone\u001b[39;00m\n\u001b[1;32m   1229\u001b[0m f \u001b[39m=\u001b[39m \u001b[39mself\u001b[39m\u001b[39m.\u001b[39mhandles\u001b[39m.\u001b[39mhandle\n",
      "File \u001b[0;32m~/miniconda3/envs/cw/lib/python3.8/site-packages/pandas/io/common.py:786\u001b[0m, in \u001b[0;36mget_handle\u001b[0;34m(path_or_buf, mode, encoding, compression, memory_map, is_text, errors, storage_options)\u001b[0m\n\u001b[1;32m    781\u001b[0m \u001b[39melif\u001b[39;00m \u001b[39misinstance\u001b[39m(handle, \u001b[39mstr\u001b[39m):\n\u001b[1;32m    782\u001b[0m     \u001b[39m# Check whether the filename is to be opened in binary mode.\u001b[39;00m\n\u001b[1;32m    783\u001b[0m     \u001b[39m# Binary mode does not support 'encoding' and 'newline'.\u001b[39;00m\n\u001b[1;32m    784\u001b[0m     \u001b[39mif\u001b[39;00m ioargs\u001b[39m.\u001b[39mencoding \u001b[39mand\u001b[39;00m \u001b[39m\"\u001b[39m\u001b[39mb\u001b[39m\u001b[39m\"\u001b[39m \u001b[39mnot\u001b[39;00m \u001b[39min\u001b[39;00m ioargs\u001b[39m.\u001b[39mmode:\n\u001b[1;32m    785\u001b[0m         \u001b[39m# Encoding\u001b[39;00m\n\u001b[0;32m--> 786\u001b[0m         handle \u001b[39m=\u001b[39m \u001b[39mopen\u001b[39;49m(\n\u001b[1;32m    787\u001b[0m             handle,\n\u001b[1;32m    788\u001b[0m             ioargs\u001b[39m.\u001b[39;49mmode,\n\u001b[1;32m    789\u001b[0m             encoding\u001b[39m=\u001b[39;49mioargs\u001b[39m.\u001b[39;49mencoding,\n\u001b[1;32m    790\u001b[0m             errors\u001b[39m=\u001b[39;49merrors,\n\u001b[1;32m    791\u001b[0m             newline\u001b[39m=\u001b[39;49m\u001b[39m\"\u001b[39;49m\u001b[39m\"\u001b[39;49m,\n\u001b[1;32m    792\u001b[0m         )\n\u001b[1;32m    793\u001b[0m     \u001b[39melse\u001b[39;00m:\n\u001b[1;32m    794\u001b[0m         \u001b[39m# Binary mode\u001b[39;00m\n\u001b[1;32m    795\u001b[0m         handle \u001b[39m=\u001b[39m \u001b[39mopen\u001b[39m(handle, ioargs\u001b[39m.\u001b[39mmode)\n",
      "\u001b[0;31mFileNotFoundError\u001b[0m: [Errno 2] No such file or directory: 'RainFall(12.08.27_01-00-00 ~ 21.12.31_23-00-00).csv'"
     ]
    }
   ],
   "source": [
    "rain_df = pd.read_csv('RainFall(12.08.27_01-00-00 ~ 21.12.31_23-00-00).csv')"
   ]
  },
  {
   "cell_type": "code",
   "execution_count": null,
   "metadata": {},
   "outputs": [],
   "source": [
    "rain_df.isnull().sum()"
   ]
  },
  {
   "cell_type": "code",
   "execution_count": null,
   "metadata": {},
   "outputs": [],
   "source": [
    "rain_col = rain_df.columns\n",
    "rain_col\n",
    "\n",
    "from cmath import nan # fillna를 사용하기 위해 NaN 임포트 (fillna 쓰는게 편해보임)\n",
    "\n",
    "for reg in rain_col:\n",
    "    print(reg)\n",
    "    # 10,000 값의 index를 리스트화\n",
    "    lst = rain_df.loc[rain_df[reg] == 10000].index \n",
    "\n",
    "    for n in lst: # 10,000 값을 모두 nan값으로 변경\n",
    "        \n",
    "        rain_df.loc[n, reg] = nan"
   ]
  },
  {
   "cell_type": "code",
   "execution_count": null,
   "metadata": {},
   "outputs": [],
   "source": [
    "rain_df.isnull().sum()"
   ]
  },
  {
   "cell_type": "code",
   "execution_count": null,
   "metadata": {},
   "outputs": [],
   "source": [
    "# 강수량은 이전 값(시간)에 영향을 많이 받는다 생각하여 이전값으로 채우는 ffill 사용\n",
    "rain_df = rain_df.fillna(method='ffill')"
   ]
  },
  {
   "cell_type": "code",
   "execution_count": null,
   "metadata": {},
   "outputs": [],
   "source": [
    "rain_df"
   ]
  },
  {
   "cell_type": "markdown",
   "metadata": {},
   "source": [
    "## Water Level"
   ]
  },
  {
   "cell_type": "code",
   "execution_count": null,
   "metadata": {},
   "outputs": [],
   "source": [
    "water_level_df = pd.read_csv('Water_Level(12.08.27_01-00-00 ~ 21.12.31_23-00-00).csv')"
   ]
  },
  {
   "cell_type": "code",
   "execution_count": null,
   "metadata": {},
   "outputs": [],
   "source": [
    "water_level_df.isnull().sum() # 띠용 결측치가 없음"
   ]
  },
  {
   "cell_type": "markdown",
   "metadata": {},
   "source": [
    "## Target (창녕함안보)"
   ]
  },
  {
   "cell_type": "code",
   "execution_count": 6,
   "metadata": {},
   "outputs": [],
   "source": [
    "target_df = pd.read_csv('data/창녕함안보(12.08.27 ~).csv')"
   ]
  },
  {
   "cell_type": "code",
   "execution_count": 7,
   "metadata": {},
   "outputs": [
    {
     "data": {
      "text/html": [
       "<div>\n",
       "<style scoped>\n",
       "    .dataframe tbody tr th:only-of-type {\n",
       "        vertical-align: middle;\n",
       "    }\n",
       "\n",
       "    .dataframe tbody tr th {\n",
       "        vertical-align: top;\n",
       "    }\n",
       "\n",
       "    .dataframe thead th {\n",
       "        text-align: right;\n",
       "    }\n",
       "</style>\n",
       "<table border=\"1\" class=\"dataframe\">\n",
       "  <thead>\n",
       "    <tr style=\"text-align: right;\">\n",
       "      <th></th>\n",
       "      <th>Unnamed: 0</th>\n",
       "      <th>일시</th>\n",
       "      <th>수위(EL.m)</th>\n",
       "      <th>방수로수위(EL.m)</th>\n",
       "      <th>저수량(백만㎥)</th>\n",
       "      <th>저수율(%)</th>\n",
       "      <th>강우량(mm)</th>\n",
       "      <th>총유입량(㎥/s)</th>\n",
       "      <th>자체유입(㎥/s)</th>\n",
       "      <th>외부유입(㎥/s)</th>\n",
       "      <th>총방류량(㎥/s)</th>\n",
       "      <th>소수력(㎥/s)</th>\n",
       "      <th>상수도취수(㎥/s)</th>\n",
       "      <th>가동보(㎥/s)</th>\n",
       "      <th>관리수위이상자연월류</th>\n",
       "      <th>관계용수취수(㎥/s)</th>\n",
       "      <th>자연형 어도(좌안)_EL.3.9m</th>\n",
       "      <th>인공형 어도(우안)_EL.4.8m</th>\n",
       "    </tr>\n",
       "  </thead>\n",
       "  <tbody>\n",
       "    <tr>\n",
       "      <th>0</th>\n",
       "      <td>0</td>\n",
       "      <td>2012-08-27 01시</td>\n",
       "      <td>5.450</td>\n",
       "      <td>1.64</td>\n",
       "      <td>106.2753</td>\n",
       "      <td>105.3</td>\n",
       "      <td>0.0</td>\n",
       "      <td>2,012.950</td>\n",
       "      <td>2,012.950</td>\n",
       "      <td>0.0</td>\n",
       "      <td>1,979.978</td>\n",
       "      <td>73.448</td>\n",
       "      <td>0.000</td>\n",
       "      <td>1,568.312</td>\n",
       "      <td>336.928</td>\n",
       "      <td>0.000</td>\n",
       "      <td>0.75</td>\n",
       "      <td>0.54</td>\n",
       "    </tr>\n",
       "    <tr>\n",
       "      <th>1</th>\n",
       "      <td>1</td>\n",
       "      <td>2012-08-27 02시</td>\n",
       "      <td>5.450</td>\n",
       "      <td>1.64</td>\n",
       "      <td>106.2753</td>\n",
       "      <td>105.3</td>\n",
       "      <td>0.0</td>\n",
       "      <td>1,985.586</td>\n",
       "      <td>1,985.586</td>\n",
       "      <td>0.0</td>\n",
       "      <td>1,985.586</td>\n",
       "      <td>73.322</td>\n",
       "      <td>0.000</td>\n",
       "      <td>1,569.457</td>\n",
       "      <td>341.517</td>\n",
       "      <td>0.000</td>\n",
       "      <td>0.75</td>\n",
       "      <td>0.54</td>\n",
       "    </tr>\n",
       "    <tr>\n",
       "      <th>2</th>\n",
       "      <td>2</td>\n",
       "      <td>2012-08-27 03시</td>\n",
       "      <td>5.450</td>\n",
       "      <td>1.64</td>\n",
       "      <td>106.2753</td>\n",
       "      <td>105.3</td>\n",
       "      <td>0.0</td>\n",
       "      <td>1,929.865</td>\n",
       "      <td>1,929.865</td>\n",
       "      <td>0.0</td>\n",
       "      <td>1,929.865</td>\n",
       "      <td>73.385</td>\n",
       "      <td>0.000</td>\n",
       "      <td>1,567.100</td>\n",
       "      <td>288.090</td>\n",
       "      <td>0.000</td>\n",
       "      <td>0.75</td>\n",
       "      <td>0.54</td>\n",
       "    </tr>\n",
       "    <tr>\n",
       "      <th>3</th>\n",
       "      <td>3</td>\n",
       "      <td>2012-08-27 04시</td>\n",
       "      <td>5.450</td>\n",
       "      <td>1.67</td>\n",
       "      <td>106.2753</td>\n",
       "      <td>105.3</td>\n",
       "      <td>0.0</td>\n",
       "      <td>1,928.188</td>\n",
       "      <td>1,928.188</td>\n",
       "      <td>0.0</td>\n",
       "      <td>1,928.188</td>\n",
       "      <td>73.260</td>\n",
       "      <td>0.000</td>\n",
       "      <td>1,565.548</td>\n",
       "      <td>288.090</td>\n",
       "      <td>0.000</td>\n",
       "      <td>0.75</td>\n",
       "      <td>0.54</td>\n",
       "    </tr>\n",
       "    <tr>\n",
       "      <th>4</th>\n",
       "      <td>4</td>\n",
       "      <td>2012-08-27 05시</td>\n",
       "      <td>5.450</td>\n",
       "      <td>1.69</td>\n",
       "      <td>106.2753</td>\n",
       "      <td>105.3</td>\n",
       "      <td>0.0</td>\n",
       "      <td>1,927.172</td>\n",
       "      <td>1,927.172</td>\n",
       "      <td>0.0</td>\n",
       "      <td>1,927.172</td>\n",
       "      <td>73.402</td>\n",
       "      <td>0.000</td>\n",
       "      <td>1,564.390</td>\n",
       "      <td>288.090</td>\n",
       "      <td>0.000</td>\n",
       "      <td>0.75</td>\n",
       "      <td>0.54</td>\n",
       "    </tr>\n",
       "    <tr>\n",
       "      <th>...</th>\n",
       "      <td>...</td>\n",
       "      <td>...</td>\n",
       "      <td>...</td>\n",
       "      <td>...</td>\n",
       "      <td>...</td>\n",
       "      <td>...</td>\n",
       "      <td>...</td>\n",
       "      <td>...</td>\n",
       "      <td>...</td>\n",
       "      <td>...</td>\n",
       "      <td>...</td>\n",
       "      <td>...</td>\n",
       "      <td>...</td>\n",
       "      <td>...</td>\n",
       "      <td>...</td>\n",
       "      <td>...</td>\n",
       "      <td>...</td>\n",
       "      <td>...</td>\n",
       "    </tr>\n",
       "    <tr>\n",
       "      <th>87712</th>\n",
       "      <td>87712</td>\n",
       "      <td>2012-08-29 18시</td>\n",
       "      <td>3.096</td>\n",
       "      <td>0.78</td>\n",
       "      <td>64.8982</td>\n",
       "      <td>64.3</td>\n",
       "      <td>0.1</td>\n",
       "      <td>54.388</td>\n",
       "      <td>-159.557</td>\n",
       "      <td>213.945</td>\n",
       "      <td>66.499</td>\n",
       "      <td>0.000</td>\n",
       "      <td>3.034</td>\n",
       "      <td>54.692</td>\n",
       "      <td>0.0</td>\n",
       "      <td>8.773</td>\n",
       "      <td>0.00</td>\n",
       "      <td>0.00</td>\n",
       "    </tr>\n",
       "    <tr>\n",
       "      <th>87713</th>\n",
       "      <td>87713</td>\n",
       "      <td>2012-08-29 19시</td>\n",
       "      <td>3.132</td>\n",
       "      <td>0.82</td>\n",
       "      <td>65.2906</td>\n",
       "      <td>64.7</td>\n",
       "      <td>0.0</td>\n",
       "      <td>255.387</td>\n",
       "      <td>40.431</td>\n",
       "      <td>214.956</td>\n",
       "      <td>146.387</td>\n",
       "      <td>0.000</td>\n",
       "      <td>3.034</td>\n",
       "      <td>134.58</td>\n",
       "      <td>0.0</td>\n",
       "      <td>8.773</td>\n",
       "      <td>0.00</td>\n",
       "      <td>0.00</td>\n",
       "    </tr>\n",
       "    <tr>\n",
       "      <th>87714</th>\n",
       "      <td>87714</td>\n",
       "      <td>2012-08-29 20시</td>\n",
       "      <td>3.150</td>\n",
       "      <td>0.81</td>\n",
       "      <td>65.4869</td>\n",
       "      <td>64.9</td>\n",
       "      <td>0.0</td>\n",
       "      <td>258.113</td>\n",
       "      <td>43.86</td>\n",
       "      <td>214.253</td>\n",
       "      <td>203.585</td>\n",
       "      <td>0.000</td>\n",
       "      <td>3.034</td>\n",
       "      <td>191.778</td>\n",
       "      <td>0.0</td>\n",
       "      <td>8.773</td>\n",
       "      <td>0.00</td>\n",
       "      <td>0.00</td>\n",
       "    </tr>\n",
       "    <tr>\n",
       "      <th>87715</th>\n",
       "      <td>87715</td>\n",
       "      <td>2012-08-29 21시</td>\n",
       "      <td>3.156</td>\n",
       "      <td>0.82</td>\n",
       "      <td>65.5523</td>\n",
       "      <td>65.0</td>\n",
       "      <td>0.0</td>\n",
       "      <td>223.616</td>\n",
       "      <td>9.296</td>\n",
       "      <td>214.320</td>\n",
       "      <td>205.449</td>\n",
       "      <td>0.000</td>\n",
       "      <td>3.034</td>\n",
       "      <td>193.642</td>\n",
       "      <td>0.0</td>\n",
       "      <td>8.773</td>\n",
       "      <td>0.00</td>\n",
       "      <td>0.00</td>\n",
       "    </tr>\n",
       "    <tr>\n",
       "      <th>87716</th>\n",
       "      <td>87716</td>\n",
       "      <td>2012-08-29 22시</td>\n",
       "      <td>3.120</td>\n",
       "      <td>0.83</td>\n",
       "      <td>65.1598</td>\n",
       "      <td>64.6</td>\n",
       "      <td>0.0</td>\n",
       "      <td>149.156</td>\n",
       "      <td>149.156</td>\n",
       "      <td>0.000</td>\n",
       "      <td>258.184</td>\n",
       "      <td>0.000</td>\n",
       "      <td>3.034</td>\n",
       "      <td>246.377</td>\n",
       "      <td>0.0</td>\n",
       "      <td>8.773</td>\n",
       "      <td>0.00</td>\n",
       "      <td>0.00</td>\n",
       "    </tr>\n",
       "  </tbody>\n",
       "</table>\n",
       "<p>87717 rows × 18 columns</p>\n",
       "</div>"
      ],
      "text/plain": [
       "       Unnamed: 0              일시  수위(EL.m)  방수로수위(EL.m)  저수량(백만㎥)  저수율(%)  \\\n",
       "0               0  2012-08-27 01시     5.450         1.64  106.2753   105.3   \n",
       "1               1  2012-08-27 02시     5.450         1.64  106.2753   105.3   \n",
       "2               2  2012-08-27 03시     5.450         1.64  106.2753   105.3   \n",
       "3               3  2012-08-27 04시     5.450         1.67  106.2753   105.3   \n",
       "4               4  2012-08-27 05시     5.450         1.69  106.2753   105.3   \n",
       "...           ...             ...       ...          ...       ...     ...   \n",
       "87712       87712  2012-08-29 18시     3.096         0.78   64.8982    64.3   \n",
       "87713       87713  2012-08-29 19시     3.132         0.82   65.2906    64.7   \n",
       "87714       87714  2012-08-29 20시     3.150         0.81   65.4869    64.9   \n",
       "87715       87715  2012-08-29 21시     3.156         0.82   65.5523    65.0   \n",
       "87716       87716  2012-08-29 22시     3.120         0.83   65.1598    64.6   \n",
       "\n",
       "       강우량(mm)       총유입량(㎥/s)       자체유입(㎥/s)       외부유입(㎥/s)  \\\n",
       "0          0.0       2,012.950       2,012.950             0.0   \n",
       "1          0.0       1,985.586       1,985.586             0.0   \n",
       "2          0.0       1,929.865       1,929.865             0.0   \n",
       "3          0.0       1,928.188       1,928.188             0.0   \n",
       "4          0.0       1,927.172       1,927.172             0.0   \n",
       "...        ...             ...             ...             ...   \n",
       "87712      0.1          54.388        -159.557         213.945   \n",
       "87713      0.0         255.387          40.431         214.956   \n",
       "87714      0.0         258.113           43.86         214.253   \n",
       "87715      0.0         223.616           9.296         214.320   \n",
       "87716      0.0         149.156         149.156           0.000   \n",
       "\n",
       "            총방류량(㎥/s)  소수력(㎥/s)  상수도취수(㎥/s)        가동보(㎥/s)      관리수위이상자연월류  \\\n",
       "0           1,979.978    73.448       0.000       1,568.312         336.928   \n",
       "1           1,985.586    73.322       0.000       1,569.457         341.517   \n",
       "2           1,929.865    73.385       0.000       1,567.100         288.090   \n",
       "3           1,928.188    73.260       0.000       1,565.548         288.090   \n",
       "4           1,927.172    73.402       0.000       1,564.390         288.090   \n",
       "...               ...       ...         ...             ...             ...   \n",
       "87712          66.499     0.000       3.034          54.692             0.0   \n",
       "87713         146.387     0.000       3.034          134.58             0.0   \n",
       "87714         203.585     0.000       3.034         191.778             0.0   \n",
       "87715         205.449     0.000       3.034         193.642             0.0   \n",
       "87716         258.184     0.000       3.034         246.377             0.0   \n",
       "\n",
       "       관계용수취수(㎥/s)  자연형 어도(좌안)_EL.3.9m  인공형 어도(우안)_EL.4.8m  \n",
       "0            0.000                0.75                0.54  \n",
       "1            0.000                0.75                0.54  \n",
       "2            0.000                0.75                0.54  \n",
       "3            0.000                0.75                0.54  \n",
       "4            0.000                0.75                0.54  \n",
       "...            ...                 ...                 ...  \n",
       "87712        8.773                0.00                0.00  \n",
       "87713        8.773                0.00                0.00  \n",
       "87714        8.773                0.00                0.00  \n",
       "87715        8.773                0.00                0.00  \n",
       "87716        8.773                0.00                0.00  \n",
       "\n",
       "[87717 rows x 18 columns]"
      ]
     },
     "execution_count": 7,
     "metadata": {},
     "output_type": "execute_result"
    }
   ],
   "source": [
    "target_df # 10년치 자료 맞는데 일시 col의 숫자만 2012로 나옴.. 정상적인 자료임"
   ]
  },
  {
   "cell_type": "code",
   "execution_count": 8,
   "metadata": {},
   "outputs": [],
   "source": [
    "target_df = target_df[['일시','수위(EL.m)']] # 필요한 정보만 가져가기"
   ]
  },
  {
   "cell_type": "code",
   "execution_count": 9,
   "metadata": {},
   "outputs": [
    {
     "data": {
      "text/plain": [
       "일시          0\n",
       "수위(EL.m)    0\n",
       "dtype: int64"
      ]
     },
     "execution_count": 9,
     "metadata": {},
     "output_type": "execute_result"
    }
   ],
   "source": [
    "target_df.isnull().sum()"
   ]
  },
  {
   "cell_type": "markdown",
   "metadata": {},
   "source": [
    "### Time index 맞추기 (12.08.27 01시 ~ 21.12.31 23시)"
   ]
  },
  {
   "cell_type": "code",
   "execution_count": 10,
   "metadata": {},
   "outputs": [
    {
     "data": {
      "text/plain": [
       "Int64Index([3046, 11805, 20565, 29325, 38109, 46869, 55629, 64389, 73173,\n",
       "            81933],\n",
       "           dtype='int64')"
      ]
     },
     "execution_count": 10,
     "metadata": {},
     "output_type": "execute_result"
    }
   ],
   "source": [
    "# target_df는 [12.08.27 01 ~ 22.08.29 22] 라서 잘라줘야함\n",
    "l = target_df.loc[target_df['일시'] == '2012-12-31 23시'].index # 모든 시간 연도값이 12년도라... 이것들 중에 골라야함\n",
    "l"
   ]
  },
  {
   "cell_type": "code",
   "execution_count": 11,
   "metadata": {},
   "outputs": [],
   "source": [
    "l[-1] # 2021년도 12.31 23시 자료\n",
    "\n",
    "target_df = target_df.truncate(after = l[-1]) # l[-1] 이후로 잘라내기"
   ]
  },
  {
   "cell_type": "code",
   "execution_count": 12,
   "metadata": {},
   "outputs": [
    {
     "data": {
      "text/html": [
       "<div>\n",
       "<style scoped>\n",
       "    .dataframe tbody tr th:only-of-type {\n",
       "        vertical-align: middle;\n",
       "    }\n",
       "\n",
       "    .dataframe tbody tr th {\n",
       "        vertical-align: top;\n",
       "    }\n",
       "\n",
       "    .dataframe thead th {\n",
       "        text-align: right;\n",
       "    }\n",
       "</style>\n",
       "<table border=\"1\" class=\"dataframe\">\n",
       "  <thead>\n",
       "    <tr style=\"text-align: right;\">\n",
       "      <th></th>\n",
       "      <th>일시</th>\n",
       "      <th>수위(EL.m)</th>\n",
       "    </tr>\n",
       "  </thead>\n",
       "  <tbody>\n",
       "    <tr>\n",
       "      <th>0</th>\n",
       "      <td>2012-08-27 01시</td>\n",
       "      <td>5.45</td>\n",
       "    </tr>\n",
       "    <tr>\n",
       "      <th>1</th>\n",
       "      <td>2012-08-27 02시</td>\n",
       "      <td>5.45</td>\n",
       "    </tr>\n",
       "    <tr>\n",
       "      <th>2</th>\n",
       "      <td>2012-08-27 03시</td>\n",
       "      <td>5.45</td>\n",
       "    </tr>\n",
       "    <tr>\n",
       "      <th>3</th>\n",
       "      <td>2012-08-27 04시</td>\n",
       "      <td>5.45</td>\n",
       "    </tr>\n",
       "    <tr>\n",
       "      <th>4</th>\n",
       "      <td>2012-08-27 05시</td>\n",
       "      <td>5.45</td>\n",
       "    </tr>\n",
       "    <tr>\n",
       "      <th>...</th>\n",
       "      <td>...</td>\n",
       "      <td>...</td>\n",
       "    </tr>\n",
       "    <tr>\n",
       "      <th>81929</th>\n",
       "      <td>2012-12-31 19시</td>\n",
       "      <td>4.89</td>\n",
       "    </tr>\n",
       "    <tr>\n",
       "      <th>81930</th>\n",
       "      <td>2012-12-31 20시</td>\n",
       "      <td>4.89</td>\n",
       "    </tr>\n",
       "    <tr>\n",
       "      <th>81931</th>\n",
       "      <td>2012-12-31 21시</td>\n",
       "      <td>4.90</td>\n",
       "    </tr>\n",
       "    <tr>\n",
       "      <th>81932</th>\n",
       "      <td>2012-12-31 22시</td>\n",
       "      <td>4.90</td>\n",
       "    </tr>\n",
       "    <tr>\n",
       "      <th>81933</th>\n",
       "      <td>2012-12-31 23시</td>\n",
       "      <td>4.90</td>\n",
       "    </tr>\n",
       "  </tbody>\n",
       "</table>\n",
       "<p>81934 rows × 2 columns</p>\n",
       "</div>"
      ],
      "text/plain": [
       "                   일시  수위(EL.m)\n",
       "0      2012-08-27 01시      5.45\n",
       "1      2012-08-27 02시      5.45\n",
       "2      2012-08-27 03시      5.45\n",
       "3      2012-08-27 04시      5.45\n",
       "4      2012-08-27 05시      5.45\n",
       "...               ...       ...\n",
       "81929  2012-12-31 19시      4.89\n",
       "81930  2012-12-31 20시      4.89\n",
       "81931  2012-12-31 21시      4.90\n",
       "81932  2012-12-31 22시      4.90\n",
       "81933  2012-12-31 23시      4.90\n",
       "\n",
       "[81934 rows x 2 columns]"
      ]
     },
     "execution_count": 12,
     "metadata": {},
     "output_type": "execute_result"
    }
   ],
   "source": [
    "target_df"
   ]
  },
  {
   "cell_type": "markdown",
   "metadata": {},
   "source": [
    "# 저장\n"
   ]
  },
  {
   "cell_type": "markdown",
   "metadata": {},
   "source": [
    "### 데이터 확인"
   ]
  },
  {
   "cell_type": "code",
   "execution_count": null,
   "metadata": {},
   "outputs": [],
   "source": [
    "rain_df"
   ]
  },
  {
   "cell_type": "code",
   "execution_count": null,
   "metadata": {},
   "outputs": [],
   "source": [
    "water_level_df"
   ]
  },
  {
   "cell_type": "code",
   "execution_count": null,
   "metadata": {},
   "outputs": [],
   "source": [
    "target_df"
   ]
  },
  {
   "cell_type": "markdown",
   "metadata": {},
   "source": [
    "### 저장"
   ]
  },
  {
   "cell_type": "code",
   "execution_count": null,
   "metadata": {},
   "outputs": [],
   "source": [
    "data = pd.DataFrame()\n",
    "data.index = water_level_df['Unnamed: 0']"
   ]
  },
  {
   "cell_type": "code",
   "execution_count": null,
   "metadata": {},
   "outputs": [],
   "source": [
    "# water level / rain fall 합체\n",
    "df1 = pd.concat([water_level_df, rain_df], axis=1)\n",
    "df1.index = df1['Unnamed: 0']\n",
    "df1 = df1.drop(['Unnamed: 0'], axis=1)\n",
    "df1"
   ]
  },
  {
   "cell_type": "code",
   "execution_count": null,
   "metadata": {},
   "outputs": [],
   "source": [
    "df1.to_csv('data.csv', encoding='utf-8-sig')"
   ]
  },
  {
   "cell_type": "code",
   "execution_count": 13,
   "metadata": {},
   "outputs": [],
   "source": [
    "target_df.to_csv('target.csv', encoding='utf-8-sig')"
   ]
  }
 ],
 "metadata": {
  "kernelspec": {
   "display_name": "cw",
   "language": "python",
   "name": "cw"
  },
  "language_info": {
   "codemirror_mode": {
    "name": "ipython",
    "version": 3
   },
   "file_extension": ".py",
   "mimetype": "text/x-python",
   "name": "python",
   "nbconvert_exporter": "python",
   "pygments_lexer": "ipython3",
   "version": "3.8.13"
  },
  "orig_nbformat": 4,
  "vscode": {
   "interpreter": {
    "hash": "25a19fbe0a9132dfb9279d48d161753c6352f8f9478c2e74383d340069b907c3"
   }
  }
 },
 "nbformat": 4,
 "nbformat_minor": 2
}
