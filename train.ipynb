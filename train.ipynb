{
 "cells": [
  {
   "cell_type": "code",
   "execution_count": 1,
   "metadata": {},
   "outputs": [
    {
     "name": "stderr",
     "output_type": "stream",
     "text": [
      "/home/khs1/miniconda3/envs/cw/lib/python3.8/site-packages/scipy/__init__.py:146: UserWarning: A NumPy version >=1.16.5 and <1.23.0 is required for this version of SciPy (detected version 1.23.1\n",
      "  warnings.warn(f\"A NumPy version >={np_minversion} and <{np_maxversion}\"\n"
     ]
    }
   ],
   "source": [
    "import torch\n",
    "import torch.nn as nn\n",
    "import torch.nn.functional as F\n",
    "import torchvision.models as models\n",
    "import math\n",
    "\n",
    "import numpy as np\n",
    "from torch.utils.data import DataLoader\n",
    "from torchvision import transforms, datasets\n",
    "import matplotlib.pyplot as plt\n",
    "import torch\n",
    "import pandas as pd\n",
    "import numpy as np\n",
    "import time\n",
    "import os\n",
    "\n",
    "from sklearn.preprocessing import MinMaxScaler\n",
    "\n",
    "import model\n",
    "from RMSE import RMSELoss"
   ]
  },
  {
   "cell_type": "code",
   "execution_count": 2,
   "metadata": {},
   "outputs": [
    {
     "name": "stdout",
     "output_type": "stream",
     "text": [
      "Device : cuda\n"
     ]
    }
   ],
   "source": [
    "device = torch.device('cuda' if torch.cuda.is_available() else 'cpu')\n",
    "print('Device :', device)"
   ]
  },
  {
   "cell_type": "markdown",
   "metadata": {},
   "source": [
    "# Data 손보기"
   ]
  },
  {
   "cell_type": "code",
   "execution_count": 3,
   "metadata": {},
   "outputs": [
    {
     "name": "stderr",
     "output_type": "stream",
     "text": [
      "/tmp/ipykernel_1778355/1779014282.py:3: DtypeWarning: Columns (4) have mixed types. Specify dtype option on import or set low_memory=False.\n",
      "  df = pd.read_csv('data/data.csv')\n"
     ]
    }
   ],
   "source": [
    "import pandas as pd\n",
    "df_tgt = pd.read_csv('data/target.csv')\n",
    "df = pd.read_csv('data/data.csv')"
   ]
  },
  {
   "cell_type": "code",
   "execution_count": 4,
   "metadata": {},
   "outputs": [
    {
     "name": "stderr",
     "output_type": "stream",
     "text": [
      "/tmp/ipykernel_1778355/1779014282.py:3: DtypeWarning: Columns (4) have mixed types. Specify dtype option on import or set low_memory=False.\n",
      "  df = pd.read_csv('data/data.csv')\n"
     ]
    }
   ],
   "source": [
    "import pandas as pd\n",
    "df_tgt = pd.read_csv('data/target.csv')\n",
    "df = pd.read_csv('data/data.csv')"
   ]
  },
  {
   "cell_type": "code",
   "execution_count": 5,
   "metadata": {},
   "outputs": [
    {
     "data": {
      "text/html": [
       "<div>\n",
       "<style scoped>\n",
       "    .dataframe tbody tr th:only-of-type {\n",
       "        vertical-align: middle;\n",
       "    }\n",
       "\n",
       "    .dataframe tbody tr th {\n",
       "        vertical-align: top;\n",
       "    }\n",
       "\n",
       "    .dataframe thead th {\n",
       "        text-align: right;\n",
       "    }\n",
       "</style>\n",
       "<table border=\"1\" class=\"dataframe\">\n",
       "  <thead>\n",
       "    <tr style=\"text-align: right;\">\n",
       "      <th></th>\n",
       "      <th>창녕함안보_수위(EL.m)</th>\n",
       "    </tr>\n",
       "  </thead>\n",
       "  <tbody>\n",
       "    <tr>\n",
       "      <th>0</th>\n",
       "      <td>5.45</td>\n",
       "    </tr>\n",
       "    <tr>\n",
       "      <th>1</th>\n",
       "      <td>5.45</td>\n",
       "    </tr>\n",
       "    <tr>\n",
       "      <th>2</th>\n",
       "      <td>5.45</td>\n",
       "    </tr>\n",
       "    <tr>\n",
       "      <th>3</th>\n",
       "      <td>5.45</td>\n",
       "    </tr>\n",
       "    <tr>\n",
       "      <th>4</th>\n",
       "      <td>5.45</td>\n",
       "    </tr>\n",
       "    <tr>\n",
       "      <th>...</th>\n",
       "      <td>...</td>\n",
       "    </tr>\n",
       "    <tr>\n",
       "      <th>81930</th>\n",
       "      <td>4.89</td>\n",
       "    </tr>\n",
       "    <tr>\n",
       "      <th>81931</th>\n",
       "      <td>4.89</td>\n",
       "    </tr>\n",
       "    <tr>\n",
       "      <th>81932</th>\n",
       "      <td>4.90</td>\n",
       "    </tr>\n",
       "    <tr>\n",
       "      <th>81933</th>\n",
       "      <td>4.90</td>\n",
       "    </tr>\n",
       "    <tr>\n",
       "      <th>81934</th>\n",
       "      <td>4.90</td>\n",
       "    </tr>\n",
       "  </tbody>\n",
       "</table>\n",
       "<p>81935 rows × 1 columns</p>\n",
       "</div>"
      ],
      "text/plain": [
       "       창녕함안보_수위(EL.m)\n",
       "0                5.45\n",
       "1                5.45\n",
       "2                5.45\n",
       "3                5.45\n",
       "4                5.45\n",
       "...               ...\n",
       "81930            4.89\n",
       "81931            4.89\n",
       "81932            4.90\n",
       "81933            4.90\n",
       "81934            4.90\n",
       "\n",
       "[81935 rows x 1 columns]"
      ]
     },
     "execution_count": 5,
     "metadata": {},
     "output_type": "execute_result"
    }
   ],
   "source": [
    "df_tgt = df_tgt.drop(['Unnamed: 0.1','Unnamed: 0'], axis = 1)\n",
    "df_tgt"
   ]
  },
  {
   "cell_type": "code",
   "execution_count": 6,
   "metadata": {},
   "outputs": [
    {
     "data": {
      "text/html": [
       "<div>\n",
       "<style scoped>\n",
       "    .dataframe tbody tr th:only-of-type {\n",
       "        vertical-align: middle;\n",
       "    }\n",
       "\n",
       "    .dataframe tbody tr th {\n",
       "        vertical-align: top;\n",
       "    }\n",
       "\n",
       "    .dataframe thead th {\n",
       "        text-align: right;\n",
       "    }\n",
       "</style>\n",
       "<table border=\"1\" class=\"dataframe\">\n",
       "  <thead>\n",
       "    <tr style=\"text-align: right;\">\n",
       "      <th></th>\n",
       "      <th>Unnamed: 0</th>\n",
       "      <th>여의리(의령군)_수위</th>\n",
       "      <th>의령군(정암교)_수위</th>\n",
       "      <th>함안군(서출리)_수위</th>\n",
       "      <th>합천군(적포교)_수위</th>\n",
       "      <th>길곡_강수량(mm)</th>\n",
       "      <th>대병_강수량(mm)</th>\n",
       "      <th>창녕_강수량(mm)</th>\n",
       "      <th>청덕_강수량(mm)</th>\n",
       "      <th>함안_강수량(mm)</th>\n",
       "    </tr>\n",
       "  </thead>\n",
       "  <tbody>\n",
       "    <tr>\n",
       "      <th>0</th>\n",
       "      <td>('2012-08-27 1:00', '2012-08-27 01:00:00')</td>\n",
       "      <td>0.57</td>\n",
       "      <td>3.83</td>\n",
       "      <td>4.41</td>\n",
       "      <td>0.63</td>\n",
       "      <td>0.0</td>\n",
       "      <td>0.0</td>\n",
       "      <td>0.0</td>\n",
       "      <td>0.0</td>\n",
       "      <td>0.0</td>\n",
       "    </tr>\n",
       "    <tr>\n",
       "      <th>1</th>\n",
       "      <td>('2012-08-27 2:00', '2012-08-27 02:00:00')</td>\n",
       "      <td>0.57</td>\n",
       "      <td>3.82</td>\n",
       "      <td>4.4</td>\n",
       "      <td>0.63</td>\n",
       "      <td>0.0</td>\n",
       "      <td>0.0</td>\n",
       "      <td>0.0</td>\n",
       "      <td>0.0</td>\n",
       "      <td>0.0</td>\n",
       "    </tr>\n",
       "    <tr>\n",
       "      <th>2</th>\n",
       "      <td>('2012-08-27 3:00', '2012-08-27 03:00:00')</td>\n",
       "      <td>0.57</td>\n",
       "      <td>3.81</td>\n",
       "      <td>4.39</td>\n",
       "      <td>0.62</td>\n",
       "      <td>0.0</td>\n",
       "      <td>0.0</td>\n",
       "      <td>0.0</td>\n",
       "      <td>0.0</td>\n",
       "      <td>0.0</td>\n",
       "    </tr>\n",
       "    <tr>\n",
       "      <th>3</th>\n",
       "      <td>('2012-08-27 4:00', '2012-08-27 04:00:00')</td>\n",
       "      <td>0.57</td>\n",
       "      <td>3.79</td>\n",
       "      <td>4.38</td>\n",
       "      <td>0.61</td>\n",
       "      <td>0.0</td>\n",
       "      <td>0.0</td>\n",
       "      <td>0.0</td>\n",
       "      <td>0.0</td>\n",
       "      <td>0.0</td>\n",
       "    </tr>\n",
       "    <tr>\n",
       "      <th>4</th>\n",
       "      <td>('2012-08-27 5:00', '2012-08-27 05:00:00')</td>\n",
       "      <td>0.57</td>\n",
       "      <td>3.77</td>\n",
       "      <td>4.37</td>\n",
       "      <td>0.60</td>\n",
       "      <td>0.0</td>\n",
       "      <td>0.0</td>\n",
       "      <td>0.0</td>\n",
       "      <td>0.0</td>\n",
       "      <td>0.0</td>\n",
       "    </tr>\n",
       "    <tr>\n",
       "      <th>...</th>\n",
       "      <td>...</td>\n",
       "      <td>...</td>\n",
       "      <td>...</td>\n",
       "      <td>...</td>\n",
       "      <td>...</td>\n",
       "      <td>...</td>\n",
       "      <td>...</td>\n",
       "      <td>...</td>\n",
       "      <td>...</td>\n",
       "      <td>...</td>\n",
       "    </tr>\n",
       "    <tr>\n",
       "      <th>81930</th>\n",
       "      <td>('2021-12-31 19:00', '2021-12-31 19:00:00')</td>\n",
       "      <td>10.09</td>\n",
       "      <td>0.17</td>\n",
       "      <td>1.82</td>\n",
       "      <td>4.36</td>\n",
       "      <td>0.0</td>\n",
       "      <td>0.0</td>\n",
       "      <td>0.0</td>\n",
       "      <td>0.0</td>\n",
       "      <td>0.0</td>\n",
       "    </tr>\n",
       "    <tr>\n",
       "      <th>81931</th>\n",
       "      <td>('2021-12-31 20:00', '2021-12-31 20:00:00')</td>\n",
       "      <td>10.08</td>\n",
       "      <td>0.17</td>\n",
       "      <td>1.81</td>\n",
       "      <td>4.36</td>\n",
       "      <td>0.0</td>\n",
       "      <td>0.0</td>\n",
       "      <td>0.0</td>\n",
       "      <td>0.0</td>\n",
       "      <td>0.0</td>\n",
       "    </tr>\n",
       "    <tr>\n",
       "      <th>81932</th>\n",
       "      <td>('2021-12-31 21:00', '2021-12-31 21:00:00')</td>\n",
       "      <td>10.09</td>\n",
       "      <td>0.17</td>\n",
       "      <td>1.81</td>\n",
       "      <td>4.36</td>\n",
       "      <td>0.0</td>\n",
       "      <td>0.0</td>\n",
       "      <td>0.0</td>\n",
       "      <td>0.0</td>\n",
       "      <td>0.0</td>\n",
       "    </tr>\n",
       "    <tr>\n",
       "      <th>81933</th>\n",
       "      <td>('2021-12-31 22:00', '2021-12-31 22:00:00')</td>\n",
       "      <td>10.1</td>\n",
       "      <td>0.17</td>\n",
       "      <td>1.81</td>\n",
       "      <td>4.36</td>\n",
       "      <td>0.0</td>\n",
       "      <td>0.0</td>\n",
       "      <td>0.0</td>\n",
       "      <td>0.0</td>\n",
       "      <td>0.0</td>\n",
       "    </tr>\n",
       "    <tr>\n",
       "      <th>81934</th>\n",
       "      <td>('2021-12-31 23:00', '2021-12-31 23:00:00')</td>\n",
       "      <td>10.09</td>\n",
       "      <td>0.17</td>\n",
       "      <td>1.81</td>\n",
       "      <td>4.36</td>\n",
       "      <td>0.0</td>\n",
       "      <td>0.0</td>\n",
       "      <td>0.0</td>\n",
       "      <td>0.0</td>\n",
       "      <td>0.0</td>\n",
       "    </tr>\n",
       "  </tbody>\n",
       "</table>\n",
       "<p>81935 rows × 10 columns</p>\n",
       "</div>"
      ],
      "text/plain": [
       "                                        Unnamed: 0 여의리(의령군)_수위  의령군(정암교)_수위  \\\n",
       "0       ('2012-08-27 1:00', '2012-08-27 01:00:00')        0.57         3.83   \n",
       "1       ('2012-08-27 2:00', '2012-08-27 02:00:00')        0.57         3.82   \n",
       "2       ('2012-08-27 3:00', '2012-08-27 03:00:00')        0.57         3.81   \n",
       "3       ('2012-08-27 4:00', '2012-08-27 04:00:00')        0.57         3.79   \n",
       "4       ('2012-08-27 5:00', '2012-08-27 05:00:00')        0.57         3.77   \n",
       "...                                            ...         ...          ...   \n",
       "81930  ('2021-12-31 19:00', '2021-12-31 19:00:00')       10.09         0.17   \n",
       "81931  ('2021-12-31 20:00', '2021-12-31 20:00:00')       10.08         0.17   \n",
       "81932  ('2021-12-31 21:00', '2021-12-31 21:00:00')       10.09         0.17   \n",
       "81933  ('2021-12-31 22:00', '2021-12-31 22:00:00')        10.1         0.17   \n",
       "81934  ('2021-12-31 23:00', '2021-12-31 23:00:00')       10.09         0.17   \n",
       "\n",
       "      함안군(서출리)_수위  합천군(적포교)_수위  길곡_강수량(mm)  대병_강수량(mm)  창녕_강수량(mm)  \\\n",
       "0            4.41         0.63         0.0         0.0         0.0   \n",
       "1             4.4         0.63         0.0         0.0         0.0   \n",
       "2            4.39         0.62         0.0         0.0         0.0   \n",
       "3            4.38         0.61         0.0         0.0         0.0   \n",
       "4            4.37         0.60         0.0         0.0         0.0   \n",
       "...           ...          ...         ...         ...         ...   \n",
       "81930        1.82         4.36         0.0         0.0         0.0   \n",
       "81931        1.81         4.36         0.0         0.0         0.0   \n",
       "81932        1.81         4.36         0.0         0.0         0.0   \n",
       "81933        1.81         4.36         0.0         0.0         0.0   \n",
       "81934        1.81         4.36         0.0         0.0         0.0   \n",
       "\n",
       "       청덕_강수량(mm)  함안_강수량(mm)  \n",
       "0             0.0         0.0  \n",
       "1             0.0         0.0  \n",
       "2             0.0         0.0  \n",
       "3             0.0         0.0  \n",
       "4             0.0         0.0  \n",
       "...           ...         ...  \n",
       "81930         0.0         0.0  \n",
       "81931         0.0         0.0  \n",
       "81932         0.0         0.0  \n",
       "81933         0.0         0.0  \n",
       "81934         0.0         0.0  \n",
       "\n",
       "[81935 rows x 10 columns]"
      ]
     },
     "execution_count": 6,
     "metadata": {},
     "output_type": "execute_result"
    }
   ],
   "source": [
    "df = df.drop(['수산대교(창원)_수위'], axis = 1)\n",
    "df"
   ]
  },
  {
   "cell_type": "markdown",
   "metadata": {},
   "source": [
    "## 결측치('-') 예측"
   ]
  },
  {
   "cell_type": "code",
   "execution_count": 7,
   "metadata": {},
   "outputs": [
    {
     "name": "stdout",
     "output_type": "stream",
     "text": [
      "함안군(서출리)_수위\n",
      "134\n"
     ]
    }
   ],
   "source": [
    "# 결측치('-') 데이터 수 카운트 | 여의리(의령군)_수위 : 1868개 / 함안군(서출리)_수위 : 134개\n",
    "i = 3\n",
    "print(df.columns[i])\n",
    "miss = df[df[df.columns[i]] == '-']\n",
    "print(len(miss))"
   ]
  },
  {
   "cell_type": "markdown",
   "metadata": {},
   "source": [
    "#### 여의리(의령군)_수위 결측치 예측 (RandomForest)"
   ]
  },
  {
   "cell_type": "code",
   "execution_count": 8,
   "metadata": {},
   "outputs": [],
   "source": [
    "from sklearn.ensemble import RandomForestRegressor\n",
    "\n",
    "miss = df[df['여의리(의령군)_수위'] == '-']\n",
    "\n",
    "drop_df = df.drop(miss.index) # 결측치('-')의 인덱스 제거\n",
    "drop_df = drop_df.drop(['Unnamed: 0'], axis = 1) # RF에 넣기 위해 날짜값 제거\n",
    "\n",
    "train_drop_df = drop_df.drop(['여의리(의령군)_수위', '함안군(서출리)_수위'], axis = 1) # label로 쓰일 여의리와 결측치('-')가 있는 함안군 제거\n",
    "label_drop_df = drop_df['여의리(의령군)_수위'] # label\n",
    "\n",
    "\n",
    "\n",
    "rf = RandomForestRegressor()\n",
    "rf.fit(train_drop_df, label_drop_df)\n",
    "\n",
    "# 결측치 예측\n",
    "pred = rf.predict(miss.drop(['여의리(의령군)_수위', '함안군(서출리)_수위', 'Unnamed: 0'], axis = 1))\n",
    "pred\n",
    "\n",
    "\n",
    "df.loc[miss.index, '여의리(의령군)_수위'] = pred"
   ]
  },
  {
   "cell_type": "markdown",
   "metadata": {},
   "source": [
    "#### 함안군(서출리)_수위 결측치"
   ]
  },
  {
   "cell_type": "code",
   "execution_count": 9,
   "metadata": {},
   "outputs": [],
   "source": [
    "miss = df[df['함안군(서출리)_수위'] == '-']\n",
    "\n",
    "drop_df = df.drop(miss.index) # 결측치('-')의 인덱스 제거\n",
    "drop_df = drop_df.drop(['Unnamed: 0'], axis = 1) # RF에 넣기 위해 날짜값 제거\n",
    "\n",
    "train_drop_df = drop_df.drop(['함안군(서출리)_수위'], axis = 1) # label로 쓰일 함안군 제거\n",
    "label_drop_df = drop_df['함안군(서출리)_수위'] # label\n",
    "\n",
    "\n",
    "\n",
    "rf = RandomForestRegressor()\n",
    "rf.fit(train_drop_df, label_drop_df)\n",
    "\n",
    "# 결측치 예측\n",
    "pred = rf.predict(miss.drop(['함안군(서출리)_수위', 'Unnamed: 0'], axis = 1))\n",
    "pred\n",
    "\n",
    "\n",
    "df.loc[miss.index, '함안군(서출리)_수위'] = pred"
   ]
  },
  {
   "cell_type": "code",
   "execution_count": 10,
   "metadata": {},
   "outputs": [
    {
     "name": "stdout",
     "output_type": "stream",
     "text": [
      "Empty DataFrame\n",
      "Columns: [Unnamed: 0, 여의리(의령군)_수위, 의령군(정암교)_수위, 함안군(서출리)_수위, 합천군(적포교)_수위, 길곡_강수량(mm), 대병_강수량(mm), 창녕_강수량(mm), 청덕_강수량(mm), 함안_강수량(mm)]\n",
      "Index: []\n",
      "Empty DataFrame\n",
      "Columns: [Unnamed: 0, 여의리(의령군)_수위, 의령군(정암교)_수위, 함안군(서출리)_수위, 합천군(적포교)_수위, 길곡_강수량(mm), 대병_강수량(mm), 창녕_강수량(mm), 청덕_강수량(mm), 함안_강수량(mm)]\n",
      "Index: []\n"
     ]
    }
   ],
   "source": [
    "print(df[df['여의리(의령군)_수위'] == '-'])\n",
    "print(df[df['함안군(서출리)_수위'] == '-'])"
   ]
  },
  {
   "cell_type": "markdown",
   "metadata": {},
   "source": [
    "# Make Sliding Window"
   ]
  },
  {
   "cell_type": "code",
   "execution_count": 11,
   "metadata": {},
   "outputs": [],
   "source": [
    "def make_sliding_window(data, lag): # data = dataframe, lag = window size\n",
    "\n",
    "    data = data.drop(['Unnamed: 0'], axis = 1)\n",
    "    sliding_lst = [data]\n",
    "\n",
    "    for i in range(lag):\n",
    "        sliding_lst.append(data.shift(i+1))\n",
    "    \n",
    "\n",
    "    sliding_df = pd.concat(sliding_lst, axis=1)\n",
    "    \n",
    "    return sliding_df"
   ]
  },
  {
   "cell_type": "code",
   "execution_count": 12,
   "metadata": {},
   "outputs": [
    {
     "data": {
      "text/html": [
       "<div>\n",
       "<style scoped>\n",
       "    .dataframe tbody tr th:only-of-type {\n",
       "        vertical-align: middle;\n",
       "    }\n",
       "\n",
       "    .dataframe tbody tr th {\n",
       "        vertical-align: top;\n",
       "    }\n",
       "\n",
       "    .dataframe thead th {\n",
       "        text-align: right;\n",
       "    }\n",
       "</style>\n",
       "<table border=\"1\" class=\"dataframe\">\n",
       "  <thead>\n",
       "    <tr style=\"text-align: right;\">\n",
       "      <th></th>\n",
       "      <th>여의리(의령군)_수위</th>\n",
       "      <th>의령군(정암교)_수위</th>\n",
       "      <th>함안군(서출리)_수위</th>\n",
       "      <th>합천군(적포교)_수위</th>\n",
       "      <th>길곡_강수량(mm)</th>\n",
       "      <th>대병_강수량(mm)</th>\n",
       "      <th>창녕_강수량(mm)</th>\n",
       "      <th>청덕_강수량(mm)</th>\n",
       "      <th>함안_강수량(mm)</th>\n",
       "      <th>여의리(의령군)_수위</th>\n",
       "      <th>...</th>\n",
       "      <th>함안_강수량(mm)</th>\n",
       "      <th>여의리(의령군)_수위</th>\n",
       "      <th>의령군(정암교)_수위</th>\n",
       "      <th>함안군(서출리)_수위</th>\n",
       "      <th>합천군(적포교)_수위</th>\n",
       "      <th>길곡_강수량(mm)</th>\n",
       "      <th>대병_강수량(mm)</th>\n",
       "      <th>창녕_강수량(mm)</th>\n",
       "      <th>청덕_강수량(mm)</th>\n",
       "      <th>함안_강수량(mm)</th>\n",
       "    </tr>\n",
       "  </thead>\n",
       "  <tbody>\n",
       "    <tr>\n",
       "      <th>0</th>\n",
       "      <td>0.57</td>\n",
       "      <td>3.83</td>\n",
       "      <td>4.41</td>\n",
       "      <td>0.63</td>\n",
       "      <td>0.0</td>\n",
       "      <td>0.0</td>\n",
       "      <td>0.0</td>\n",
       "      <td>0.0</td>\n",
       "      <td>0.0</td>\n",
       "      <td>NaN</td>\n",
       "      <td>...</td>\n",
       "      <td>NaN</td>\n",
       "      <td>NaN</td>\n",
       "      <td>NaN</td>\n",
       "      <td>NaN</td>\n",
       "      <td>NaN</td>\n",
       "      <td>NaN</td>\n",
       "      <td>NaN</td>\n",
       "      <td>NaN</td>\n",
       "      <td>NaN</td>\n",
       "      <td>NaN</td>\n",
       "    </tr>\n",
       "    <tr>\n",
       "      <th>1</th>\n",
       "      <td>0.57</td>\n",
       "      <td>3.82</td>\n",
       "      <td>4.4</td>\n",
       "      <td>0.63</td>\n",
       "      <td>0.0</td>\n",
       "      <td>0.0</td>\n",
       "      <td>0.0</td>\n",
       "      <td>0.0</td>\n",
       "      <td>0.0</td>\n",
       "      <td>0.57</td>\n",
       "      <td>...</td>\n",
       "      <td>NaN</td>\n",
       "      <td>NaN</td>\n",
       "      <td>NaN</td>\n",
       "      <td>NaN</td>\n",
       "      <td>NaN</td>\n",
       "      <td>NaN</td>\n",
       "      <td>NaN</td>\n",
       "      <td>NaN</td>\n",
       "      <td>NaN</td>\n",
       "      <td>NaN</td>\n",
       "    </tr>\n",
       "    <tr>\n",
       "      <th>2</th>\n",
       "      <td>0.57</td>\n",
       "      <td>3.81</td>\n",
       "      <td>4.39</td>\n",
       "      <td>0.62</td>\n",
       "      <td>0.0</td>\n",
       "      <td>0.0</td>\n",
       "      <td>0.0</td>\n",
       "      <td>0.0</td>\n",
       "      <td>0.0</td>\n",
       "      <td>0.57</td>\n",
       "      <td>...</td>\n",
       "      <td>0.0</td>\n",
       "      <td>NaN</td>\n",
       "      <td>NaN</td>\n",
       "      <td>NaN</td>\n",
       "      <td>NaN</td>\n",
       "      <td>NaN</td>\n",
       "      <td>NaN</td>\n",
       "      <td>NaN</td>\n",
       "      <td>NaN</td>\n",
       "      <td>NaN</td>\n",
       "    </tr>\n",
       "    <tr>\n",
       "      <th>3</th>\n",
       "      <td>0.57</td>\n",
       "      <td>3.79</td>\n",
       "      <td>4.38</td>\n",
       "      <td>0.61</td>\n",
       "      <td>0.0</td>\n",
       "      <td>0.0</td>\n",
       "      <td>0.0</td>\n",
       "      <td>0.0</td>\n",
       "      <td>0.0</td>\n",
       "      <td>0.57</td>\n",
       "      <td>...</td>\n",
       "      <td>0.0</td>\n",
       "      <td>0.57</td>\n",
       "      <td>3.83</td>\n",
       "      <td>4.41</td>\n",
       "      <td>0.63</td>\n",
       "      <td>0.0</td>\n",
       "      <td>0.0</td>\n",
       "      <td>0.0</td>\n",
       "      <td>0.0</td>\n",
       "      <td>0.0</td>\n",
       "    </tr>\n",
       "    <tr>\n",
       "      <th>4</th>\n",
       "      <td>0.57</td>\n",
       "      <td>3.77</td>\n",
       "      <td>4.37</td>\n",
       "      <td>0.60</td>\n",
       "      <td>0.0</td>\n",
       "      <td>0.0</td>\n",
       "      <td>0.0</td>\n",
       "      <td>0.0</td>\n",
       "      <td>0.0</td>\n",
       "      <td>0.57</td>\n",
       "      <td>...</td>\n",
       "      <td>0.0</td>\n",
       "      <td>0.57</td>\n",
       "      <td>3.82</td>\n",
       "      <td>4.4</td>\n",
       "      <td>0.63</td>\n",
       "      <td>0.0</td>\n",
       "      <td>0.0</td>\n",
       "      <td>0.0</td>\n",
       "      <td>0.0</td>\n",
       "      <td>0.0</td>\n",
       "    </tr>\n",
       "    <tr>\n",
       "      <th>...</th>\n",
       "      <td>...</td>\n",
       "      <td>...</td>\n",
       "      <td>...</td>\n",
       "      <td>...</td>\n",
       "      <td>...</td>\n",
       "      <td>...</td>\n",
       "      <td>...</td>\n",
       "      <td>...</td>\n",
       "      <td>...</td>\n",
       "      <td>...</td>\n",
       "      <td>...</td>\n",
       "      <td>...</td>\n",
       "      <td>...</td>\n",
       "      <td>...</td>\n",
       "      <td>...</td>\n",
       "      <td>...</td>\n",
       "      <td>...</td>\n",
       "      <td>...</td>\n",
       "      <td>...</td>\n",
       "      <td>...</td>\n",
       "      <td>...</td>\n",
       "    </tr>\n",
       "    <tr>\n",
       "      <th>81930</th>\n",
       "      <td>10.09</td>\n",
       "      <td>0.17</td>\n",
       "      <td>1.82</td>\n",
       "      <td>4.36</td>\n",
       "      <td>0.0</td>\n",
       "      <td>0.0</td>\n",
       "      <td>0.0</td>\n",
       "      <td>0.0</td>\n",
       "      <td>0.0</td>\n",
       "      <td>10.09</td>\n",
       "      <td>...</td>\n",
       "      <td>0.0</td>\n",
       "      <td>10.1</td>\n",
       "      <td>0.17</td>\n",
       "      <td>1.84</td>\n",
       "      <td>4.36</td>\n",
       "      <td>0.0</td>\n",
       "      <td>0.0</td>\n",
       "      <td>0.0</td>\n",
       "      <td>0.0</td>\n",
       "      <td>0.0</td>\n",
       "    </tr>\n",
       "    <tr>\n",
       "      <th>81931</th>\n",
       "      <td>10.08</td>\n",
       "      <td>0.17</td>\n",
       "      <td>1.81</td>\n",
       "      <td>4.36</td>\n",
       "      <td>0.0</td>\n",
       "      <td>0.0</td>\n",
       "      <td>0.0</td>\n",
       "      <td>0.0</td>\n",
       "      <td>0.0</td>\n",
       "      <td>10.09</td>\n",
       "      <td>...</td>\n",
       "      <td>0.0</td>\n",
       "      <td>10.1</td>\n",
       "      <td>0.17</td>\n",
       "      <td>1.83</td>\n",
       "      <td>4.36</td>\n",
       "      <td>0.0</td>\n",
       "      <td>0.0</td>\n",
       "      <td>0.0</td>\n",
       "      <td>0.0</td>\n",
       "      <td>0.0</td>\n",
       "    </tr>\n",
       "    <tr>\n",
       "      <th>81932</th>\n",
       "      <td>10.09</td>\n",
       "      <td>0.17</td>\n",
       "      <td>1.81</td>\n",
       "      <td>4.36</td>\n",
       "      <td>0.0</td>\n",
       "      <td>0.0</td>\n",
       "      <td>0.0</td>\n",
       "      <td>0.0</td>\n",
       "      <td>0.0</td>\n",
       "      <td>10.08</td>\n",
       "      <td>...</td>\n",
       "      <td>0.0</td>\n",
       "      <td>10.09</td>\n",
       "      <td>0.17</td>\n",
       "      <td>1.82</td>\n",
       "      <td>4.36</td>\n",
       "      <td>0.0</td>\n",
       "      <td>0.0</td>\n",
       "      <td>0.0</td>\n",
       "      <td>0.0</td>\n",
       "      <td>0.0</td>\n",
       "    </tr>\n",
       "    <tr>\n",
       "      <th>81933</th>\n",
       "      <td>10.1</td>\n",
       "      <td>0.17</td>\n",
       "      <td>1.81</td>\n",
       "      <td>4.36</td>\n",
       "      <td>0.0</td>\n",
       "      <td>0.0</td>\n",
       "      <td>0.0</td>\n",
       "      <td>0.0</td>\n",
       "      <td>0.0</td>\n",
       "      <td>10.09</td>\n",
       "      <td>...</td>\n",
       "      <td>0.0</td>\n",
       "      <td>10.09</td>\n",
       "      <td>0.17</td>\n",
       "      <td>1.82</td>\n",
       "      <td>4.36</td>\n",
       "      <td>0.0</td>\n",
       "      <td>0.0</td>\n",
       "      <td>0.0</td>\n",
       "      <td>0.0</td>\n",
       "      <td>0.0</td>\n",
       "    </tr>\n",
       "    <tr>\n",
       "      <th>81934</th>\n",
       "      <td>10.09</td>\n",
       "      <td>0.17</td>\n",
       "      <td>1.81</td>\n",
       "      <td>4.36</td>\n",
       "      <td>0.0</td>\n",
       "      <td>0.0</td>\n",
       "      <td>0.0</td>\n",
       "      <td>0.0</td>\n",
       "      <td>0.0</td>\n",
       "      <td>10.1</td>\n",
       "      <td>...</td>\n",
       "      <td>0.0</td>\n",
       "      <td>10.08</td>\n",
       "      <td>0.17</td>\n",
       "      <td>1.81</td>\n",
       "      <td>4.36</td>\n",
       "      <td>0.0</td>\n",
       "      <td>0.0</td>\n",
       "      <td>0.0</td>\n",
       "      <td>0.0</td>\n",
       "      <td>0.0</td>\n",
       "    </tr>\n",
       "  </tbody>\n",
       "</table>\n",
       "<p>81935 rows × 36 columns</p>\n",
       "</div>"
      ],
      "text/plain": [
       "      여의리(의령군)_수위  의령군(정암교)_수위  함안군(서출리)_수위  합천군(적포교)_수위  길곡_강수량(mm)  \\\n",
       "0            0.57         3.83         4.41         0.63         0.0   \n",
       "1            0.57         3.82          4.4         0.63         0.0   \n",
       "2            0.57         3.81         4.39         0.62         0.0   \n",
       "3            0.57         3.79         4.38         0.61         0.0   \n",
       "4            0.57         3.77         4.37         0.60         0.0   \n",
       "...           ...          ...          ...          ...         ...   \n",
       "81930       10.09         0.17         1.82         4.36         0.0   \n",
       "81931       10.08         0.17         1.81         4.36         0.0   \n",
       "81932       10.09         0.17         1.81         4.36         0.0   \n",
       "81933        10.1         0.17         1.81         4.36         0.0   \n",
       "81934       10.09         0.17         1.81         4.36         0.0   \n",
       "\n",
       "       대병_강수량(mm)  창녕_강수량(mm) 청덕_강수량(mm)  함안_강수량(mm) 여의리(의령군)_수위  ...  \\\n",
       "0             0.0         0.0        0.0         0.0         NaN  ...   \n",
       "1             0.0         0.0        0.0         0.0        0.57  ...   \n",
       "2             0.0         0.0        0.0         0.0        0.57  ...   \n",
       "3             0.0         0.0        0.0         0.0        0.57  ...   \n",
       "4             0.0         0.0        0.0         0.0        0.57  ...   \n",
       "...           ...         ...        ...         ...         ...  ...   \n",
       "81930         0.0         0.0        0.0         0.0       10.09  ...   \n",
       "81931         0.0         0.0        0.0         0.0       10.09  ...   \n",
       "81932         0.0         0.0        0.0         0.0       10.08  ...   \n",
       "81933         0.0         0.0        0.0         0.0       10.09  ...   \n",
       "81934         0.0         0.0        0.0         0.0        10.1  ...   \n",
       "\n",
       "       함안_강수량(mm) 여의리(의령군)_수위  의령군(정암교)_수위  함안군(서출리)_수위  합천군(적포교)_수위  \\\n",
       "0             NaN         NaN          NaN          NaN          NaN   \n",
       "1             NaN         NaN          NaN          NaN          NaN   \n",
       "2             0.0         NaN          NaN          NaN          NaN   \n",
       "3             0.0        0.57         3.83         4.41         0.63   \n",
       "4             0.0        0.57         3.82          4.4         0.63   \n",
       "...           ...         ...          ...          ...          ...   \n",
       "81930         0.0        10.1         0.17         1.84         4.36   \n",
       "81931         0.0        10.1         0.17         1.83         4.36   \n",
       "81932         0.0       10.09         0.17         1.82         4.36   \n",
       "81933         0.0       10.09         0.17         1.82         4.36   \n",
       "81934         0.0       10.08         0.17         1.81         4.36   \n",
       "\n",
       "       길곡_강수량(mm)  대병_강수량(mm)  창녕_강수량(mm) 청덕_강수량(mm)  함안_강수량(mm)  \n",
       "0             NaN         NaN         NaN        NaN         NaN  \n",
       "1             NaN         NaN         NaN        NaN         NaN  \n",
       "2             NaN         NaN         NaN        NaN         NaN  \n",
       "3             0.0         0.0         0.0        0.0         0.0  \n",
       "4             0.0         0.0         0.0        0.0         0.0  \n",
       "...           ...         ...         ...        ...         ...  \n",
       "81930         0.0         0.0         0.0        0.0         0.0  \n",
       "81931         0.0         0.0         0.0        0.0         0.0  \n",
       "81932         0.0         0.0         0.0        0.0         0.0  \n",
       "81933         0.0         0.0         0.0        0.0         0.0  \n",
       "81934         0.0         0.0         0.0        0.0         0.0  \n",
       "\n",
       "[81935 rows x 36 columns]"
      ]
     },
     "execution_count": 12,
     "metadata": {},
     "output_type": "execute_result"
    }
   ],
   "source": [
    "window_size = 3\n",
    "\n",
    "sliding_df = make_sliding_window(df, window_size) # window = 12\n",
    "sliding_df"
   ]
  },
  {
   "cell_type": "code",
   "execution_count": 13,
   "metadata": {},
   "outputs": [
    {
     "data": {
      "text/plain": [
       "여의리(의령군)_수위    0\n",
       "의령군(정암교)_수위    0\n",
       "함안군(서출리)_수위    0\n",
       "합천군(적포교)_수위    0\n",
       "길곡_강수량(mm)     0\n",
       "대병_강수량(mm)     0\n",
       "창녕_강수량(mm)     0\n",
       "청덕_강수량(mm)     0\n",
       "함안_강수량(mm)     0\n",
       "여의리(의령군)_수위    1\n",
       "의령군(정암교)_수위    1\n",
       "함안군(서출리)_수위    1\n",
       "합천군(적포교)_수위    1\n",
       "길곡_강수량(mm)     1\n",
       "대병_강수량(mm)     1\n",
       "창녕_강수량(mm)     1\n",
       "청덕_강수량(mm)     1\n",
       "함안_강수량(mm)     1\n",
       "여의리(의령군)_수위    2\n",
       "의령군(정암교)_수위    2\n",
       "함안군(서출리)_수위    2\n",
       "합천군(적포교)_수위    2\n",
       "길곡_강수량(mm)     2\n",
       "대병_강수량(mm)     2\n",
       "창녕_강수량(mm)     2\n",
       "청덕_강수량(mm)     2\n",
       "함안_강수량(mm)     2\n",
       "여의리(의령군)_수위    3\n",
       "의령군(정암교)_수위    3\n",
       "함안군(서출리)_수위    3\n",
       "합천군(적포교)_수위    3\n",
       "길곡_강수량(mm)     3\n",
       "대병_강수량(mm)     3\n",
       "창녕_강수량(mm)     3\n",
       "청덕_강수량(mm)     3\n",
       "함안_강수량(mm)     3\n",
       "dtype: int64"
      ]
     },
     "execution_count": 13,
     "metadata": {},
     "output_type": "execute_result"
    }
   ],
   "source": [
    "sliding_df.isnull().sum()"
   ]
  },
  {
   "cell_type": "code",
   "execution_count": 14,
   "metadata": {},
   "outputs": [],
   "source": [
    "sliding_df = sliding_df.truncate(before=window_size) # Nan 값이 있는 맨 앞 window_size개 데이터 자르기\n",
    "df_tgt = df_tgt.truncate(before=window_size)"
   ]
  },
  {
   "cell_type": "markdown",
   "metadata": {},
   "source": [
    "## Split Train / Test"
   ]
  },
  {
   "cell_type": "code",
   "execution_count": 15,
   "metadata": {},
   "outputs": [
    {
     "name": "stdout",
     "output_type": "stream",
     "text": [
      "여의리(의령군)_수위        -0.7\n",
      "의령군(정암교)_수위         0.5\n",
      "함안군(서출리)_수위        1.76\n",
      "합천군(적포교)_수위        4.25\n",
      "길곡_강수량(mm)          0.0\n",
      "대병_강수량(mm)          0.0\n",
      "창녕_강수량(mm)          0.0\n",
      "청덕_강수량(mm)          0.0\n",
      "함안_강수량(mm)          0.0\n",
      "여의리(의령군)_수위       -0.71\n",
      "의령군(정암교)_수위        0.52\n",
      "함안군(서출리)_수위        1.76\n",
      "합천군(적포교)_수위       -0.76\n",
      "길곡_강수량(mm)          0.0\n",
      "대병_강수량(mm)          0.0\n",
      "창녕_강수량(mm)          0.0\n",
      "청덕_강수량(mm)          0.0\n",
      "함안_강수량(mm)          0.0\n",
      "여의리(의령군)_수위       -0.66\n",
      "의령군(정암교)_수위        0.53\n",
      "함안군(서출리)_수위        1.76\n",
      "합천군(적포교)_수위   -0.750238\n",
      "길곡_강수량(mm)          0.0\n",
      "대병_강수량(mm)          0.0\n",
      "창녕_강수량(mm)          0.0\n",
      "청덕_강수량(mm)          0.0\n",
      "함안_강수량(mm)          0.0\n",
      "여의리(의령군)_수위       -0.67\n",
      "의령군(정암교)_수위        0.54\n",
      "함안군(서출리)_수위        1.79\n",
      "합천군(적포교)_수위   -0.749048\n",
      "길곡_강수량(mm)          0.0\n",
      "대병_강수량(mm)          0.0\n",
      "창녕_강수량(mm)          0.0\n",
      "청덕_강수량(mm)          0.0\n",
      "함안_강수량(mm)          0.0\n",
      "Name: 64392, dtype: object\n"
     ]
    }
   ],
   "source": [
    "# Train : 2012-08-27 13:00:00 ~ 2020-01-01 00:00:00\n",
    "# Test  : 2020-01-01 01:00:00 ~ 2021-12-31 23:00:00\n",
    "\n",
    "print(sliding_df.loc[64392]) # 2020-01-01 00:00:00 기준"
   ]
  },
  {
   "cell_type": "code",
   "execution_count": 16,
   "metadata": {},
   "outputs": [],
   "source": [
    "train_df = sliding_df.truncate(after=64391)\n",
    "test_df = sliding_df.truncate(before=64392)\n",
    "\n",
    "train_label_df = df_tgt.truncate(after=64391)\n",
    "test_label_df = df_tgt.truncate(before=64392)"
   ]
  },
  {
   "cell_type": "code",
   "execution_count": 17,
   "metadata": {},
   "outputs": [
    {
     "data": {
      "text/plain": [
       "17543"
      ]
     },
     "execution_count": 17,
     "metadata": {},
     "output_type": "execute_result"
    }
   ],
   "source": [
    "len(test_df)"
   ]
  },
  {
   "cell_type": "markdown",
   "metadata": {},
   "source": [
    "# Network Save/load"
   ]
  },
  {
   "cell_type": "code",
   "execution_count": 18,
   "metadata": {},
   "outputs": [],
   "source": [
    "def save(ckpt_dir, net, optim, epoch):\n",
    "    if not os.path.exists(ckpt_dir):\n",
    "        os.makedirs(ckpt_dir)\n",
    "    torch.save({'net' : net.state_dict(), 'optim' : optim.state_dict()}, \n",
    "    './%s/model_epoch%d.pth' % (ckpt_dir, epoch))\n",
    "\n",
    "def load(ckpt_dir, net, optim):\n",
    "    if not os.path.exists(ckpt_dir):\n",
    "        epoch = 0\n",
    "        return net, optim, epoch\n",
    "\n",
    "    ckpt_lst = os.listdir(ckpt_dir)\n",
    "    ckpt_lst.sort(key = lambda f : int(''.join(filter(str.isdigit, f))))\n",
    "\n",
    "    dict_model = torch.load('./%s/%s' % (ckpt_dir, ckpt_lst[-1]))\n",
    "\n",
    "    net.load_state_dict(dict_model['net'])\n",
    "    optim.load_state_dict(dict_model['optim'])\n",
    "    epoch = int(ckpt_lst[-1].split('epoch')[1].split('.pth')[0])\n",
    "\n",
    "    return net, optim, epoch"
   ]
  },
  {
   "cell_type": "markdown",
   "metadata": {},
   "source": [
    "# Dataset"
   ]
  },
  {
   "cell_type": "code",
   "execution_count": 19,
   "metadata": {},
   "outputs": [],
   "source": [
    "class Dataset(torch.utils.data.Dataset):\n",
    "    def __init__(self, data, target):\n",
    "    \n",
    "        self.data = data\n",
    "        self.target = target\n",
    "\n",
    "        scaler = MinMaxScaler() # 스케일링\n",
    "        self.data = pd.DataFrame(scaler.fit_transform(self.data)) \n",
    "        # self.target = pd.DataFrame(scaler.fit_transform(self.target))\n",
    "\n",
    "        self.data = torch.tensor(self.data.values).float() # 텐서 변환\n",
    "        self.target = torch.tensor(self.target.values).float()\n",
    "\n",
    "\n",
    "    def __len__(self):\n",
    "        return len(self.data)\n",
    "\n",
    "    def __getitem__(self,idx):\n",
    "\n",
    "        data = self.data[idx]\n",
    "        target = self.target[idx]\n",
    "\n",
    "        return data, target"
   ]
  },
  {
   "cell_type": "code",
   "execution_count": 20,
   "metadata": {},
   "outputs": [],
   "source": [
    "train_dataset = Dataset(train_df, train_label_df)\n",
    "test_dataset = Dataset(test_df, test_label_df)"
   ]
  },
  {
   "cell_type": "markdown",
   "metadata": {},
   "source": [
    "# Train / Val Function and Other Components"
   ]
  },
  {
   "cell_type": "code",
   "execution_count": 21,
   "metadata": {},
   "outputs": [],
   "source": [
    "# Parameters\n",
    "lr = 1e-3\n",
    "batch_size = 64\n",
    "num_epoch = 50\n",
    "\n",
    "net = model.TDNN().to(device)\n",
    "loss_fn = RMSELoss().to(device)\n",
    "optim = torch.optim.Adam(net.parameters(), lr=lr)\n",
    "\n",
    "ckpt_dir = './checkpoint'"
   ]
  },
  {
   "cell_type": "code",
   "execution_count": 22,
   "metadata": {},
   "outputs": [],
   "source": [
    "def train(model, train_loader):\n",
    "    model.train()\n",
    "    train_loss_arr = []\n",
    "\n",
    "    for batch_idx, (data, target) in enumerate(train_loader, start = 1):\n",
    "        target = target.to(device)\n",
    "        data = data.to(device)\n",
    "\n",
    "        output = model(data)\n",
    "\n",
    "        optim.zero_grad()\n",
    "        loss = loss_fn(output, target)\n",
    "        loss.backward()\n",
    "        optim.step()\n",
    "        train_loss_arr.append(loss.item())\n",
    "    \n",
    "    return np.mean(train_loss_arr)\n",
    "\n",
    "def evaluate(model, test_loader):\n",
    "    with torch.no_grad():\n",
    "        model.eval()\n",
    "        val_loss_arr = []\n",
    "        output_lst = []\n",
    "\n",
    "        \n",
    "        for batch_idx, (data, target) in enumerate(test_loader, start = 1):\n",
    "            target = target.to(device)\n",
    "            data = data.to(device)\n",
    "\n",
    "            output = model(data)\n",
    "\n",
    "            save_output = output.cpu()            \n",
    "            output_lst.append(save_output)\n",
    "\n",
    "            loss = loss_fn(output, target)\n",
    "            val_loss_arr.append(loss.item())\n",
    "\n",
    "    return np.mean(val_loss_arr), output_lst"
   ]
  },
  {
   "cell_type": "markdown",
   "metadata": {},
   "source": [
    "# Running"
   ]
  },
  {
   "cell_type": "markdown",
   "metadata": {},
   "source": [
    "## Train"
   ]
  },
  {
   "cell_type": "code",
   "execution_count": 23,
   "metadata": {},
   "outputs": [
    {
     "name": "stdout",
     "output_type": "stream",
     "text": [
      "Start Epoch : 10\n",
      "EPOCH 0011 / 0050 | ELAPSED_TIME 2.3314\n",
      "TRAIN_LOSS 1.5170\n",
      "EPOCH 0012 / 0050 | ELAPSED_TIME 2.3308\n",
      "TRAIN_LOSS 1.5007\n",
      "EPOCH 0013 / 0050 | ELAPSED_TIME 2.3153\n",
      "TRAIN_LOSS 1.5017\n",
      "EPOCH 0014 / 0050 | ELAPSED_TIME 2.2690\n",
      "TRAIN_LOSS 1.4966\n",
      "EPOCH 0015 / 0050 | ELAPSED_TIME 2.2535\n",
      "TRAIN_LOSS 1.5187\n",
      "EPOCH 0016 / 0050 | ELAPSED_TIME 2.3523\n",
      "TRAIN_LOSS 1.5080\n",
      "EPOCH 0017 / 0050 | ELAPSED_TIME 2.2366\n",
      "TRAIN_LOSS 1.4918\n",
      "EPOCH 0018 / 0050 | ELAPSED_TIME 2.3809\n",
      "TRAIN_LOSS 1.4952\n",
      "EPOCH 0019 / 0050 | ELAPSED_TIME 2.2611\n",
      "TRAIN_LOSS 1.4929\n",
      "EPOCH 0020 / 0050 | ELAPSED_TIME 2.2559\n",
      "TRAIN_LOSS 1.5042\n",
      "EPOCH 0021 / 0050 | ELAPSED_TIME 2.3626\n",
      "TRAIN_LOSS 1.4891\n",
      "EPOCH 0022 / 0050 | ELAPSED_TIME 2.3069\n",
      "TRAIN_LOSS 1.5077\n",
      "EPOCH 0023 / 0050 | ELAPSED_TIME 2.2485\n",
      "TRAIN_LOSS 1.5085\n",
      "EPOCH 0024 / 0050 | ELAPSED_TIME 2.3044\n",
      "TRAIN_LOSS 1.5066\n",
      "EPOCH 0025 / 0050 | ELAPSED_TIME 2.1537\n",
      "TRAIN_LOSS 1.4692\n",
      "EPOCH 0026 / 0050 | ELAPSED_TIME 2.3479\n",
      "TRAIN_LOSS 1.5061\n",
      "EPOCH 0027 / 0050 | ELAPSED_TIME 2.2922\n",
      "TRAIN_LOSS 1.5075\n",
      "EPOCH 0028 / 0050 | ELAPSED_TIME 2.3885\n",
      "TRAIN_LOSS 1.4966\n",
      "EPOCH 0029 / 0050 | ELAPSED_TIME 2.1701\n",
      "TRAIN_LOSS 1.4817\n",
      "EPOCH 0030 / 0050 | ELAPSED_TIME 2.2961\n",
      "TRAIN_LOSS 1.4986\n",
      "EPOCH 0031 / 0050 | ELAPSED_TIME 2.2319\n",
      "TRAIN_LOSS 1.5068\n",
      "EPOCH 0032 / 0050 | ELAPSED_TIME 2.2524\n",
      "TRAIN_LOSS 1.5073\n",
      "EPOCH 0033 / 0050 | ELAPSED_TIME 2.0877\n",
      "TRAIN_LOSS 1.4909\n",
      "EPOCH 0034 / 0050 | ELAPSED_TIME 2.3907\n",
      "TRAIN_LOSS 1.4927\n",
      "EPOCH 0035 / 0050 | ELAPSED_TIME 2.3144\n",
      "TRAIN_LOSS 1.4862\n",
      "EPOCH 0036 / 0050 | ELAPSED_TIME 2.0173\n",
      "TRAIN_LOSS 1.4788\n",
      "EPOCH 0037 / 0050 | ELAPSED_TIME 2.1406\n",
      "TRAIN_LOSS 1.4954\n",
      "EPOCH 0038 / 0050 | ELAPSED_TIME 2.3298\n",
      "TRAIN_LOSS 1.5039\n",
      "EPOCH 0039 / 0050 | ELAPSED_TIME 2.3273\n",
      "TRAIN_LOSS 1.4911\n",
      "EPOCH 0040 / 0050 | ELAPSED_TIME 2.2794\n",
      "TRAIN_LOSS 1.4908\n",
      "EPOCH 0041 / 0050 | ELAPSED_TIME 2.2477\n",
      "TRAIN_LOSS 1.4981\n",
      "EPOCH 0042 / 0050 | ELAPSED_TIME 2.2140\n",
      "TRAIN_LOSS 1.5133\n",
      "EPOCH 0043 / 0050 | ELAPSED_TIME 2.3788\n",
      "TRAIN_LOSS 1.4920\n",
      "EPOCH 0044 / 0050 | ELAPSED_TIME 2.1965\n",
      "TRAIN_LOSS 1.4977\n",
      "EPOCH 0045 / 0050 | ELAPSED_TIME 2.2529\n",
      "TRAIN_LOSS 1.5022\n",
      "EPOCH 0046 / 0050 | ELAPSED_TIME 2.1994\n",
      "TRAIN_LOSS 1.4921\n",
      "EPOCH 0047 / 0050 | ELAPSED_TIME 2.2378\n",
      "TRAIN_LOSS 1.5050\n",
      "EPOCH 0048 / 0050 | ELAPSED_TIME 2.4347\n",
      "TRAIN_LOSS 1.5008\n",
      "EPOCH 0049 / 0050 | ELAPSED_TIME 2.3332\n",
      "TRAIN_LOSS 1.4921\n",
      "EPOCH 0050 / 0050 | ELAPSED_TIME 2.4379\n",
      "TRAIN_LOSS 1.4906\n"
     ]
    }
   ],
   "source": [
    "net, optim, st_epoch = load(ckpt_dir = ckpt_dir, net = net, optim = optim)\n",
    "\n",
    "train_loader = DataLoader(train_dataset, batch_size = batch_size, shuffle = False, num_workers = 8)\n",
    "\n",
    "print('Start Epoch :', st_epoch)\n",
    "\n",
    "train_loss_lst = []\n",
    "val_loss_lst = []\n",
    "\n",
    "for epoch in range(st_epoch + 1, num_epoch + 1):\n",
    "    since = time.time()\n",
    "    \n",
    "    train_loss = train(model = net, train_loader = train_loader)\n",
    "\n",
    "    train_loss_lst.append(train_loss)\n",
    "\n",
    "    elapsed_time = time.time()-since\n",
    "    print('EPOCH %04d / %04d | ELAPSED_TIME %.4f' %(epoch, num_epoch, elapsed_time))\n",
    "    print('TRAIN_LOSS %.4f' %(train_loss))\n",
    "\n",
    "    if epoch % 2 == 0:\n",
    "        save(ckpt_dir = ckpt_dir, net = net, optim = optim, epoch = epoch)"
   ]
  },
  {
   "cell_type": "markdown",
   "metadata": {},
   "source": [
    "## Test"
   ]
  },
  {
   "cell_type": "code",
   "execution_count": 24,
   "metadata": {},
   "outputs": [
    {
     "name": "stdout",
     "output_type": "stream",
     "text": [
      "Test Loss : 1.6338823125287036\n"
     ]
    }
   ],
   "source": [
    "test_loader = DataLoader(test_dataset, batch_size = 1, shuffle = False, num_workers= 8)\n",
    "test_loss, output_lst = evaluate(net, test_loader)\n",
    "print('Test Loss :', test_loss)"
   ]
  },
  {
   "cell_type": "code",
   "execution_count": 25,
   "metadata": {},
   "outputs": [
    {
     "data": {
      "text/plain": [
       "17543"
      ]
     },
     "execution_count": 25,
     "metadata": {},
     "output_type": "execute_result"
    }
   ],
   "source": [
    "len(output_lst)"
   ]
  },
  {
   "cell_type": "code",
   "execution_count": 26,
   "metadata": {},
   "outputs": [
    {
     "name": "stderr",
     "output_type": "stream",
     "text": [
      "/home/khs1/miniconda3/envs/cw/lib/python3.8/site-packages/numpy/core/shape_base.py:65: FutureWarning: The input object of type 'Tensor' is an array-like implementing one of the corresponding protocols (`__array__`, `__array_interface__` or `__array_struct__`); but not a sequence (or 0-D). In the future, this object will be coerced as if it was first converted using `np.array(obj)`. To retain the old behaviour, you have to either modify the type 'Tensor', or assign to an empty array created with `np.empty(correct_shape, dtype=object)`.\n",
      "  ary = asanyarray(ary)\n",
      "/home/khs1/miniconda3/envs/cw/lib/python3.8/site-packages/numpy/core/shape_base.py:65: VisibleDeprecationWarning: Creating an ndarray from ragged nested sequences (which is a list-or-tuple of lists-or-tuples-or ndarrays with different lengths or shapes) is deprecated. If you meant to do this, you must specify 'dtype=object' when creating the ndarray.\n",
      "  ary = asanyarray(ary)\n"
     ]
    },
    {
     "data": {
      "text/plain": [
       "[<matplotlib.lines.Line2D at 0x7f46a38fffa0>]"
      ]
     },
     "execution_count": 26,
     "metadata": {},
     "output_type": "execute_result"
    },
    {
     "data": {
      "image/png": "[encoded data removed]",
      "text/plain": [
       "<Figure size 640x480 with 1 Axes>"
      ]
     },
     "metadata": {},
     "output_type": "display_data"
    }
   ],
   "source": [
    "plt.plot(output_lst, color = 'b')\n",
    "plt.plot(test_label_df.values, color = 'r')"
   ]
  },
  {
   "cell_type": "code",
   "execution_count": 27,
   "metadata": {},
   "outputs": [
    {
     "data": {
      "text/plain": [
       "[<matplotlib.lines.Line2D at 0x7f46a3432f70>]"
      ]
     },
     "execution_count": 27,
     "metadata": {},
     "output_type": "execute_result"
    },
    {
     "data": {
      "image/png": "[encoded data removed]",
      "text/plain": [
       "<Figure size 640x480 with 1 Axes>"
      ]
     },
     "metadata": {},
     "output_type": "display_data"
    }
   ],
   "source": [
    "plt.plot(train_label_df)"
   ]
  },
  {
   "cell_type": "markdown",
   "metadata": {},
   "source": [
    "# Reload model"
   ]
  },
  {
   "cell_type": "code",
   "execution_count": 28,
   "metadata": {},
   "outputs": [
    {
     "data": {
      "text/plain": [
       "<module 'model' from '/home/khs1/khs/changwon/2022ChangWon_BigData/model.py'>"
      ]
     },
     "execution_count": 28,
     "metadata": {},
     "output_type": "execute_result"
    }
   ],
   "source": [
    "import importlib\n",
    "importlib.reload(model)"
   ]
  }
 ],
 "metadata": {
  "kernelspec": {
   "display_name": "cw",
   "language": "python",
   "name": "cw"
  },
  "language_info": {
   "codemirror_mode": {
    "name": "ipython",
    "version": 3
   },
   "file_extension": ".py",
   "mimetype": "text/x-python",
   "name": "python",
   "nbconvert_exporter": "python",
   "pygments_lexer": "ipython3",
   "version": "3.8.13"
  },
  "orig_nbformat": 4,
  "vscode": {
   "interpreter": {
    "hash": "31f2aee4e71d21fbe5cf8b01ff0e069b9275f58929596ceb00d14d90e3e16cd6"
   }
  }
 },
 "nbformat": 4,
 "nbformat_minor": 2
}
