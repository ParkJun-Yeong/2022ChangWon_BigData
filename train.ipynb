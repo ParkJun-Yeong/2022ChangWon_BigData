{
 "cells": [
  {
   "cell_type": "code",
   "execution_count": 1,
   "metadata": {},
   "outputs": [
    {
     "name": "stderr",
     "output_type": "stream",
     "text": [
      "/home/khs1/miniconda3/envs/cw/lib/python3.8/site-packages/scipy/__init__.py:146: UserWarning: A NumPy version >=1.16.5 and <1.23.0 is required for this version of SciPy (detected version 1.23.1\n",
      "  warnings.warn(f\"A NumPy version >={np_minversion} and <{np_maxversion}\"\n"
     ]
    }
   ],
   "source": [
    "import torch\n",
    "import torch.nn as nn\n",
    "import torch.nn.functional as F\n",
    "import torchvision.models as models\n",
    "import math\n",
    "\n",
    "import numpy as np\n",
    "from torch.utils.data import DataLoader\n",
    "from torchvision import transforms, datasets\n",
    "import matplotlib.pyplot as plt\n",
    "import torch\n",
    "import pandas as pd\n",
    "import numpy as np\n",
    "import time\n",
    "import os\n",
    "\n",
    "from sklearn.preprocessing import MinMaxScaler\n",
    "\n",
    "import model\n",
    "from RMSE import RMSELoss"
   ]
  },
  {
   "cell_type": "code",
   "execution_count": 2,
   "metadata": {},
   "outputs": [
    {
     "name": "stdout",
     "output_type": "stream",
     "text": [
      "Device : cuda\n"
     ]
    }
   ],
   "source": [
    "device = torch.device('cuda' if torch.cuda.is_available() else 'cpu')\n",
    "print('Device :', device)"
   ]
  },
  {
   "cell_type": "markdown",
   "metadata": {},
   "source": [
    "# Data 손보기"
   ]
  },
  {
   "cell_type": "code",
   "execution_count": 3,
   "metadata": {},
   "outputs": [
    {
     "name": "stderr",
     "output_type": "stream",
     "text": [
      "/tmp/ipykernel_3033643/456643837.py:3: DtypeWarning: Columns (4) have mixed types. Specify dtype option on import or set low_memory=False.\n",
      "  df = pd.read_csv('data/data.csv')\n"
     ]
    }
   ],
   "source": [
    "import pandas as pd\n",
    "df_tgt = pd.read_csv('data/target2.csv')\n",
    "df = pd.read_csv('data/data.csv')"
   ]
  },
  {
   "cell_type": "code",
   "execution_count": 4,
   "metadata": {},
   "outputs": [
    {
     "data": {
      "text/html": [
       "<div>\n",
       "<style scoped>\n",
       "    .dataframe tbody tr th:only-of-type {\n",
       "        vertical-align: middle;\n",
       "    }\n",
       "\n",
       "    .dataframe tbody tr th {\n",
       "        vertical-align: top;\n",
       "    }\n",
       "\n",
       "    .dataframe thead th {\n",
       "        text-align: right;\n",
       "    }\n",
       "</style>\n",
       "<table border=\"1\" class=\"dataframe\">\n",
       "  <thead>\n",
       "    <tr style=\"text-align: right;\">\n",
       "      <th></th>\n",
       "      <th>수위(EL.m)</th>\n",
       "      <th>총유입량(㎥/s)</th>\n",
       "      <th>총방류량(㎥/s)</th>\n",
       "    </tr>\n",
       "  </thead>\n",
       "  <tbody>\n",
       "    <tr>\n",
       "      <th>0</th>\n",
       "      <td>5.45</td>\n",
       "      <td>2,012.950</td>\n",
       "      <td>1,979.978</td>\n",
       "    </tr>\n",
       "    <tr>\n",
       "      <th>1</th>\n",
       "      <td>5.45</td>\n",
       "      <td>1,985.586</td>\n",
       "      <td>1,985.586</td>\n",
       "    </tr>\n",
       "    <tr>\n",
       "      <th>2</th>\n",
       "      <td>5.45</td>\n",
       "      <td>1,929.865</td>\n",
       "      <td>1,929.865</td>\n",
       "    </tr>\n",
       "    <tr>\n",
       "      <th>3</th>\n",
       "      <td>5.45</td>\n",
       "      <td>1,928.188</td>\n",
       "      <td>1,928.188</td>\n",
       "    </tr>\n",
       "    <tr>\n",
       "      <th>4</th>\n",
       "      <td>5.45</td>\n",
       "      <td>1,927.172</td>\n",
       "      <td>1,927.172</td>\n",
       "    </tr>\n",
       "    <tr>\n",
       "      <th>...</th>\n",
       "      <td>...</td>\n",
       "      <td>...</td>\n",
       "      <td>...</td>\n",
       "    </tr>\n",
       "    <tr>\n",
       "      <th>81930</th>\n",
       "      <td>4.89</td>\n",
       "      <td>0.0</td>\n",
       "      <td>53.893</td>\n",
       "    </tr>\n",
       "    <tr>\n",
       "      <th>81931</th>\n",
       "      <td>4.89</td>\n",
       "      <td>53.446</td>\n",
       "      <td>53.446</td>\n",
       "    </tr>\n",
       "    <tr>\n",
       "      <th>81932</th>\n",
       "      <td>4.90</td>\n",
       "      <td>110.182</td>\n",
       "      <td>53.626</td>\n",
       "    </tr>\n",
       "    <tr>\n",
       "      <th>81933</th>\n",
       "      <td>4.90</td>\n",
       "      <td>54.676</td>\n",
       "      <td>54.676</td>\n",
       "    </tr>\n",
       "    <tr>\n",
       "      <th>81934</th>\n",
       "      <td>4.90</td>\n",
       "      <td>54.716</td>\n",
       "      <td>54.716</td>\n",
       "    </tr>\n",
       "  </tbody>\n",
       "</table>\n",
       "<p>81935 rows × 3 columns</p>\n",
       "</div>"
      ],
      "text/plain": [
       "       수위(EL.m)       총유입량(㎥/s)       총방류량(㎥/s)\n",
       "0          5.45       2,012.950       1,979.978\n",
       "1          5.45       1,985.586       1,985.586\n",
       "2          5.45       1,929.865       1,929.865\n",
       "3          5.45       1,928.188       1,928.188\n",
       "4          5.45       1,927.172       1,927.172\n",
       "...         ...             ...             ...\n",
       "81930      4.89             0.0          53.893\n",
       "81931      4.89          53.446          53.446\n",
       "81932      4.90         110.182          53.626\n",
       "81933      4.90          54.676          54.676\n",
       "81934      4.90          54.716          54.716\n",
       "\n",
       "[81935 rows x 3 columns]"
      ]
     },
     "execution_count": 4,
     "metadata": {},
     "output_type": "execute_result"
    }
   ],
   "source": [
    "df_tgt = df_tgt.drop(['Unnamed: 0'], axis = 1)\n",
    "df_tgt"
   ]
  },
  {
   "cell_type": "code",
   "execution_count": 6,
   "metadata": {},
   "outputs": [
    {
     "data": {
      "text/plain": [
       "array([5.45, 5.45, 5.45, ..., 4.9 , 4.9 , 4.9 ])"
      ]
     },
     "execution_count": 6,
     "metadata": {},
     "output_type": "execute_result"
    }
   ],
   "source": [
    "df_tgt['수위(EL.m)'].values"
   ]
  },
  {
   "cell_type": "code",
   "execution_count": 7,
   "metadata": {},
   "outputs": [],
   "source": [
    "df_tgt['수위(EL.m)'] = df_tgt['수위(EL.m)'].astype('float')\n",
    "\n",
    "df_tgt['총유입량(㎥/s)'] = df_tgt['총유입량(㎥/s)'].str.strip()\n",
    "df_tgt['총유입량(㎥/s)'] = df_tgt['총유입량(㎥/s)'].str.replace(',','')\n",
    "df_tgt['총유입량(㎥/s)'] = df_tgt['총유입량(㎥/s)'].astype('float')\n",
    "\n",
    "df_tgt['총방류량(㎥/s)'] = df_tgt['총방류량(㎥/s)'].str.strip()\n",
    "df_tgt['총방류량(㎥/s)'] = df_tgt['총방류량(㎥/s)'].str.replace(',','')\n",
    "df_tgt['총방류량(㎥/s)'] = df_tgt['총방류량(㎥/s)'].astype('float')"
   ]
  },
  {
   "cell_type": "code",
   "execution_count": 7,
   "metadata": {},
   "outputs": [
    {
     "data": {
      "text/plain": [
       "0        5.45\n",
       "1        5.45\n",
       "2        5.45\n",
       "3        5.45\n",
       "4        5.45\n",
       "         ... \n",
       "81930    4.89\n",
       "81931    4.89\n",
       "81932    4.90\n",
       "81933    4.90\n",
       "81934    4.90\n",
       "Name: 수위(EL.m), Length: 81935, dtype: float64"
      ]
     },
     "execution_count": 7,
     "metadata": {},
     "output_type": "execute_result"
    }
   ],
   "source": [
    "df_tgt = df_tgt['수위(EL.m)']\n",
    "df_tgt"
   ]
  },
  {
   "cell_type": "code",
   "execution_count": 8,
   "metadata": {},
   "outputs": [
    {
     "data": {
      "text/html": [
       "<div>\n",
       "<style scoped>\n",
       "    .dataframe tbody tr th:only-of-type {\n",
       "        vertical-align: middle;\n",
       "    }\n",
       "\n",
       "    .dataframe tbody tr th {\n",
       "        vertical-align: top;\n",
       "    }\n",
       "\n",
       "    .dataframe thead th {\n",
       "        text-align: right;\n",
       "    }\n",
       "</style>\n",
       "<table border=\"1\" class=\"dataframe\">\n",
       "  <thead>\n",
       "    <tr style=\"text-align: right;\">\n",
       "      <th></th>\n",
       "      <th>Unnamed: 0</th>\n",
       "      <th>여의리(의령군)_수위</th>\n",
       "      <th>의령군(정암교)_수위</th>\n",
       "      <th>함안군(서출리)_수위</th>\n",
       "      <th>합천군(적포교)_수위</th>\n",
       "      <th>길곡_강수량(mm)</th>\n",
       "      <th>대병_강수량(mm)</th>\n",
       "      <th>창녕_강수량(mm)</th>\n",
       "      <th>청덕_강수량(mm)</th>\n",
       "      <th>함안_강수량(mm)</th>\n",
       "    </tr>\n",
       "  </thead>\n",
       "  <tbody>\n",
       "    <tr>\n",
       "      <th>0</th>\n",
       "      <td>('2012-08-27 1:00', '2012-08-27 01:00:00')</td>\n",
       "      <td>0.57</td>\n",
       "      <td>3.83</td>\n",
       "      <td>4.41</td>\n",
       "      <td>0.63</td>\n",
       "      <td>0.0</td>\n",
       "      <td>0.0</td>\n",
       "      <td>0.0</td>\n",
       "      <td>0.0</td>\n",
       "      <td>0.0</td>\n",
       "    </tr>\n",
       "    <tr>\n",
       "      <th>1</th>\n",
       "      <td>('2012-08-27 2:00', '2012-08-27 02:00:00')</td>\n",
       "      <td>0.57</td>\n",
       "      <td>3.82</td>\n",
       "      <td>4.4</td>\n",
       "      <td>0.63</td>\n",
       "      <td>0.0</td>\n",
       "      <td>0.0</td>\n",
       "      <td>0.0</td>\n",
       "      <td>0.0</td>\n",
       "      <td>0.0</td>\n",
       "    </tr>\n",
       "    <tr>\n",
       "      <th>2</th>\n",
       "      <td>('2012-08-27 3:00', '2012-08-27 03:00:00')</td>\n",
       "      <td>0.57</td>\n",
       "      <td>3.81</td>\n",
       "      <td>4.39</td>\n",
       "      <td>0.62</td>\n",
       "      <td>0.0</td>\n",
       "      <td>0.0</td>\n",
       "      <td>0.0</td>\n",
       "      <td>0.0</td>\n",
       "      <td>0.0</td>\n",
       "    </tr>\n",
       "    <tr>\n",
       "      <th>3</th>\n",
       "      <td>('2012-08-27 4:00', '2012-08-27 04:00:00')</td>\n",
       "      <td>0.57</td>\n",
       "      <td>3.79</td>\n",
       "      <td>4.38</td>\n",
       "      <td>0.61</td>\n",
       "      <td>0.0</td>\n",
       "      <td>0.0</td>\n",
       "      <td>0.0</td>\n",
       "      <td>0.0</td>\n",
       "      <td>0.0</td>\n",
       "    </tr>\n",
       "    <tr>\n",
       "      <th>4</th>\n",
       "      <td>('2012-08-27 5:00', '2012-08-27 05:00:00')</td>\n",
       "      <td>0.57</td>\n",
       "      <td>3.77</td>\n",
       "      <td>4.37</td>\n",
       "      <td>0.60</td>\n",
       "      <td>0.0</td>\n",
       "      <td>0.0</td>\n",
       "      <td>0.0</td>\n",
       "      <td>0.0</td>\n",
       "      <td>0.0</td>\n",
       "    </tr>\n",
       "    <tr>\n",
       "      <th>...</th>\n",
       "      <td>...</td>\n",
       "      <td>...</td>\n",
       "      <td>...</td>\n",
       "      <td>...</td>\n",
       "      <td>...</td>\n",
       "      <td>...</td>\n",
       "      <td>...</td>\n",
       "      <td>...</td>\n",
       "      <td>...</td>\n",
       "      <td>...</td>\n",
       "    </tr>\n",
       "    <tr>\n",
       "      <th>81930</th>\n",
       "      <td>('2021-12-31 19:00', '2021-12-31 19:00:00')</td>\n",
       "      <td>10.09</td>\n",
       "      <td>0.17</td>\n",
       "      <td>1.82</td>\n",
       "      <td>4.36</td>\n",
       "      <td>0.0</td>\n",
       "      <td>0.0</td>\n",
       "      <td>0.0</td>\n",
       "      <td>0.0</td>\n",
       "      <td>0.0</td>\n",
       "    </tr>\n",
       "    <tr>\n",
       "      <th>81931</th>\n",
       "      <td>('2021-12-31 20:00', '2021-12-31 20:00:00')</td>\n",
       "      <td>10.08</td>\n",
       "      <td>0.17</td>\n",
       "      <td>1.81</td>\n",
       "      <td>4.36</td>\n",
       "      <td>0.0</td>\n",
       "      <td>0.0</td>\n",
       "      <td>0.0</td>\n",
       "      <td>0.0</td>\n",
       "      <td>0.0</td>\n",
       "    </tr>\n",
       "    <tr>\n",
       "      <th>81932</th>\n",
       "      <td>('2021-12-31 21:00', '2021-12-31 21:00:00')</td>\n",
       "      <td>10.09</td>\n",
       "      <td>0.17</td>\n",
       "      <td>1.81</td>\n",
       "      <td>4.36</td>\n",
       "      <td>0.0</td>\n",
       "      <td>0.0</td>\n",
       "      <td>0.0</td>\n",
       "      <td>0.0</td>\n",
       "      <td>0.0</td>\n",
       "    </tr>\n",
       "    <tr>\n",
       "      <th>81933</th>\n",
       "      <td>('2021-12-31 22:00', '2021-12-31 22:00:00')</td>\n",
       "      <td>10.1</td>\n",
       "      <td>0.17</td>\n",
       "      <td>1.81</td>\n",
       "      <td>4.36</td>\n",
       "      <td>0.0</td>\n",
       "      <td>0.0</td>\n",
       "      <td>0.0</td>\n",
       "      <td>0.0</td>\n",
       "      <td>0.0</td>\n",
       "    </tr>\n",
       "    <tr>\n",
       "      <th>81934</th>\n",
       "      <td>('2021-12-31 23:00', '2021-12-31 23:00:00')</td>\n",
       "      <td>10.09</td>\n",
       "      <td>0.17</td>\n",
       "      <td>1.81</td>\n",
       "      <td>4.36</td>\n",
       "      <td>0.0</td>\n",
       "      <td>0.0</td>\n",
       "      <td>0.0</td>\n",
       "      <td>0.0</td>\n",
       "      <td>0.0</td>\n",
       "    </tr>\n",
       "  </tbody>\n",
       "</table>\n",
       "<p>81935 rows × 10 columns</p>\n",
       "</div>"
      ],
      "text/plain": [
       "                                        Unnamed: 0 여의리(의령군)_수위  의령군(정암교)_수위  \\\n",
       "0       ('2012-08-27 1:00', '2012-08-27 01:00:00')        0.57         3.83   \n",
       "1       ('2012-08-27 2:00', '2012-08-27 02:00:00')        0.57         3.82   \n",
       "2       ('2012-08-27 3:00', '2012-08-27 03:00:00')        0.57         3.81   \n",
       "3       ('2012-08-27 4:00', '2012-08-27 04:00:00')        0.57         3.79   \n",
       "4       ('2012-08-27 5:00', '2012-08-27 05:00:00')        0.57         3.77   \n",
       "...                                            ...         ...          ...   \n",
       "81930  ('2021-12-31 19:00', '2021-12-31 19:00:00')       10.09         0.17   \n",
       "81931  ('2021-12-31 20:00', '2021-12-31 20:00:00')       10.08         0.17   \n",
       "81932  ('2021-12-31 21:00', '2021-12-31 21:00:00')       10.09         0.17   \n",
       "81933  ('2021-12-31 22:00', '2021-12-31 22:00:00')        10.1         0.17   \n",
       "81934  ('2021-12-31 23:00', '2021-12-31 23:00:00')       10.09         0.17   \n",
       "\n",
       "      함안군(서출리)_수위  합천군(적포교)_수위  길곡_강수량(mm)  대병_강수량(mm)  창녕_강수량(mm)  \\\n",
       "0            4.41         0.63         0.0         0.0         0.0   \n",
       "1             4.4         0.63         0.0         0.0         0.0   \n",
       "2            4.39         0.62         0.0         0.0         0.0   \n",
       "3            4.38         0.61         0.0         0.0         0.0   \n",
       "4            4.37         0.60         0.0         0.0         0.0   \n",
       "...           ...          ...         ...         ...         ...   \n",
       "81930        1.82         4.36         0.0         0.0         0.0   \n",
       "81931        1.81         4.36         0.0         0.0         0.0   \n",
       "81932        1.81         4.36         0.0         0.0         0.0   \n",
       "81933        1.81         4.36         0.0         0.0         0.0   \n",
       "81934        1.81         4.36         0.0         0.0         0.0   \n",
       "\n",
       "       청덕_강수량(mm)  함안_강수량(mm)  \n",
       "0             0.0         0.0  \n",
       "1             0.0         0.0  \n",
       "2             0.0         0.0  \n",
       "3             0.0         0.0  \n",
       "4             0.0         0.0  \n",
       "...           ...         ...  \n",
       "81930         0.0         0.0  \n",
       "81931         0.0         0.0  \n",
       "81932         0.0         0.0  \n",
       "81933         0.0         0.0  \n",
       "81934         0.0         0.0  \n",
       "\n",
       "[81935 rows x 10 columns]"
      ]
     },
     "execution_count": 8,
     "metadata": {},
     "output_type": "execute_result"
    }
   ],
   "source": [
    "df = df.drop(['수산대교(창원)_수위'], axis = 1)\n",
    "df"
   ]
  },
  {
   "cell_type": "markdown",
   "metadata": {},
   "source": [
    "## 결측치('-') 예측"
   ]
  },
  {
   "cell_type": "code",
   "execution_count": 9,
   "metadata": {},
   "outputs": [
    {
     "name": "stdout",
     "output_type": "stream",
     "text": [
      "함안군(서출리)_수위\n",
      "134\n"
     ]
    }
   ],
   "source": [
    "# 결측치('-') 데이터 수 카운트 | 여의리(의령군)_수위 : 1868개 / 함안군(서출리)_수위 : 134개\n",
    "i = 3\n",
    "print(df.columns[i])\n",
    "miss = df[df[df.columns[i]] == '-']\n",
    "print(len(miss))"
   ]
  },
  {
   "cell_type": "markdown",
   "metadata": {},
   "source": [
    "#### 여의리(의령군)_수위 결측치 예측 (RandomForest)"
   ]
  },
  {
   "cell_type": "code",
   "execution_count": 10,
   "metadata": {},
   "outputs": [],
   "source": [
    "from sklearn.ensemble import RandomForestRegressor\n",
    "\n",
    "miss = df[df['여의리(의령군)_수위'] == '-']\n",
    "\n",
    "drop_df = df.drop(miss.index) # 결측치('-')의 인덱스 제거\n",
    "drop_df = drop_df.drop(['Unnamed: 0'], axis = 1) # RF에 넣기 위해 날짜값 제거\n",
    "\n",
    "train_drop_df = drop_df.drop(['여의리(의령군)_수위', '함안군(서출리)_수위'], axis = 1) # label로 쓰일 여의리와 결측치('-')가 있는 함안군 제거\n",
    "label_drop_df = drop_df['여의리(의령군)_수위'] # label\n",
    "\n",
    "\n",
    "\n",
    "rf = RandomForestRegressor()\n",
    "rf.fit(train_drop_df, label_drop_df)\n",
    "\n",
    "# 결측치 예측\n",
    "pred = rf.predict(miss.drop(['여의리(의령군)_수위', '함안군(서출리)_수위', 'Unnamed: 0'], axis = 1))\n",
    "pred\n",
    "\n",
    "\n",
    "df.loc[miss.index, '여의리(의령군)_수위'] = pred"
   ]
  },
  {
   "cell_type": "markdown",
   "metadata": {},
   "source": [
    "#### 함안군(서출리)_수위 결측치"
   ]
  },
  {
   "cell_type": "code",
   "execution_count": 11,
   "metadata": {},
   "outputs": [],
   "source": [
    "miss = df[df['함안군(서출리)_수위'] == '-']\n",
    "\n",
    "drop_df = df.drop(miss.index) # 결측치('-')의 인덱스 제거\n",
    "drop_df = drop_df.drop(['Unnamed: 0'], axis = 1) # RF에 넣기 위해 날짜값 제거\n",
    "\n",
    "train_drop_df = drop_df.drop(['함안군(서출리)_수위'], axis = 1) # label로 쓰일 함안군 제거\n",
    "label_drop_df = drop_df['함안군(서출리)_수위'] # label\n",
    "\n",
    "\n",
    "\n",
    "rf = RandomForestRegressor()\n",
    "rf.fit(train_drop_df, label_drop_df)\n",
    "\n",
    "# 결측치 예측\n",
    "pred = rf.predict(miss.drop(['함안군(서출리)_수위', 'Unnamed: 0'], axis = 1))\n",
    "pred\n",
    "\n",
    "\n",
    "df.loc[miss.index, '함안군(서출리)_수위'] = pred"
   ]
  },
  {
   "cell_type": "code",
   "execution_count": 12,
   "metadata": {},
   "outputs": [
    {
     "name": "stdout",
     "output_type": "stream",
     "text": [
      "Empty DataFrame\n",
      "Columns: [Unnamed: 0, 여의리(의령군)_수위, 의령군(정암교)_수위, 함안군(서출리)_수위, 합천군(적포교)_수위, 길곡_강수량(mm), 대병_강수량(mm), 창녕_강수량(mm), 청덕_강수량(mm), 함안_강수량(mm)]\n",
      "Index: []\n",
      "Empty DataFrame\n",
      "Columns: [Unnamed: 0, 여의리(의령군)_수위, 의령군(정암교)_수위, 함안군(서출리)_수위, 합천군(적포교)_수위, 길곡_강수량(mm), 대병_강수량(mm), 창녕_강수량(mm), 청덕_강수량(mm), 함안_강수량(mm)]\n",
      "Index: []\n"
     ]
    }
   ],
   "source": [
    "print(df[df['여의리(의령군)_수위'] == '-'])\n",
    "print(df[df['함안군(서출리)_수위'] == '-'])"
   ]
  },
  {
   "cell_type": "code",
   "execution_count": 13,
   "metadata": {},
   "outputs": [],
   "source": [
    "for i in df.columns:\n",
    "    if not i == 'Unnamed: 0':\n",
    "        df[i] = df[i].astype('float')"
   ]
  },
  {
   "cell_type": "markdown",
   "metadata": {},
   "source": [
    "# Correction Method (원하는거 하나만 사용해야함)"
   ]
  },
  {
   "cell_type": "markdown",
   "metadata": {},
   "source": [
    "## Peak Water Level Correction"
   ]
  },
  {
   "cell_type": "code",
   "execution_count": 18,
   "metadata": {},
   "outputs": [
    {
     "data": {
      "text/plain": [
       "[<matplotlib.lines.Line2D at 0x7fdcd8ce0520>]"
      ]
     },
     "execution_count": 18,
     "metadata": {},
     "output_type": "execute_result"
    },
    {
     "data": {
      "image/png": "[encoded data removed]",
      "text/plain": [
       "<Figure size 640x480 with 1 Axes>"
      ]
     },
     "metadata": {},
     "output_type": "display_data"
    }
   ],
   "source": [
    "period_st = 60425\n",
    "period_end = 60550\n",
    "\n",
    "plt.plot(df['여의리(의령군)_수위'].values[period_st:period_end], color = 'r')\n",
    "plt.plot(df['함안군(서출리)_수위'].values[period_st:period_end], color = 'b')\n",
    "plt.plot(df['합천군(적포교)_수위'].values[period_st:period_end], color = 'g')\n",
    "plt.plot(df['의령군(정암교)_수위'].values[period_st:period_end], color = 'c')\n",
    "\n",
    "plt.plot(df_tgt['수위(EL.m)'].values[period_st:period_end], color = 'k') # 창녕함안보 수위"
   ]
  },
  {
   "cell_type": "code",
   "execution_count": 62,
   "metadata": {},
   "outputs": [
    {
     "name": "stdout",
     "output_type": "stream",
     "text": [
      "14\n",
      "14\n",
      "17\n"
     ]
    }
   ],
   "source": [
    "print(df['여의리(의령군)_수위'].values[period_st:period_end].argmax()) # 여의리와 합천군 수위가 가장 높아지는 시간과 창녕함안보의 수위가 가장 높아지는 시간의 차이(도달시간)\n",
    "print(df['합천군(적포교)_수위'].values[period_st:period_end].argmax())\n",
    "print(df_tgt.values[period_st:period_end].argmax())"
   ]
  },
  {
   "cell_type": "code",
   "execution_count": 21,
   "metadata": {},
   "outputs": [
    {
     "data": {
      "text/plain": [
       "[<matplotlib.lines.Line2D at 0x7fdcd8bd8460>]"
      ]
     },
     "execution_count": 21,
     "metadata": {},
     "output_type": "execute_result"
    },
    {
     "data": {
      "image/png": "[encoded data removed]",
      "text/plain": [
       "<Figure size 640x480 with 1 Axes>"
      ]
     },
     "metadata": {},
     "output_type": "display_data"
    }
   ],
   "source": [
    "period_st = 60425\n",
    "period_end = 60550\n",
    "\n",
    "plt.plot(df_tgt['총유입량(㎥/s)'].values[period_st:period_end], color = 'k') # 창녕함안보 수위\n",
    "plt.plot(df_tgt['총방류량(㎥/s)'].values[period_st:period_end], color = 'y') # 창녕함안보 수위\n",
    "\n",
    "# plt.plot(df['길곡_강수량(mm)'].values[period_st:period_end], color = 'r')\n",
    "# plt.plot(df['창녕_강수량(mm)'].values[period_st:period_end], color = 'b')\n",
    "# plt.plot(df['청덕_강수량(mm)'].values[period_st:period_end], color = 'c')\n",
    "# plt.plot(df['함안_강수량(mm)'].values[period_st:period_end], color = 'g')\n",
    "\n",
    "# plt.plot(df_tgt.values[period_st:period_end], color = 'k') # 창녕함안보 수위\n"
   ]
  },
  {
   "cell_type": "markdown",
   "metadata": {},
   "source": [
    "## Make Sliding Window"
   ]
  },
  {
   "cell_type": "code",
   "execution_count": 15,
   "metadata": {},
   "outputs": [],
   "source": [
    "def make_sliding_window(data, lag): # data = dataframe, lag = window size\n",
    "\n",
    "    data = data.drop(['Unnamed: 0'], axis = 1)\n",
    "    sliding_lst = [data]\n",
    "\n",
    "    for i in range(lag):\n",
    "        sliding_lst.append(data.shift(i+1))\n",
    "    \n",
    "\n",
    "    sliding_df = pd.concat(sliding_lst, axis=1)\n",
    "    \n",
    "    return sliding_df"
   ]
  },
  {
   "cell_type": "code",
   "execution_count": 16,
   "metadata": {},
   "outputs": [],
   "source": [
    "window_size = 0\n",
    "\n",
    "sliding_df = make_sliding_window(df, window_size) # window = 12\n",
    "# sliding_df = sliding_df.drop(['함안군(서출리)_수위', '합천군(적포교)_수위', '대병_강수량(mm)'], axis = 1)\n",
    "sliding_df = sliding_df.astype('float')"
   ]
  },
  {
   "cell_type": "code",
   "execution_count": 17,
   "metadata": {},
   "outputs": [
    {
     "data": {
      "text/html": [
       "<div>\n",
       "<style scoped>\n",
       "    .dataframe tbody tr th:only-of-type {\n",
       "        vertical-align: middle;\n",
       "    }\n",
       "\n",
       "    .dataframe tbody tr th {\n",
       "        vertical-align: top;\n",
       "    }\n",
       "\n",
       "    .dataframe thead th {\n",
       "        text-align: right;\n",
       "    }\n",
       "</style>\n",
       "<table border=\"1\" class=\"dataframe\">\n",
       "  <thead>\n",
       "    <tr style=\"text-align: right;\">\n",
       "      <th></th>\n",
       "      <th>여의리(의령군)_수위</th>\n",
       "      <th>의령군(정암교)_수위</th>\n",
       "      <th>함안군(서출리)_수위</th>\n",
       "      <th>합천군(적포교)_수위</th>\n",
       "      <th>길곡_강수량(mm)</th>\n",
       "      <th>대병_강수량(mm)</th>\n",
       "      <th>창녕_강수량(mm)</th>\n",
       "      <th>청덕_강수량(mm)</th>\n",
       "      <th>함안_강수량(mm)</th>\n",
       "    </tr>\n",
       "  </thead>\n",
       "  <tbody>\n",
       "    <tr>\n",
       "      <th>0</th>\n",
       "      <td>0.57</td>\n",
       "      <td>3.83</td>\n",
       "      <td>4.41</td>\n",
       "      <td>0.63</td>\n",
       "      <td>0.0</td>\n",
       "      <td>0.0</td>\n",
       "      <td>0.0</td>\n",
       "      <td>0.0</td>\n",
       "      <td>0.0</td>\n",
       "    </tr>\n",
       "    <tr>\n",
       "      <th>1</th>\n",
       "      <td>0.57</td>\n",
       "      <td>3.82</td>\n",
       "      <td>4.40</td>\n",
       "      <td>0.63</td>\n",
       "      <td>0.0</td>\n",
       "      <td>0.0</td>\n",
       "      <td>0.0</td>\n",
       "      <td>0.0</td>\n",
       "      <td>0.0</td>\n",
       "    </tr>\n",
       "    <tr>\n",
       "      <th>2</th>\n",
       "      <td>0.57</td>\n",
       "      <td>3.81</td>\n",
       "      <td>4.39</td>\n",
       "      <td>0.62</td>\n",
       "      <td>0.0</td>\n",
       "      <td>0.0</td>\n",
       "      <td>0.0</td>\n",
       "      <td>0.0</td>\n",
       "      <td>0.0</td>\n",
       "    </tr>\n",
       "    <tr>\n",
       "      <th>3</th>\n",
       "      <td>0.57</td>\n",
       "      <td>3.79</td>\n",
       "      <td>4.38</td>\n",
       "      <td>0.61</td>\n",
       "      <td>0.0</td>\n",
       "      <td>0.0</td>\n",
       "      <td>0.0</td>\n",
       "      <td>0.0</td>\n",
       "      <td>0.0</td>\n",
       "    </tr>\n",
       "    <tr>\n",
       "      <th>4</th>\n",
       "      <td>0.57</td>\n",
       "      <td>3.77</td>\n",
       "      <td>4.37</td>\n",
       "      <td>0.60</td>\n",
       "      <td>0.0</td>\n",
       "      <td>0.0</td>\n",
       "      <td>0.0</td>\n",
       "      <td>0.0</td>\n",
       "      <td>0.0</td>\n",
       "    </tr>\n",
       "    <tr>\n",
       "      <th>...</th>\n",
       "      <td>...</td>\n",
       "      <td>...</td>\n",
       "      <td>...</td>\n",
       "      <td>...</td>\n",
       "      <td>...</td>\n",
       "      <td>...</td>\n",
       "      <td>...</td>\n",
       "      <td>...</td>\n",
       "      <td>...</td>\n",
       "    </tr>\n",
       "    <tr>\n",
       "      <th>81930</th>\n",
       "      <td>10.09</td>\n",
       "      <td>0.17</td>\n",
       "      <td>1.82</td>\n",
       "      <td>4.36</td>\n",
       "      <td>0.0</td>\n",
       "      <td>0.0</td>\n",
       "      <td>0.0</td>\n",
       "      <td>0.0</td>\n",
       "      <td>0.0</td>\n",
       "    </tr>\n",
       "    <tr>\n",
       "      <th>81931</th>\n",
       "      <td>10.08</td>\n",
       "      <td>0.17</td>\n",
       "      <td>1.81</td>\n",
       "      <td>4.36</td>\n",
       "      <td>0.0</td>\n",
       "      <td>0.0</td>\n",
       "      <td>0.0</td>\n",
       "      <td>0.0</td>\n",
       "      <td>0.0</td>\n",
       "    </tr>\n",
       "    <tr>\n",
       "      <th>81932</th>\n",
       "      <td>10.09</td>\n",
       "      <td>0.17</td>\n",
       "      <td>1.81</td>\n",
       "      <td>4.36</td>\n",
       "      <td>0.0</td>\n",
       "      <td>0.0</td>\n",
       "      <td>0.0</td>\n",
       "      <td>0.0</td>\n",
       "      <td>0.0</td>\n",
       "    </tr>\n",
       "    <tr>\n",
       "      <th>81933</th>\n",
       "      <td>10.10</td>\n",
       "      <td>0.17</td>\n",
       "      <td>1.81</td>\n",
       "      <td>4.36</td>\n",
       "      <td>0.0</td>\n",
       "      <td>0.0</td>\n",
       "      <td>0.0</td>\n",
       "      <td>0.0</td>\n",
       "      <td>0.0</td>\n",
       "    </tr>\n",
       "    <tr>\n",
       "      <th>81934</th>\n",
       "      <td>10.09</td>\n",
       "      <td>0.17</td>\n",
       "      <td>1.81</td>\n",
       "      <td>4.36</td>\n",
       "      <td>0.0</td>\n",
       "      <td>0.0</td>\n",
       "      <td>0.0</td>\n",
       "      <td>0.0</td>\n",
       "      <td>0.0</td>\n",
       "    </tr>\n",
       "  </tbody>\n",
       "</table>\n",
       "<p>81935 rows × 9 columns</p>\n",
       "</div>"
      ],
      "text/plain": [
       "       여의리(의령군)_수위  의령군(정암교)_수위  함안군(서출리)_수위  합천군(적포교)_수위  길곡_강수량(mm)  \\\n",
       "0             0.57         3.83         4.41         0.63         0.0   \n",
       "1             0.57         3.82         4.40         0.63         0.0   \n",
       "2             0.57         3.81         4.39         0.62         0.0   \n",
       "3             0.57         3.79         4.38         0.61         0.0   \n",
       "4             0.57         3.77         4.37         0.60         0.0   \n",
       "...            ...          ...          ...          ...         ...   \n",
       "81930        10.09         0.17         1.82         4.36         0.0   \n",
       "81931        10.08         0.17         1.81         4.36         0.0   \n",
       "81932        10.09         0.17         1.81         4.36         0.0   \n",
       "81933        10.10         0.17         1.81         4.36         0.0   \n",
       "81934        10.09         0.17         1.81         4.36         0.0   \n",
       "\n",
       "       대병_강수량(mm)  창녕_강수량(mm)  청덕_강수량(mm)  함안_강수량(mm)  \n",
       "0             0.0         0.0         0.0         0.0  \n",
       "1             0.0         0.0         0.0         0.0  \n",
       "2             0.0         0.0         0.0         0.0  \n",
       "3             0.0         0.0         0.0         0.0  \n",
       "4             0.0         0.0         0.0         0.0  \n",
       "...           ...         ...         ...         ...  \n",
       "81930         0.0         0.0         0.0         0.0  \n",
       "81931         0.0         0.0         0.0         0.0  \n",
       "81932         0.0         0.0         0.0         0.0  \n",
       "81933         0.0         0.0         0.0         0.0  \n",
       "81934         0.0         0.0         0.0         0.0  \n",
       "\n",
       "[81935 rows x 9 columns]"
      ]
     },
     "execution_count": 17,
     "metadata": {},
     "output_type": "execute_result"
    }
   ],
   "source": [
    "sliding_df"
   ]
  },
  {
   "cell_type": "code",
   "execution_count": 18,
   "metadata": {},
   "outputs": [
    {
     "data": {
      "text/plain": [
       "여의리(의령군)_수위    0\n",
       "의령군(정암교)_수위    0\n",
       "함안군(서출리)_수위    0\n",
       "합천군(적포교)_수위    0\n",
       "길곡_강수량(mm)     0\n",
       "대병_강수량(mm)     0\n",
       "창녕_강수량(mm)     0\n",
       "청덕_강수량(mm)     0\n",
       "함안_강수량(mm)     0\n",
       "dtype: int64"
      ]
     },
     "execution_count": 18,
     "metadata": {},
     "output_type": "execute_result"
    }
   ],
   "source": [
    "sliding_df.isnull().sum()"
   ]
  },
  {
   "cell_type": "code",
   "execution_count": 19,
   "metadata": {},
   "outputs": [],
   "source": [
    "sliding_df = sliding_df.truncate(before=window_size) # Nan 값이 있는 맨 앞 window_size개 데이터 자르기\n",
    "df_tgt = df_tgt.truncate(before=window_size)"
   ]
  },
  {
   "cell_type": "markdown",
   "metadata": {},
   "source": [
    "## Split Train / Test"
   ]
  },
  {
   "cell_type": "code",
   "execution_count": 20,
   "metadata": {},
   "outputs": [
    {
     "name": "stdout",
     "output_type": "stream",
     "text": [
      "여의리(의령군)_수위   -0.70\n",
      "의령군(정암교)_수위    0.50\n",
      "함안군(서출리)_수위    1.76\n",
      "합천군(적포교)_수위    4.25\n",
      "길곡_강수량(mm)     0.00\n",
      "대병_강수량(mm)     0.00\n",
      "창녕_강수량(mm)     0.00\n",
      "청덕_강수량(mm)     0.00\n",
      "함안_강수량(mm)     0.00\n",
      "Name: 64392, dtype: float64\n"
     ]
    }
   ],
   "source": [
    "# Train : 2012-08-27 XX:00:00 ~ 2020-01-01 00:00:00\n",
    "# val   : 2019-01-01 01:00:00 ~ 2020-01-01 00:00:00\n",
    "# Test  : 2020-01-01 01:00:00 ~ 2021-12-31 23:00:00\n",
    "\n",
    "print(sliding_df.loc[64392]) # 2020-01-01 00:00:00 기준"
   ]
  },
  {
   "cell_type": "code",
   "execution_count": 21,
   "metadata": {},
   "outputs": [],
   "source": [
    "train_df = sliding_df.truncate(after=55631)\n",
    "val_df = sliding_df.truncate(before=55632, after=64391)\n",
    "test_df = sliding_df.truncate(before=64392)\n",
    "\n",
    "\n",
    "train_label_df = df_tgt.truncate(after=55631)\n",
    "val_label_df = df_tgt.truncate(before=55632, after=64391)\n",
    "test_label_df = df_tgt.truncate(before=64392)"
   ]
  },
  {
   "cell_type": "code",
   "execution_count": 22,
   "metadata": {},
   "outputs": [
    {
     "data": {
      "text/plain": [
       "17543"
      ]
     },
     "execution_count": 22,
     "metadata": {},
     "output_type": "execute_result"
    }
   ],
   "source": [
    "len(test_df)"
   ]
  },
  {
   "cell_type": "markdown",
   "metadata": {},
   "source": [
    "# Network Save/load"
   ]
  },
  {
   "cell_type": "code",
   "execution_count": 23,
   "metadata": {},
   "outputs": [],
   "source": [
    "def save(ckpt_dir, net, optim, epoch):\n",
    "    if not os.path.exists(ckpt_dir):\n",
    "        os.makedirs(ckpt_dir)\n",
    "    torch.save({'net' : net.state_dict(), 'optim' : optim.state_dict()}, \n",
    "    './%s/model_epoch%d.pth' % (ckpt_dir, epoch))\n",
    "\n",
    "def load(ckpt_dir, net, optim):\n",
    "    if not os.path.exists(ckpt_dir):\n",
    "        epoch = 0\n",
    "        return net, optim, epoch\n",
    "\n",
    "    ckpt_lst = os.listdir(ckpt_dir)\n",
    "    ckpt_lst.sort(key = lambda f : int(''.join(filter(str.isdigit, f))))\n",
    "\n",
    "    dict_model = torch.load('./%s/%s' % (ckpt_dir, ckpt_lst[-1]))\n",
    "\n",
    "    net.load_state_dict(dict_model['net'])\n",
    "    optim.load_state_dict(dict_model['optim'])\n",
    "    epoch = int(ckpt_lst[-1].split('epoch')[1].split('.pth')[0])\n",
    "\n",
    "    return net, optim, epoch"
   ]
  },
  {
   "cell_type": "markdown",
   "metadata": {},
   "source": [
    "# Dataset"
   ]
  },
  {
   "cell_type": "code",
   "execution_count": 24,
   "metadata": {},
   "outputs": [],
   "source": [
    "class Dataset(torch.utils.data.Dataset):\n",
    "    def __init__(self, data, target):\n",
    "    \n",
    "        self.data = data\n",
    "        self.target = target\n",
    "\n",
    "        scaler = MinMaxScaler() # 스케일링\n",
    "        self.data = pd.DataFrame(scaler.fit_transform(self.data)) \n",
    "        # self.target = pd.DataFrame(scaler.fit_transform(self.target))\n",
    "\n",
    "        self.data = torch.tensor(self.data.values).float() # 텐서 변환\n",
    "        self.target = torch.tensor(self.target.values).float()\n",
    "\n",
    "\n",
    "    def __len__(self):\n",
    "        return len(self.data)\n",
    "\n",
    "    def __getitem__(self,idx):\n",
    "\n",
    "        data = self.data[idx]\n",
    "        target = self.target[idx]\n",
    "        \n",
    "        return data, target"
   ]
  },
  {
   "cell_type": "code",
   "execution_count": 25,
   "metadata": {},
   "outputs": [],
   "source": [
    "train_dataset = Dataset(train_df, train_label_df)\n",
    "val_dataset = Dataset(val_df, val_label_df)\n",
    "test_dataset = Dataset(test_df, test_label_df)"
   ]
  },
  {
   "cell_type": "code",
   "execution_count": 26,
   "metadata": {},
   "outputs": [
    {
     "data": {
      "text/plain": [
       "0        5.45\n",
       "1        5.45\n",
       "2        5.45\n",
       "3        5.45\n",
       "4        5.45\n",
       "         ... \n",
       "55627    4.84\n",
       "55628    4.84\n",
       "55629    4.84\n",
       "55630    4.84\n",
       "55631    4.83\n",
       "Name: 수위(EL.m), Length: 55632, dtype: float64"
      ]
     },
     "execution_count": 26,
     "metadata": {},
     "output_type": "execute_result"
    }
   ],
   "source": [
    "train_label_df"
   ]
  },
  {
   "cell_type": "code",
   "execution_count": 27,
   "metadata": {},
   "outputs": [
    {
     "data": {
      "text/plain": [
       "64392    4.87\n",
       "64393    4.87\n",
       "64394    4.85\n",
       "64395    4.85\n",
       "64396    4.85\n",
       "         ... \n",
       "81930    4.89\n",
       "81931    4.89\n",
       "81932    4.90\n",
       "81933    4.90\n",
       "81934    4.90\n",
       "Name: 수위(EL.m), Length: 17543, dtype: float64"
      ]
     },
     "execution_count": 27,
     "metadata": {},
     "output_type": "execute_result"
    }
   ],
   "source": [
    "test_label_df"
   ]
  },
  {
   "cell_type": "markdown",
   "metadata": {},
   "source": [
    "# Train / Val Function and Other Components"
   ]
  },
  {
   "cell_type": "code",
   "execution_count": 28,
   "metadata": {},
   "outputs": [],
   "source": [
    "# Parameters\n",
    "lr = 1e-3\n",
    "batch_size = 128\n",
    "num_epoch = 200\n",
    "\n",
    "net = model.TDNN().to(device)\n",
    "loss_fn = RMSELoss().to(device)\n",
    "optim = torch.optim.Adam(net.parameters(), lr=lr)\n",
    "\n",
    "ckpt_dir = './checkpoint'"
   ]
  },
  {
   "cell_type": "code",
   "execution_count": 29,
   "metadata": {},
   "outputs": [],
   "source": [
    "def train(train_loader):\n",
    "    net.train()\n",
    "    train_loss_arr = []\n",
    "\n",
    "    for batch_idx, (data, target) in enumerate(train_loader, start = 1):\n",
    "        target = target.to(device)\n",
    "        data = data.to(device)\n",
    "\n",
    "        output = net(data)\n",
    "\n",
    "        optim.zero_grad()\n",
    "        loss = loss_fn(output, target)\n",
    "        loss.backward()\n",
    "        optim.step()\n",
    "        train_loss_arr.append(loss.item())\n",
    "    \n",
    "    return np.mean(train_loss_arr)\n",
    "\n",
    "def evaluate(test_loader):\n",
    "    with torch.no_grad():\n",
    "        net.eval()\n",
    "        val_loss_arr = []\n",
    "        output_lst = []\n",
    "\n",
    "        \n",
    "        for batch_idx, (data, target) in enumerate(test_loader, start = 1):\n",
    "            target = target.to(device)\n",
    "            data = data.to(device)\n",
    "            \n",
    "\n",
    "            output = net(data)\n",
    "\n",
    "            save_output = output.cpu()            \n",
    "            output_lst.append(save_output)\n",
    "\n",
    "            loss = loss_fn(output, target)\n",
    "            val_loss_arr.append(loss.item())\n",
    "\n",
    "    return np.mean(val_loss_arr), output_lst"
   ]
  },
  {
   "cell_type": "markdown",
   "metadata": {},
   "source": [
    "# Running"
   ]
  },
  {
   "cell_type": "markdown",
   "metadata": {},
   "source": [
    "## Train"
   ]
  },
  {
   "cell_type": "code",
   "execution_count": 31,
   "metadata": {},
   "outputs": [
    {
     "name": "stdout",
     "output_type": "stream",
     "text": [
      "Start Epoch : 0\n",
      "EPOCH 0001 / 0200 | ELAPSED_TIME 1.9420\n",
      "TRAIN_LOSS 6.0043 | VAL_LOSS 0.9280\n",
      "EPOCH 0002 / 0200 | ELAPSED_TIME 1.9505\n",
      "TRAIN_LOSS 2.2354 | VAL_LOSS 0.3296\n",
      "EPOCH 0003 / 0200 | ELAPSED_TIME 1.9866\n",
      "TRAIN_LOSS 2.1842 | VAL_LOSS 0.2632\n",
      "EPOCH 0004 / 0200 | ELAPSED_TIME 1.9182\n",
      "TRAIN_LOSS 2.1541 | VAL_LOSS 0.1773\n",
      "EPOCH 0005 / 0200 | ELAPSED_TIME 1.9174\n",
      "TRAIN_LOSS 2.1452 | VAL_LOSS 0.1692\n",
      "EPOCH 0006 / 0200 | ELAPSED_TIME 2.0453\n",
      "TRAIN_LOSS 2.1420 | VAL_LOSS 0.1624\n",
      "EPOCH 0007 / 0200 | ELAPSED_TIME 1.8672\n",
      "TRAIN_LOSS 2.1366 | VAL_LOSS 0.1559\n",
      "EPOCH 0008 / 0200 | ELAPSED_TIME 1.8885\n",
      "TRAIN_LOSS 2.1300 | VAL_LOSS 0.1495\n",
      "EPOCH 0009 / 0200 | ELAPSED_TIME 1.8877\n",
      "TRAIN_LOSS 2.1256 | VAL_LOSS 0.1430\n",
      "EPOCH 0010 / 0200 | ELAPSED_TIME 1.9663\n",
      "TRAIN_LOSS 2.1209 | VAL_LOSS 0.1380\n",
      "EPOCH 0011 / 0200 | ELAPSED_TIME 1.8981\n",
      "TRAIN_LOSS 2.1177 | VAL_LOSS 0.1347\n",
      "EPOCH 0012 / 0200 | ELAPSED_TIME 1.9787\n",
      "TRAIN_LOSS 2.1138 | VAL_LOSS 0.1290\n",
      "EPOCH 0013 / 0200 | ELAPSED_TIME 1.9258\n",
      "TRAIN_LOSS 2.1097 | VAL_LOSS 0.1246\n",
      "EPOCH 0014 / 0200 | ELAPSED_TIME 1.9847\n",
      "TRAIN_LOSS 2.1069 | VAL_LOSS 0.1195\n",
      "EPOCH 0015 / 0200 | ELAPSED_TIME 1.8817\n",
      "TRAIN_LOSS 2.1044 | VAL_LOSS 0.1136\n",
      "EPOCH 0016 / 0200 | ELAPSED_TIME 2.0022\n",
      "TRAIN_LOSS 2.1024 | VAL_LOSS 0.1058\n",
      "EPOCH 0017 / 0200 | ELAPSED_TIME 1.8577\n",
      "TRAIN_LOSS 2.1003 | VAL_LOSS 0.0993\n",
      "EPOCH 0018 / 0200 | ELAPSED_TIME 1.8926\n",
      "TRAIN_LOSS 2.0987 | VAL_LOSS 0.0924\n",
      "EPOCH 0019 / 0200 | ELAPSED_TIME 1.9080\n",
      "TRAIN_LOSS 2.0974 | VAL_LOSS 0.0885\n",
      "EPOCH 0020 / 0200 | ELAPSED_TIME 1.8636\n",
      "TRAIN_LOSS 2.0968 | VAL_LOSS 0.0883\n",
      "EPOCH 0021 / 0200 | ELAPSED_TIME 1.9950\n",
      "TRAIN_LOSS 2.0962 | VAL_LOSS 0.0883\n",
      "EPOCH 0022 / 0200 | ELAPSED_TIME 1.9046\n",
      "TRAIN_LOSS 2.0960 | VAL_LOSS 0.0938\n",
      "EPOCH 0023 / 0200 | ELAPSED_TIME 1.8669\n",
      "TRAIN_LOSS 2.0953 | VAL_LOSS 0.0914\n",
      "EPOCH 0024 / 0200 | ELAPSED_TIME 1.9219\n",
      "TRAIN_LOSS 2.0948 | VAL_LOSS 0.0916\n",
      "EPOCH 0025 / 0200 | ELAPSED_TIME 1.9247\n",
      "TRAIN_LOSS 2.0947 | VAL_LOSS 0.0911\n",
      "EPOCH 0026 / 0200 | ELAPSED_TIME 1.9062\n",
      "TRAIN_LOSS 2.0937 | VAL_LOSS 0.0860\n",
      "EPOCH 0027 / 0200 | ELAPSED_TIME 1.8815\n",
      "TRAIN_LOSS 2.0933 | VAL_LOSS 0.0839\n",
      "EPOCH 0028 / 0200 | ELAPSED_TIME 1.8751\n",
      "TRAIN_LOSS 2.0929 | VAL_LOSS 0.0820\n",
      "EPOCH 0029 / 0200 | ELAPSED_TIME 1.9486\n",
      "TRAIN_LOSS 2.0927 | VAL_LOSS 0.0802\n",
      "EPOCH 0030 / 0200 | ELAPSED_TIME 1.8962\n",
      "TRAIN_LOSS 2.0931 | VAL_LOSS 0.0775\n",
      "EPOCH 0031 / 0200 | ELAPSED_TIME 1.8627\n",
      "TRAIN_LOSS 2.0929 | VAL_LOSS 0.0771\n",
      "EPOCH 0032 / 0200 | ELAPSED_TIME 1.9256\n",
      "TRAIN_LOSS 2.0928 | VAL_LOSS 0.0761\n",
      "EPOCH 0033 / 0200 | ELAPSED_TIME 1.9930\n",
      "TRAIN_LOSS 2.0929 | VAL_LOSS 0.0753\n",
      "EPOCH 0034 / 0200 | ELAPSED_TIME 1.9123\n",
      "TRAIN_LOSS 2.0925 | VAL_LOSS 0.0754\n",
      "EPOCH 0035 / 0200 | ELAPSED_TIME 1.9298\n",
      "TRAIN_LOSS 2.0926 | VAL_LOSS 0.0758\n",
      "EPOCH 0036 / 0200 | ELAPSED_TIME 1.8874\n",
      "TRAIN_LOSS 2.0925 | VAL_LOSS 0.0749\n",
      "EPOCH 0037 / 0200 | ELAPSED_TIME 1.8884\n",
      "TRAIN_LOSS 2.0923 | VAL_LOSS 0.0742\n",
      "EPOCH 0038 / 0200 | ELAPSED_TIME 1.8981\n",
      "TRAIN_LOSS 2.0926 | VAL_LOSS 0.0749\n",
      "EPOCH 0039 / 0200 | ELAPSED_TIME 1.9078\n",
      "TRAIN_LOSS 2.0923 | VAL_LOSS 0.0764\n",
      "EPOCH 0040 / 0200 | ELAPSED_TIME 1.8418\n",
      "TRAIN_LOSS 2.0925 | VAL_LOSS 0.0767\n",
      "EPOCH 0041 / 0200 | ELAPSED_TIME 1.8756\n",
      "TRAIN_LOSS 2.0921 | VAL_LOSS 0.0782\n",
      "EPOCH 0042 / 0200 | ELAPSED_TIME 1.8427\n",
      "TRAIN_LOSS 2.0922 | VAL_LOSS 0.0799\n",
      "EPOCH 0043 / 0200 | ELAPSED_TIME 1.8851\n",
      "TRAIN_LOSS 2.0918 | VAL_LOSS 0.0827\n",
      "EPOCH 0044 / 0200 | ELAPSED_TIME 1.9528\n",
      "TRAIN_LOSS 2.0917 | VAL_LOSS 0.0848\n",
      "EPOCH 0045 / 0200 | ELAPSED_TIME 1.9141\n",
      "TRAIN_LOSS 2.0914 | VAL_LOSS 0.0862\n",
      "EPOCH 0046 / 0200 | ELAPSED_TIME 1.9236\n",
      "TRAIN_LOSS 2.0912 | VAL_LOSS 0.0891\n",
      "EPOCH 0047 / 0200 | ELAPSED_TIME 1.9315\n",
      "TRAIN_LOSS 2.0910 | VAL_LOSS 0.0892\n",
      "EPOCH 0048 / 0200 | ELAPSED_TIME 1.8771\n",
      "TRAIN_LOSS 2.0909 | VAL_LOSS 0.0924\n",
      "EPOCH 0049 / 0200 | ELAPSED_TIME 1.8922\n",
      "TRAIN_LOSS 2.0906 | VAL_LOSS 0.0963\n",
      "EPOCH 0050 / 0200 | ELAPSED_TIME 1.8694\n",
      "TRAIN_LOSS 2.0904 | VAL_LOSS 0.0943\n",
      "EPOCH 0051 / 0200 | ELAPSED_TIME 1.9612\n",
      "TRAIN_LOSS 2.0904 | VAL_LOSS 0.0979\n",
      "EPOCH 0052 / 0200 | ELAPSED_TIME 1.9700\n",
      "TRAIN_LOSS 2.0903 | VAL_LOSS 0.0977\n",
      "EPOCH 0053 / 0200 | ELAPSED_TIME 1.9119\n",
      "TRAIN_LOSS 2.0896 | VAL_LOSS 0.0986\n",
      "EPOCH 0054 / 0200 | ELAPSED_TIME 1.8934\n",
      "TRAIN_LOSS 2.0902 | VAL_LOSS 0.1001\n",
      "EPOCH 0055 / 0200 | ELAPSED_TIME 1.9040\n",
      "TRAIN_LOSS 2.0899 | VAL_LOSS 0.0987\n",
      "EPOCH 0056 / 0200 | ELAPSED_TIME 1.9319\n",
      "TRAIN_LOSS 2.0898 | VAL_LOSS 0.0995\n",
      "EPOCH 0057 / 0200 | ELAPSED_TIME 1.9486\n",
      "TRAIN_LOSS 2.0900 | VAL_LOSS 0.1025\n",
      "EPOCH 0058 / 0200 | ELAPSED_TIME 1.9105\n",
      "TRAIN_LOSS 2.0899 | VAL_LOSS 0.0989\n",
      "EPOCH 0059 / 0200 | ELAPSED_TIME 1.9654\n",
      "TRAIN_LOSS 2.0891 | VAL_LOSS 0.1015\n",
      "EPOCH 0060 / 0200 | ELAPSED_TIME 1.9533\n",
      "TRAIN_LOSS 2.0897 | VAL_LOSS 0.1038\n",
      "EPOCH 0061 / 0200 | ELAPSED_TIME 1.9282\n",
      "TRAIN_LOSS 2.0897 | VAL_LOSS 0.1001\n",
      "EPOCH 0062 / 0200 | ELAPSED_TIME 1.9695\n",
      "TRAIN_LOSS 2.0894 | VAL_LOSS 0.1010\n",
      "EPOCH 0063 / 0200 | ELAPSED_TIME 1.9695\n",
      "TRAIN_LOSS 2.0900 | VAL_LOSS 0.1012\n",
      "EPOCH 0064 / 0200 | ELAPSED_TIME 1.9781\n",
      "TRAIN_LOSS 2.0895 | VAL_LOSS 0.1018\n",
      "EPOCH 0065 / 0200 | ELAPSED_TIME 1.8714\n",
      "TRAIN_LOSS 2.0898 | VAL_LOSS 0.1022\n",
      "EPOCH 0066 / 0200 | ELAPSED_TIME 1.9780\n",
      "TRAIN_LOSS 2.0896 | VAL_LOSS 0.1010\n",
      "EPOCH 0067 / 0200 | ELAPSED_TIME 1.9829\n",
      "TRAIN_LOSS 2.0891 | VAL_LOSS 0.0987\n",
      "EPOCH 0068 / 0200 | ELAPSED_TIME 1.9080\n",
      "TRAIN_LOSS 2.0887 | VAL_LOSS 0.1032\n",
      "EPOCH 0069 / 0200 | ELAPSED_TIME 1.8843\n",
      "TRAIN_LOSS 2.0893 | VAL_LOSS 0.1010\n",
      "EPOCH 0070 / 0200 | ELAPSED_TIME 2.0605\n",
      "TRAIN_LOSS 2.0889 | VAL_LOSS 0.1020\n",
      "EPOCH 0071 / 0200 | ELAPSED_TIME 1.9849\n",
      "TRAIN_LOSS 2.0896 | VAL_LOSS 0.0997\n",
      "EPOCH 0072 / 0200 | ELAPSED_TIME 1.8155\n",
      "TRAIN_LOSS 2.0891 | VAL_LOSS 0.1014\n",
      "EPOCH 0073 / 0200 | ELAPSED_TIME 1.8955\n",
      "TRAIN_LOSS 2.0893 | VAL_LOSS 0.0998\n",
      "EPOCH 0074 / 0200 | ELAPSED_TIME 1.8550\n",
      "TRAIN_LOSS 2.0889 | VAL_LOSS 0.0993\n",
      "EPOCH 0075 / 0200 | ELAPSED_TIME 1.9393\n",
      "TRAIN_LOSS 2.0887 | VAL_LOSS 0.1010\n",
      "EPOCH 0076 / 0200 | ELAPSED_TIME 1.9705\n",
      "TRAIN_LOSS 2.0890 | VAL_LOSS 0.0993\n",
      "EPOCH 0077 / 0200 | ELAPSED_TIME 1.9397\n",
      "TRAIN_LOSS 2.0885 | VAL_LOSS 0.0981\n",
      "EPOCH 0078 / 0200 | ELAPSED_TIME 1.8706\n",
      "TRAIN_LOSS 2.0884 | VAL_LOSS 0.1010\n",
      "EPOCH 0079 / 0200 | ELAPSED_TIME 1.9072\n",
      "TRAIN_LOSS 2.0888 | VAL_LOSS 0.0978\n",
      "EPOCH 0080 / 0200 | ELAPSED_TIME 1.9953\n",
      "TRAIN_LOSS 2.0883 | VAL_LOSS 0.1000\n",
      "EPOCH 0081 / 0200 | ELAPSED_TIME 1.9159\n",
      "TRAIN_LOSS 2.0888 | VAL_LOSS 0.0991\n",
      "EPOCH 0082 / 0200 | ELAPSED_TIME 1.9820\n",
      "TRAIN_LOSS 2.0884 | VAL_LOSS 0.0970\n",
      "EPOCH 0083 / 0200 | ELAPSED_TIME 1.8964\n",
      "TRAIN_LOSS 2.0882 | VAL_LOSS 0.0995\n",
      "EPOCH 0084 / 0200 | ELAPSED_TIME 1.9494\n",
      "TRAIN_LOSS 2.0885 | VAL_LOSS 0.0993\n",
      "EPOCH 0085 / 0200 | ELAPSED_TIME 1.8807\n",
      "TRAIN_LOSS 2.0882 | VAL_LOSS 0.0959\n",
      "EPOCH 0086 / 0200 | ELAPSED_TIME 1.9585\n",
      "TRAIN_LOSS 2.0881 | VAL_LOSS 0.0996\n",
      "EPOCH 0087 / 0200 | ELAPSED_TIME 1.9264\n",
      "TRAIN_LOSS 2.0884 | VAL_LOSS 0.0985\n",
      "EPOCH 0088 / 0200 | ELAPSED_TIME 1.9391\n",
      "TRAIN_LOSS 2.0880 | VAL_LOSS 0.0969\n",
      "EPOCH 0089 / 0200 | ELAPSED_TIME 1.8928\n",
      "TRAIN_LOSS 2.0880 | VAL_LOSS 0.1000\n",
      "EPOCH 0090 / 0200 | ELAPSED_TIME 1.9827\n",
      "TRAIN_LOSS 2.0883 | VAL_LOSS 0.0993\n",
      "EPOCH 0091 / 0200 | ELAPSED_TIME 1.9534\n",
      "TRAIN_LOSS 2.0882 | VAL_LOSS 0.0955\n",
      "EPOCH 0092 / 0200 | ELAPSED_TIME 1.8405\n",
      "TRAIN_LOSS 2.0880 | VAL_LOSS 0.0990\n",
      "EPOCH 0093 / 0200 | ELAPSED_TIME 1.9253\n",
      "TRAIN_LOSS 2.0881 | VAL_LOSS 0.0996\n",
      "EPOCH 0094 / 0200 | ELAPSED_TIME 1.9050\n",
      "TRAIN_LOSS 2.0878 | VAL_LOSS 0.0950\n",
      "EPOCH 0095 / 0200 | ELAPSED_TIME 1.8910\n",
      "TRAIN_LOSS 2.0873 | VAL_LOSS 0.0990\n",
      "EPOCH 0096 / 0200 | ELAPSED_TIME 1.9319\n",
      "TRAIN_LOSS 2.0875 | VAL_LOSS 0.0995\n",
      "EPOCH 0097 / 0200 | ELAPSED_TIME 1.9037\n",
      "TRAIN_LOSS 2.0874 | VAL_LOSS 0.0958\n",
      "EPOCH 0098 / 0200 | ELAPSED_TIME 1.9506\n",
      "TRAIN_LOSS 2.0871 | VAL_LOSS 0.0981\n",
      "EPOCH 0099 / 0200 | ELAPSED_TIME 1.9254\n",
      "TRAIN_LOSS 2.0873 | VAL_LOSS 0.1017\n",
      "EPOCH 0100 / 0200 | ELAPSED_TIME 1.9092\n",
      "TRAIN_LOSS 2.0875 | VAL_LOSS 0.0943\n",
      "EPOCH 0101 / 0200 | ELAPSED_TIME 2.0509\n",
      "TRAIN_LOSS 2.0869 | VAL_LOSS 0.1012\n",
      "EPOCH 0102 / 0200 | ELAPSED_TIME 1.9499\n",
      "TRAIN_LOSS 2.0874 | VAL_LOSS 0.0951\n",
      "EPOCH 0103 / 0200 | ELAPSED_TIME 1.9259\n",
      "TRAIN_LOSS 2.0865 | VAL_LOSS 0.0999\n",
      "EPOCH 0104 / 0200 | ELAPSED_TIME 1.8874\n",
      "TRAIN_LOSS 2.0870 | VAL_LOSS 0.0995\n",
      "EPOCH 0105 / 0200 | ELAPSED_TIME 1.8360\n",
      "TRAIN_LOSS 2.0867 | VAL_LOSS 0.0966\n",
      "EPOCH 0106 / 0200 | ELAPSED_TIME 1.8663\n",
      "TRAIN_LOSS 2.0865 | VAL_LOSS 0.0955\n",
      "EPOCH 0107 / 0200 | ELAPSED_TIME 1.8460\n",
      "TRAIN_LOSS 2.0865 | VAL_LOSS 0.1029\n",
      "EPOCH 0108 / 0200 | ELAPSED_TIME 2.0148\n",
      "TRAIN_LOSS 2.0871 | VAL_LOSS 0.0925\n",
      "EPOCH 0109 / 0200 | ELAPSED_TIME 1.7876\n",
      "TRAIN_LOSS 2.0863 | VAL_LOSS 0.1011\n",
      "EPOCH 0110 / 0200 | ELAPSED_TIME 1.9681\n",
      "TRAIN_LOSS 2.0867 | VAL_LOSS 0.0940\n",
      "EPOCH 0111 / 0200 | ELAPSED_TIME 1.9421\n",
      "TRAIN_LOSS 2.0863 | VAL_LOSS 0.1043\n",
      "EPOCH 0112 / 0200 | ELAPSED_TIME 1.9063\n",
      "TRAIN_LOSS 2.0875 | VAL_LOSS 0.0977\n",
      "EPOCH 0113 / 0200 | ELAPSED_TIME 1.9272\n",
      "TRAIN_LOSS 2.0868 | VAL_LOSS 0.0967\n",
      "EPOCH 0114 / 0200 | ELAPSED_TIME 2.0222\n",
      "TRAIN_LOSS 2.0862 | VAL_LOSS 0.0971\n",
      "EPOCH 0115 / 0200 | ELAPSED_TIME 1.8736\n",
      "TRAIN_LOSS 2.0860 | VAL_LOSS 0.1008\n",
      "EPOCH 0116 / 0200 | ELAPSED_TIME 1.8939\n",
      "TRAIN_LOSS 2.0870 | VAL_LOSS 0.0943\n",
      "EPOCH 0117 / 0200 | ELAPSED_TIME 1.8492\n",
      "TRAIN_LOSS 2.0870 | VAL_LOSS 0.1042\n",
      "EPOCH 0118 / 0200 | ELAPSED_TIME 1.9274\n",
      "TRAIN_LOSS 2.0877 | VAL_LOSS 0.0965\n",
      "EPOCH 0119 / 0200 | ELAPSED_TIME 1.9006\n",
      "TRAIN_LOSS 2.0866 | VAL_LOSS 0.0946\n",
      "EPOCH 0120 / 0200 | ELAPSED_TIME 1.9204\n",
      "TRAIN_LOSS 2.0860 | VAL_LOSS 0.0974\n",
      "EPOCH 0121 / 0200 | ELAPSED_TIME 2.0290\n",
      "TRAIN_LOSS 2.0857 | VAL_LOSS 0.1003\n",
      "EPOCH 0122 / 0200 | ELAPSED_TIME 1.9434\n",
      "TRAIN_LOSS 2.0858 | VAL_LOSS 0.0997\n",
      "EPOCH 0123 / 0200 | ELAPSED_TIME 2.0039\n",
      "TRAIN_LOSS 2.0862 | VAL_LOSS 0.0937\n",
      "EPOCH 0124 / 0200 | ELAPSED_TIME 1.9411\n",
      "TRAIN_LOSS 2.0865 | VAL_LOSS 0.1042\n",
      "EPOCH 0125 / 0200 | ELAPSED_TIME 1.8736\n",
      "TRAIN_LOSS 2.0875 | VAL_LOSS 0.0978\n",
      "EPOCH 0126 / 0200 | ELAPSED_TIME 1.9491\n",
      "TRAIN_LOSS 2.0865 | VAL_LOSS 0.0943\n",
      "EPOCH 0127 / 0200 | ELAPSED_TIME 1.8989\n",
      "TRAIN_LOSS 2.0858 | VAL_LOSS 0.0969\n",
      "EPOCH 0128 / 0200 | ELAPSED_TIME 1.9424\n",
      "TRAIN_LOSS 2.0854 | VAL_LOSS 0.0998\n",
      "EPOCH 0129 / 0200 | ELAPSED_TIME 2.0086\n",
      "TRAIN_LOSS 2.0855 | VAL_LOSS 0.1000\n",
      "EPOCH 0130 / 0200 | ELAPSED_TIME 1.8742\n",
      "TRAIN_LOSS 2.0858 | VAL_LOSS 0.1001\n",
      "EPOCH 0131 / 0200 | ELAPSED_TIME 1.9191\n",
      "TRAIN_LOSS 2.0858 | VAL_LOSS 0.0995\n",
      "EPOCH 0132 / 0200 | ELAPSED_TIME 1.9378\n",
      "TRAIN_LOSS 2.0857 | VAL_LOSS 0.0938\n",
      "EPOCH 0133 / 0200 | ELAPSED_TIME 1.9997\n",
      "TRAIN_LOSS 2.0860 | VAL_LOSS 0.1045\n",
      "EPOCH 0134 / 0200 | ELAPSED_TIME 1.8683\n",
      "TRAIN_LOSS 2.0871 | VAL_LOSS 0.0985\n",
      "EPOCH 0135 / 0200 | ELAPSED_TIME 1.8763\n",
      "TRAIN_LOSS 2.0862 | VAL_LOSS 0.0941\n",
      "EPOCH 0136 / 0200 | ELAPSED_TIME 1.9697\n",
      "TRAIN_LOSS 2.0854 | VAL_LOSS 0.0963\n",
      "EPOCH 0137 / 0200 | ELAPSED_TIME 1.9283\n",
      "TRAIN_LOSS 2.0851 | VAL_LOSS 0.0990\n",
      "EPOCH 0138 / 0200 | ELAPSED_TIME 1.8858\n",
      "TRAIN_LOSS 2.0850 | VAL_LOSS 0.1001\n",
      "EPOCH 0139 / 0200 | ELAPSED_TIME 1.9401\n",
      "TRAIN_LOSS 2.0852 | VAL_LOSS 0.0999\n",
      "EPOCH 0140 / 0200 | ELAPSED_TIME 1.9708\n",
      "TRAIN_LOSS 2.0852 | VAL_LOSS 0.0993\n",
      "EPOCH 0141 / 0200 | ELAPSED_TIME 1.9236\n",
      "TRAIN_LOSS 2.0851 | VAL_LOSS 0.0946\n",
      "EPOCH 0142 / 0200 | ELAPSED_TIME 1.9370\n",
      "TRAIN_LOSS 2.0851 | VAL_LOSS 0.1052\n",
      "EPOCH 0143 / 0200 | ELAPSED_TIME 1.8716\n",
      "TRAIN_LOSS 2.0862 | VAL_LOSS 0.0982\n",
      "EPOCH 0144 / 0200 | ELAPSED_TIME 1.8444\n",
      "TRAIN_LOSS 2.0858 | VAL_LOSS 0.0945\n",
      "EPOCH 0145 / 0200 | ELAPSED_TIME 1.9483\n",
      "TRAIN_LOSS 2.0851 | VAL_LOSS 0.0963\n",
      "EPOCH 0146 / 0200 | ELAPSED_TIME 1.8748\n",
      "TRAIN_LOSS 2.0847 | VAL_LOSS 0.0993\n",
      "EPOCH 0147 / 0200 | ELAPSED_TIME 1.9347\n",
      "TRAIN_LOSS 2.0847 | VAL_LOSS 0.1001\n",
      "EPOCH 0148 / 0200 | ELAPSED_TIME 1.8574\n",
      "TRAIN_LOSS 2.0848 | VAL_LOSS 0.0999\n",
      "EPOCH 0149 / 0200 | ELAPSED_TIME 1.9095\n",
      "TRAIN_LOSS 2.0847 | VAL_LOSS 0.0993\n",
      "EPOCH 0150 / 0200 | ELAPSED_TIME 1.9139\n",
      "TRAIN_LOSS 2.0847 | VAL_LOSS 0.0995\n",
      "EPOCH 0151 / 0200 | ELAPSED_TIME 1.8338\n",
      "TRAIN_LOSS 2.0846 | VAL_LOSS 0.0982\n",
      "EPOCH 0152 / 0200 | ELAPSED_TIME 1.9309\n",
      "TRAIN_LOSS 2.0845 | VAL_LOSS 0.0937\n",
      "EPOCH 0153 / 0200 | ELAPSED_TIME 1.9436\n",
      "TRAIN_LOSS 2.0848 | VAL_LOSS 0.1047\n",
      "EPOCH 0154 / 0200 | ELAPSED_TIME 1.9925\n",
      "TRAIN_LOSS 2.0858 | VAL_LOSS 0.0969\n",
      "EPOCH 0155 / 0200 | ELAPSED_TIME 1.9796\n",
      "TRAIN_LOSS 2.0854 | VAL_LOSS 0.0932\n",
      "EPOCH 0156 / 0200 | ELAPSED_TIME 1.9590\n",
      "TRAIN_LOSS 2.0844 | VAL_LOSS 0.0952\n",
      "EPOCH 0157 / 0200 | ELAPSED_TIME 1.9005\n",
      "TRAIN_LOSS 2.0841 | VAL_LOSS 0.0984\n",
      "EPOCH 0158 / 0200 | ELAPSED_TIME 1.9909\n",
      "TRAIN_LOSS 2.0841 | VAL_LOSS 0.0993\n",
      "EPOCH 0159 / 0200 | ELAPSED_TIME 1.9408\n",
      "TRAIN_LOSS 2.0843 | VAL_LOSS 0.0990\n",
      "EPOCH 0160 / 0200 | ELAPSED_TIME 1.9338\n",
      "TRAIN_LOSS 2.0844 | VAL_LOSS 0.0968\n",
      "EPOCH 0161 / 0200 | ELAPSED_TIME 1.8917\n",
      "TRAIN_LOSS 2.0842 | VAL_LOSS 0.0957\n",
      "EPOCH 0162 / 0200 | ELAPSED_TIME 1.9538\n",
      "TRAIN_LOSS 2.0843 | VAL_LOSS 0.1039\n",
      "EPOCH 0163 / 0200 | ELAPSED_TIME 1.8865\n",
      "TRAIN_LOSS 2.0849 | VAL_LOSS 0.0964\n",
      "EPOCH 0164 / 0200 | ELAPSED_TIME 1.9226\n",
      "TRAIN_LOSS 2.0849 | VAL_LOSS 0.0946\n",
      "EPOCH 0165 / 0200 | ELAPSED_TIME 1.9147\n",
      "TRAIN_LOSS 2.0840 | VAL_LOSS 0.0955\n",
      "EPOCH 0166 / 0200 | ELAPSED_TIME 1.9379\n",
      "TRAIN_LOSS 2.0839 | VAL_LOSS 0.0936\n",
      "EPOCH 0167 / 0200 | ELAPSED_TIME 2.0090\n",
      "TRAIN_LOSS 2.0841 | VAL_LOSS 0.1047\n",
      "EPOCH 0168 / 0200 | ELAPSED_TIME 1.9982\n",
      "TRAIN_LOSS 2.0851 | VAL_LOSS 0.0962\n",
      "EPOCH 0169 / 0200 | ELAPSED_TIME 1.9070\n",
      "TRAIN_LOSS 2.0848 | VAL_LOSS 0.0934\n",
      "EPOCH 0170 / 0200 | ELAPSED_TIME 1.9777\n",
      "TRAIN_LOSS 2.0838 | VAL_LOSS 0.0957\n",
      "EPOCH 0171 / 0200 | ELAPSED_TIME 1.9006\n",
      "TRAIN_LOSS 2.0837 | VAL_LOSS 0.0977\n",
      "EPOCH 0172 / 0200 | ELAPSED_TIME 1.9631\n",
      "TRAIN_LOSS 2.0837 | VAL_LOSS 0.0987\n",
      "EPOCH 0173 / 0200 | ELAPSED_TIME 1.9222\n",
      "TRAIN_LOSS 2.0838 | VAL_LOSS 0.0984\n",
      "EPOCH 0174 / 0200 | ELAPSED_TIME 1.8656\n",
      "TRAIN_LOSS 2.0838 | VAL_LOSS 0.0938\n",
      "EPOCH 0175 / 0200 | ELAPSED_TIME 1.8736\n",
      "TRAIN_LOSS 2.0837 | VAL_LOSS 0.1047\n",
      "EPOCH 0176 / 0200 | ELAPSED_TIME 1.9983\n",
      "TRAIN_LOSS 2.0843 | VAL_LOSS 0.0971\n",
      "EPOCH 0177 / 0200 | ELAPSED_TIME 1.9684\n",
      "TRAIN_LOSS 2.0843 | VAL_LOSS 0.0948\n",
      "EPOCH 0178 / 0200 | ELAPSED_TIME 1.8997\n",
      "TRAIN_LOSS 2.0836 | VAL_LOSS 0.0968\n",
      "EPOCH 0179 / 0200 | ELAPSED_TIME 1.9192\n",
      "TRAIN_LOSS 2.0835 | VAL_LOSS 0.0984\n",
      "EPOCH 0180 / 0200 | ELAPSED_TIME 1.8503\n",
      "TRAIN_LOSS 2.0835 | VAL_LOSS 0.0987\n",
      "EPOCH 0181 / 0200 | ELAPSED_TIME 1.8419\n",
      "TRAIN_LOSS 2.0836 | VAL_LOSS 0.0979\n",
      "EPOCH 0182 / 0200 | ELAPSED_TIME 1.9693\n",
      "TRAIN_LOSS 2.0835 | VAL_LOSS 0.0930\n",
      "EPOCH 0183 / 0200 | ELAPSED_TIME 2.0346\n",
      "TRAIN_LOSS 2.0837 | VAL_LOSS 0.1049\n",
      "EPOCH 0184 / 0200 | ELAPSED_TIME 1.8769\n",
      "TRAIN_LOSS 2.0846 | VAL_LOSS 0.0970\n",
      "EPOCH 0185 / 0200 | ELAPSED_TIME 1.9054\n",
      "TRAIN_LOSS 2.0845 | VAL_LOSS 0.0936\n",
      "EPOCH 0186 / 0200 | ELAPSED_TIME 1.8459\n",
      "TRAIN_LOSS 2.0835 | VAL_LOSS 0.0958\n",
      "EPOCH 0187 / 0200 | ELAPSED_TIME 1.9512\n",
      "TRAIN_LOSS 2.0834 | VAL_LOSS 0.0962\n",
      "EPOCH 0188 / 0200 | ELAPSED_TIME 1.8817\n",
      "TRAIN_LOSS 2.0833 | VAL_LOSS 0.0941\n",
      "EPOCH 0189 / 0200 | ELAPSED_TIME 1.9091\n",
      "TRAIN_LOSS 2.0831 | VAL_LOSS 0.1041\n",
      "EPOCH 0190 / 0200 | ELAPSED_TIME 1.8086\n",
      "TRAIN_LOSS 2.0837 | VAL_LOSS 0.0967\n",
      "EPOCH 0191 / 0200 | ELAPSED_TIME 1.9367\n",
      "TRAIN_LOSS 2.0838 | VAL_LOSS 0.0959\n",
      "EPOCH 0192 / 0200 | ELAPSED_TIME 1.9629\n",
      "TRAIN_LOSS 2.0833 | VAL_LOSS 0.0967\n",
      "EPOCH 0193 / 0200 | ELAPSED_TIME 1.8966\n",
      "TRAIN_LOSS 2.0832 | VAL_LOSS 0.0977\n",
      "EPOCH 0194 / 0200 | ELAPSED_TIME 1.9402\n",
      "TRAIN_LOSS 2.0831 | VAL_LOSS 0.0948\n",
      "EPOCH 0195 / 0200 | ELAPSED_TIME 1.9269\n",
      "TRAIN_LOSS 2.0829 | VAL_LOSS 0.1038\n",
      "EPOCH 0196 / 0200 | ELAPSED_TIME 1.9166\n",
      "TRAIN_LOSS 2.0835 | VAL_LOSS 0.0962\n",
      "EPOCH 0197 / 0200 | ELAPSED_TIME 2.0120\n",
      "TRAIN_LOSS 2.0836 | VAL_LOSS 0.0958\n",
      "EPOCH 0198 / 0200 | ELAPSED_TIME 1.9841\n",
      "TRAIN_LOSS 2.0830 | VAL_LOSS 0.0960\n",
      "EPOCH 0199 / 0200 | ELAPSED_TIME 1.9508\n",
      "TRAIN_LOSS 2.0829 | VAL_LOSS 0.0937\n",
      "EPOCH 0200 / 0200 | ELAPSED_TIME 1.8570\n",
      "TRAIN_LOSS 2.0828 | VAL_LOSS 0.1053\n"
     ]
    }
   ],
   "source": [
    "net, optim, st_epoch = load(ckpt_dir = ckpt_dir, net = net, optim = optim)\n",
    "\n",
    "train_loader = DataLoader(train_dataset, batch_size = batch_size, shuffle = False, num_workers = 8)\n",
    "val_loader = DataLoader(val_dataset, batch_size = batch_size, shuffle = False, num_workers= 8)\n",
    "\n",
    "print('Start Epoch :', st_epoch)\n",
    "\n",
    "train_loss_lst = []\n",
    "val_loss_lst = []\n",
    "\n",
    "for epoch in range(st_epoch + 1, num_epoch + 1):\n",
    "    since = time.time()\n",
    "    \n",
    "    train_loss = train(train_loader = train_loader)\n",
    "    train_loss_lst.append(train_loss)\n",
    "\n",
    "    val_loss, output_lst = evaluate(test_loader=val_loader)\n",
    "    val_loss_lst.append(val_loss)\n",
    "\n",
    "    elapsed_time = time.time()-since\n",
    "    print('EPOCH %04d / %04d | ELAPSED_TIME %.4f' %(epoch, num_epoch, elapsed_time))\n",
    "    print('TRAIN_LOSS %.4f | VAL_LOSS %.4f' %(train_loss, val_loss))\n",
    "\n",
    "    if epoch % 100 == 0:\n",
    "        save(ckpt_dir = ckpt_dir, net = net, optim = optim, epoch = epoch)"
   ]
  },
  {
   "cell_type": "code",
   "execution_count": 32,
   "metadata": {},
   "outputs": [
    {
     "data": {
      "text/plain": [
       "[<matplotlib.lines.Line2D at 0x7f388737cca0>]"
      ]
     },
     "execution_count": 32,
     "metadata": {},
     "output_type": "execute_result"
    },
    {
     "data": {
      "image/png": "[encoded data removed]",
      "text/plain": [
       "<Figure size 640x480 with 1 Axes>"
      ]
     },
     "metadata": {},
     "output_type": "display_data"
    }
   ],
   "source": [
    "plt.plot(train_loss_lst, color = 'b')\n",
    "plt.plot(val_loss_lst, color='r')"
   ]
  },
  {
   "cell_type": "markdown",
   "metadata": {},
   "source": [
    "## Test"
   ]
  },
  {
   "cell_type": "code",
   "execution_count": 33,
   "metadata": {},
   "outputs": [
    {
     "name": "stderr",
     "output_type": "stream",
     "text": [
      "/home/khs1/miniconda3/envs/cw/lib/python3.8/site-packages/torch/nn/modules/loss.py:528: UserWarning: Using a target size (torch.Size([1])) that is different to the input size (torch.Size([])). This will likely lead to incorrect results due to broadcasting. Please ensure they have the same size.\n",
      "  return F.mse_loss(input, target, reduction=self.reduction)\n"
     ]
    },
    {
     "name": "stdout",
     "output_type": "stream",
     "text": [
      "Test Loss mean : 1.919825122172331\n"
     ]
    }
   ],
   "source": [
    "test_loader = DataLoader(test_dataset, batch_size = 1, shuffle = False, num_workers= 8)\n",
    "test_loss, output_lst = evaluate(test_loader)\n",
    "print('Test Loss mean :', test_loss)"
   ]
  },
  {
   "cell_type": "code",
   "execution_count": 35,
   "metadata": {},
   "outputs": [
    {
     "name": "stderr",
     "output_type": "stream",
     "text": [
      "/home/khs1/miniconda3/envs/cw/lib/python3.8/site-packages/numpy/core/shape_base.py:65: FutureWarning: The input object of type 'Tensor' is an array-like implementing one of the corresponding protocols (`__array__`, `__array_interface__` or `__array_struct__`); but not a sequence (or 0-D). In the future, this object will be coerced as if it was first converted using `np.array(obj)`. To retain the old behaviour, you have to either modify the type 'Tensor', or assign to an empty array created with `np.empty(correct_shape, dtype=object)`.\n",
      "  ary = asanyarray(ary)\n",
      "/home/khs1/miniconda3/envs/cw/lib/python3.8/site-packages/numpy/core/shape_base.py:65: VisibleDeprecationWarning: Creating an ndarray from ragged nested sequences (which is a list-or-tuple of lists-or-tuples-or ndarrays with different lengths or shapes) is deprecated. If you meant to do this, you must specify 'dtype=object' when creating the ndarray.\n",
      "  ary = asanyarray(ary)\n"
     ]
    },
    {
     "data": {
      "text/plain": [
       "[<matplotlib.lines.Line2D at 0x7f3886b00700>]"
      ]
     },
     "execution_count": 35,
     "metadata": {},
     "output_type": "execute_result"
    },
    {
     "data": {
      "image/png": "[encoded data removed]",
      "text/plain": [
       "<Figure size 640x480 with 1 Axes>"
      ]
     },
     "metadata": {},
     "output_type": "display_data"
    }
   ],
   "source": [
    "plt.plot(output_lst, color = 'b')\n",
    "plt.plot(test_label_df.values, color = 'r')"
   ]
  },
  {
   "cell_type": "code",
   "execution_count": null,
   "metadata": {},
   "outputs": [],
   "source": [
    "output_lst[9000]"
   ]
  },
  {
   "cell_type": "code",
   "execution_count": null,
   "metadata": {},
   "outputs": [],
   "source": [
    "test_label_df.values[9000]"
   ]
  },
  {
   "cell_type": "code",
   "execution_count": null,
   "metadata": {},
   "outputs": [],
   "source": [
    "plt.plot(output_lst, color = 'b')\n"
   ]
  },
  {
   "cell_type": "code",
   "execution_count": null,
   "metadata": {},
   "outputs": [],
   "source": [
    "plt.plot(train_label_df)"
   ]
  },
  {
   "cell_type": "markdown",
   "metadata": {},
   "source": [
    "# Reload model"
   ]
  },
  {
   "cell_type": "code",
   "execution_count": null,
   "metadata": {},
   "outputs": [],
   "source": [
    "import importlib\n",
    "importlib.reload(model)"
   ]
  },
  {
   "cell_type": "code",
   "execution_count": null,
   "metadata": {},
   "outputs": [],
   "source": [
    "train_df"
   ]
  },
  {
   "cell_type": "code",
   "execution_count": null,
   "metadata": {},
   "outputs": [],
   "source": []
  }
 ],
 "metadata": {
  "kernelspec": {
   "display_name": "Python 3.8.13 ('cw')",
   "language": "python",
   "name": "python3"
  },
  "language_info": {
   "codemirror_mode": {
    "name": "ipython",
    "version": 3
   },
   "file_extension": ".py",
   "mimetype": "text/x-python",
   "name": "python",
   "nbconvert_exporter": "python",
   "pygments_lexer": "ipython3",
   "version": "3.8.13"
  },
  "orig_nbformat": 4,
  "vscode": {
   "interpreter": {
    "hash": "ec4da52fa9e886196122bba9bf808c82da5b6193c6407cc120cc82a3da78ee2a"
   }
  }
 },
 "nbformat": 4,
 "nbformat_minor": 2
}
