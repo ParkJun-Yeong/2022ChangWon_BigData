{
 "cells": [
  {
   "cell_type": "code",
   "execution_count": 4,
   "metadata": {},
   "outputs": [],
   "source": [
    "import pandas as pd\n",
    "import numpy as np"
   ]
  },
  {
   "cell_type": "code",
   "execution_count": 5,
   "metadata": {},
   "outputs": [
    {
     "data": {
      "text/html": [
       "<div>\n",
       "<style scoped>\n",
       "    .dataframe tbody tr th:only-of-type {\n",
       "        vertical-align: middle;\n",
       "    }\n",
       "\n",
       "    .dataframe tbody tr th {\n",
       "        vertical-align: top;\n",
       "    }\n",
       "\n",
       "    .dataframe thead th {\n",
       "        text-align: right;\n",
       "    }\n",
       "</style>\n",
       "<table border=\"1\" class=\"dataframe\">\n",
       "  <thead>\n",
       "    <tr style=\"text-align: right;\">\n",
       "      <th></th>\n",
       "      <th>Unnamed: 0</th>\n",
       "      <th>창녕함안보_수위(EL.m)</th>\n",
       "    </tr>\n",
       "  </thead>\n",
       "  <tbody>\n",
       "    <tr>\n",
       "      <th>0</th>\n",
       "      <td>2012-08-27 01:00:00</td>\n",
       "      <td>5.45</td>\n",
       "    </tr>\n",
       "    <tr>\n",
       "      <th>1</th>\n",
       "      <td>2012-08-27 02:00:00</td>\n",
       "      <td>5.45</td>\n",
       "    </tr>\n",
       "    <tr>\n",
       "      <th>2</th>\n",
       "      <td>2012-08-27 03:00:00</td>\n",
       "      <td>5.45</td>\n",
       "    </tr>\n",
       "    <tr>\n",
       "      <th>3</th>\n",
       "      <td>2012-08-27 04:00:00</td>\n",
       "      <td>5.45</td>\n",
       "    </tr>\n",
       "    <tr>\n",
       "      <th>4</th>\n",
       "      <td>2012-08-27 05:00:00</td>\n",
       "      <td>5.45</td>\n",
       "    </tr>\n",
       "    <tr>\n",
       "      <th>...</th>\n",
       "      <td>...</td>\n",
       "      <td>...</td>\n",
       "    </tr>\n",
       "    <tr>\n",
       "      <th>81930</th>\n",
       "      <td>2021-12-31 19:00:00</td>\n",
       "      <td>4.89</td>\n",
       "    </tr>\n",
       "    <tr>\n",
       "      <th>81931</th>\n",
       "      <td>2021-12-31 20:00:00</td>\n",
       "      <td>4.89</td>\n",
       "    </tr>\n",
       "    <tr>\n",
       "      <th>81932</th>\n",
       "      <td>2021-12-31 21:00:00</td>\n",
       "      <td>4.90</td>\n",
       "    </tr>\n",
       "    <tr>\n",
       "      <th>81933</th>\n",
       "      <td>2021-12-31 22:00:00</td>\n",
       "      <td>4.90</td>\n",
       "    </tr>\n",
       "    <tr>\n",
       "      <th>81934</th>\n",
       "      <td>2021-12-31 23:00:00</td>\n",
       "      <td>4.90</td>\n",
       "    </tr>\n",
       "  </tbody>\n",
       "</table>\n",
       "<p>81935 rows × 2 columns</p>\n",
       "</div>"
      ],
      "text/plain": [
       "                Unnamed: 0  창녕함안보_수위(EL.m)\n",
       "0      2012-08-27 01:00:00            5.45\n",
       "1      2012-08-27 02:00:00            5.45\n",
       "2      2012-08-27 03:00:00            5.45\n",
       "3      2012-08-27 04:00:00            5.45\n",
       "4      2012-08-27 05:00:00            5.45\n",
       "...                    ...             ...\n",
       "81930  2021-12-31 19:00:00            4.89\n",
       "81931  2021-12-31 20:00:00            4.89\n",
       "81932  2021-12-31 21:00:00            4.90\n",
       "81933  2021-12-31 22:00:00            4.90\n",
       "81934  2021-12-31 23:00:00            4.90\n",
       "\n",
       "[81935 rows x 2 columns]"
      ]
     },
     "execution_count": 5,
     "metadata": {},
     "output_type": "execute_result"
    }
   ],
   "source": [
    "df =pd.read_csv('data/target.csv')\n",
    "df"
   ]
  },
  {
   "cell_type": "code",
   "execution_count": 6,
   "metadata": {},
   "outputs": [
    {
     "ename": "KeyError",
     "evalue": "'일시'",
     "output_type": "error",
     "traceback": [
      "\u001b[0;31m---------------------------------------------------------------------------\u001b[0m",
      "\u001b[0;31mKeyError\u001b[0m                                  Traceback (most recent call last)",
      "File \u001b[0;32m~/miniconda3/envs/cw/lib/python3.8/site-packages/pandas/core/indexes/base.py:3621\u001b[0m, in \u001b[0;36mIndex.get_loc\u001b[0;34m(self, key, method, tolerance)\u001b[0m\n\u001b[1;32m   3620\u001b[0m \u001b[39mtry\u001b[39;00m:\n\u001b[0;32m-> 3621\u001b[0m     \u001b[39mreturn\u001b[39;00m \u001b[39mself\u001b[39;49m\u001b[39m.\u001b[39;49m_engine\u001b[39m.\u001b[39;49mget_loc(casted_key)\n\u001b[1;32m   3622\u001b[0m \u001b[39mexcept\u001b[39;00m \u001b[39mKeyError\u001b[39;00m \u001b[39mas\u001b[39;00m err:\n",
      "File \u001b[0;32m~/miniconda3/envs/cw/lib/python3.8/site-packages/pandas/_libs/index.pyx:136\u001b[0m, in \u001b[0;36mpandas._libs.index.IndexEngine.get_loc\u001b[0;34m()\u001b[0m\n",
      "File \u001b[0;32m~/miniconda3/envs/cw/lib/python3.8/site-packages/pandas/_libs/index.pyx:163\u001b[0m, in \u001b[0;36mpandas._libs.index.IndexEngine.get_loc\u001b[0;34m()\u001b[0m\n",
      "File \u001b[0;32mpandas/_libs/hashtable_class_helper.pxi:5198\u001b[0m, in \u001b[0;36mpandas._libs.hashtable.PyObjectHashTable.get_item\u001b[0;34m()\u001b[0m\n",
      "File \u001b[0;32mpandas/_libs/hashtable_class_helper.pxi:5206\u001b[0m, in \u001b[0;36mpandas._libs.hashtable.PyObjectHashTable.get_item\u001b[0;34m()\u001b[0m\n",
      "\u001b[0;31mKeyError\u001b[0m: '일시'",
      "\nThe above exception was the direct cause of the following exception:\n",
      "\u001b[0;31mKeyError\u001b[0m                                  Traceback (most recent call last)",
      "\u001b[1;32m/home/khs1/khs/changwon/2022ChangWon_BigData/time_detect.ipynb 셀 3\u001b[0m in \u001b[0;36m<cell line: 2>\u001b[0;34m()\u001b[0m\n\u001b[1;32m      <a href='vscode-notebook-cell://ssh-remote%2B220.149.231.236/home/khs1/khs/changwon/2022ChangWon_BigData/time_detect.ipynb#W2sdnNjb2RlLXJlbW90ZQ%3D%3D?line=0'>1</a>\u001b[0m \u001b[39m# 창녕함안보 데이터에 적용\u001b[39;00m\n\u001b[1;32m      <a href='vscode-notebook-cell://ssh-remote%2B220.149.231.236/home/khs1/khs/changwon/2022ChangWon_BigData/time_detect.ipynb#W2sdnNjb2RlLXJlbW90ZQ%3D%3D?line=1'>2</a>\u001b[0m \u001b[39mfor\u001b[39;00m i \u001b[39min\u001b[39;00m \u001b[39mrange\u001b[39m(\u001b[39mlen\u001b[39m(df)):\n\u001b[0;32m----> <a href='vscode-notebook-cell://ssh-remote%2B220.149.231.236/home/khs1/khs/changwon/2022ChangWon_BigData/time_detect.ipynb#W2sdnNjb2RlLXJlbW90ZQ%3D%3D?line=2'>3</a>\u001b[0m     df\u001b[39m.\u001b[39mloc[i, \u001b[39m'\u001b[39m\u001b[39m일시\u001b[39m\u001b[39m'\u001b[39m] \u001b[39m=\u001b[39m df[\u001b[39m'\u001b[39;49m\u001b[39m일시\u001b[39;49m\u001b[39m'\u001b[39;49m][i][:\u001b[39m13\u001b[39m] \u001b[39m+\u001b[39m \u001b[39m'\u001b[39m\u001b[39m:00:00\u001b[39m\u001b[39m'\u001b[39m\n",
      "File \u001b[0;32m~/miniconda3/envs/cw/lib/python3.8/site-packages/pandas/core/frame.py:3505\u001b[0m, in \u001b[0;36mDataFrame.__getitem__\u001b[0;34m(self, key)\u001b[0m\n\u001b[1;32m   3503\u001b[0m \u001b[39mif\u001b[39;00m \u001b[39mself\u001b[39m\u001b[39m.\u001b[39mcolumns\u001b[39m.\u001b[39mnlevels \u001b[39m>\u001b[39m \u001b[39m1\u001b[39m:\n\u001b[1;32m   3504\u001b[0m     \u001b[39mreturn\u001b[39;00m \u001b[39mself\u001b[39m\u001b[39m.\u001b[39m_getitem_multilevel(key)\n\u001b[0;32m-> 3505\u001b[0m indexer \u001b[39m=\u001b[39m \u001b[39mself\u001b[39;49m\u001b[39m.\u001b[39;49mcolumns\u001b[39m.\u001b[39;49mget_loc(key)\n\u001b[1;32m   3506\u001b[0m \u001b[39mif\u001b[39;00m is_integer(indexer):\n\u001b[1;32m   3507\u001b[0m     indexer \u001b[39m=\u001b[39m [indexer]\n",
      "File \u001b[0;32m~/miniconda3/envs/cw/lib/python3.8/site-packages/pandas/core/indexes/base.py:3623\u001b[0m, in \u001b[0;36mIndex.get_loc\u001b[0;34m(self, key, method, tolerance)\u001b[0m\n\u001b[1;32m   3621\u001b[0m     \u001b[39mreturn\u001b[39;00m \u001b[39mself\u001b[39m\u001b[39m.\u001b[39m_engine\u001b[39m.\u001b[39mget_loc(casted_key)\n\u001b[1;32m   3622\u001b[0m \u001b[39mexcept\u001b[39;00m \u001b[39mKeyError\u001b[39;00m \u001b[39mas\u001b[39;00m err:\n\u001b[0;32m-> 3623\u001b[0m     \u001b[39mraise\u001b[39;00m \u001b[39mKeyError\u001b[39;00m(key) \u001b[39mfrom\u001b[39;00m \u001b[39merr\u001b[39;00m\n\u001b[1;32m   3624\u001b[0m \u001b[39mexcept\u001b[39;00m \u001b[39mTypeError\u001b[39;00m:\n\u001b[1;32m   3625\u001b[0m     \u001b[39m# If we have a listlike key, _check_indexing_error will raise\u001b[39;00m\n\u001b[1;32m   3626\u001b[0m     \u001b[39m#  InvalidIndexError. Otherwise we fall through and re-raise\u001b[39;00m\n\u001b[1;32m   3627\u001b[0m     \u001b[39m#  the TypeError.\u001b[39;00m\n\u001b[1;32m   3628\u001b[0m     \u001b[39mself\u001b[39m\u001b[39m.\u001b[39m_check_indexing_error(key)\n",
      "\u001b[0;31mKeyError\u001b[0m: '일시'"
     ]
    }
   ],
   "source": [
    "# 창녕함안보 데이터에 적용\n",
    "for i in range(len(df)):\n",
    "    df.loc[i, '일시'] = df['일시'][i][:13] + ':00:00' # 문자열의 13번째 자리까지 해서 '시' << 이걸 빼버림"
   ]
  },
  {
   "cell_type": "code",
   "execution_count": null,
   "metadata": {},
   "outputs": [],
   "source": [
    "s_year = '12'\n",
    "year = int(s_year)\n",
    "replaced_year = '012-'\n",
    "new_year = '012-'\n",
    "\n",
    "for i in range(len(df)):\n",
    "    \n",
    "    time, new_time = df.loc[i, '일시'][11:], df.loc[i, '일시'][11:]\n",
    "    day, s_day, new_day , replaced_day= df.loc[i, '일시'][8:10], df.loc[i, '일시'][8:10], df.loc[i, '일시'][8:10], df.loc[i, '일시'][8:10]\n",
    "    month, s_month, new_month, replaced_month = df.loc[i, '일시'][5:7], df.loc[i, '일시'][5:7], df.loc[i, '일시'][5:7], df.loc[i, '일시'][5:7]\n",
    "\n",
    "    if df.loc[i, '일시'][11:] == '24:00:00':\n",
    "\n",
    "        time = df.loc[i, '일시'][11:] # 시간값 ex 12:00:00\n",
    "        new_time = '00:00:00'\n",
    "        \n",
    "        s_day = df.loc[i, '일시'][8:10] # string_day\n",
    "        s_month = df.loc[i, '일시'][5:7]\n",
    "\n",
    "        replaced_day = '-' + s_day + ' '\n",
    "        replaced_month = '-' + s_month + '-'\n",
    "        print(replaced_day)\n",
    "\n",
    "        day = int(s_day) # int_day\n",
    "        month = int(s_month)\n",
    "\n",
    "        if day == 30 or day == 31 or day == 28 or day == 29: # 만약 말일(last day)이라면 month 값 역시 바꿔줘야함\n",
    "            # day 가 말일이라면 다음 값(i+1)의 month는 바뀔 것\n",
    "            if df.loc[i+1, '일시'][5:7] == df.loc[i, '일시'][5:7]: # day가 말일이 아니었음\n",
    "                \n",
    "                new_day = '-' + str(day + 1).zfill(2) + ' ' # 날짜에 1을 더함\n",
    "                new_month = replaced_month\n",
    "\n",
    "            else : # day가 말일이었음    |    month값 변경\n",
    "                \n",
    "                new_day = '-01 '\n",
    "\n",
    "                if s_month == '12':\n",
    "                    new_month = '-01-'\n",
    "                    new_year = '0' + str(year + 1).zfill(2) + '-'\n",
    "                    year = year + 1\n",
    "                    print(new_year)\n",
    "\n",
    "\n",
    "                else:\n",
    "                    new_month = '-' + str(month + 1).zfill(2) + '-'\n",
    "\n",
    "                    # df.loc[i, '일시'] = df.loc[i, '일시'].replace(replaced_month, new_month)\n",
    "\n",
    "        \n",
    "        else:\n",
    "            new_day = '-' + str(day + 1).zfill(2) + ' '\n",
    "            new_month = replaced_month\n",
    "\n",
    "            # df.loc[i, '일시'] = df.loc[i, '일시'].replace(time, new_time) # 시간값 변경 24:00:00 >> 00:00:00\n",
    "            # df.loc[i, '일시'] = df.loc[i, '일시'].replace(replaced_day, new_day) # 날짜 값 변경 01 >> 02, 02 >> 03, 31 >> 01\n",
    "            # df.loc[i, '일시'] = df.loc[i, '일시'].replace(replaced_year, new_year)\n",
    "\n",
    "    else :\n",
    "        pass\n",
    "\n",
    "    df.loc[i, '일시'] = df.loc[i, '일시'].replace(time, new_time) # 시간값 변경 24:00:00 >> 00:00:00\n",
    "    df.loc[i, '일시'] = df.loc[i, '일시'].replace(replaced_day, new_day) # 날짜 값 변경 01 >> 02, 02 >> 03, 31 >> 01\n",
    "    df.loc[i, '일시'] = df.loc[i, '일시'].replace(replaced_month, new_month)\n",
    "    df.loc[i, '일시'] = df.loc[i, '일시'].replace(replaced_year, new_year)"
   ]
  },
  {
   "cell_type": "code",
   "execution_count": null,
   "metadata": {},
   "outputs": [],
   "source": [
    "df.to_csv('sudodata1.csv', encoding='utf-8-sig')"
   ]
  },
  {
   "cell_type": "code",
   "execution_count": null,
   "metadata": {},
   "outputs": [],
   "source": [
    "print(df.loc[3095])\n",
    "print(df.loc[3071])\n",
    "print(df.loc[3047])\n"
   ]
  },
  {
   "cell_type": "code",
   "execution_count": null,
   "metadata": {},
   "outputs": [],
   "source": [
    "df['dt'] = pd.to_datetime(df['일시'])\n",
    "df"
   ]
  },
  {
   "cell_type": "code",
   "execution_count": null,
   "metadata": {},
   "outputs": [],
   "source": [
    "df = df.set_index('dt')\n",
    "# df = df.drop(['Unnamed: 0'], axis = 1)"
   ]
  },
  {
   "cell_type": "code",
   "execution_count": null,
   "metadata": {},
   "outputs": [],
   "source": [
    "new_data = df['수위(EL.m)']\n",
    "new_data"
   ]
  },
  {
   "cell_type": "code",
   "execution_count": null,
   "metadata": {},
   "outputs": [],
   "source": [
    "idx = pd.date_range('08-27-2012 01:00:00', periods=81935, freq='H') # period = 윤년 : 24 * 366 = 8784 | 평년 : 24 * 365 = 8760\n",
    "idx"
   ]
  },
  {
   "cell_type": "code",
   "execution_count": null,
   "metadata": {},
   "outputs": [],
   "source": [
    "a = df.index.nunique(dropna=True)\n",
    "a"
   ]
  },
  {
   "cell_type": "code",
   "execution_count": null,
   "metadata": {},
   "outputs": [],
   "source": [
    "lst = df.index.duplicated()\n",
    "a = np.where(lst == True)\n",
    "len(a[0])"
   ]
  },
  {
   "cell_type": "code",
   "execution_count": null,
   "metadata": {},
   "outputs": [],
   "source": [
    "for i in a[0]:\n",
    "    print(new_data.index[i])"
   ]
  },
  {
   "cell_type": "code",
   "execution_count": null,
   "metadata": {},
   "outputs": [],
   "source": [
    "s = new_data.reindex(idx, fill_value=10000)\n",
    "s #날짜가 없던 날을 추가하고 강수량(value)을 10000으로 채움"
   ]
  },
  {
   "cell_type": "code",
   "execution_count": null,
   "metadata": {},
   "outputs": [],
   "source": [
    "lst = s.values == 10000\n",
    "\n",
    "count = 0\n",
    "for i in lst:\n",
    "    if i == True:\n",
    "        count += 1\n",
    "\n",
    "count # 몇 개나 없었냐? 확인"
   ]
  },
  {
   "cell_type": "code",
   "execution_count": null,
   "metadata": {},
   "outputs": [],
   "source": [
    "s"
   ]
  },
  {
   "cell_type": "code",
   "execution_count": null,
   "metadata": {},
   "outputs": [],
   "source": [
    "s = s.to_frame(name = '창녕함안보_수위(EL.m)')\n",
    "s"
   ]
  },
  {
   "cell_type": "code",
   "execution_count": null,
   "metadata": {},
   "outputs": [],
   "source": [
    "s[s['창녕함안보_수위(EL.m)'] == 10000] # 확인"
   ]
  },
  {
   "cell_type": "markdown",
   "metadata": {},
   "source": [
    "# 저장"
   ]
  },
  {
   "cell_type": "code",
   "execution_count": null,
   "metadata": {},
   "outputs": [],
   "source": [
    "s.to_csv('data/target.csv',encoding=\"utf-8-sig\" , mode = 'w')"
   ]
  }
 ],
 "metadata": {
  "kernelspec": {
   "display_name": "cw",
   "language": "python",
   "name": "cw"
  },
  "language_info": {
   "codemirror_mode": {
    "name": "ipython",
    "version": 3
   },
   "file_extension": ".py",
   "mimetype": "text/x-python",
   "name": "python",
   "nbconvert_exporter": "python",
   "pygments_lexer": "ipython3",
   "version": "3.8.13"
  },
  "orig_nbformat": 4
 },
 "nbformat": 4,
 "nbformat_minor": 2
}
