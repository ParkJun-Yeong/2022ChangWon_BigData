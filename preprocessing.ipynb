{
 "cells": [
  {
   "cell_type": "code",
   "execution_count": 60,
   "metadata": {
    "collapsed": true,
    "pycharm": {
     "name": "#%%\n"
    }
   },
   "outputs": [],
   "source": [
    "import pandas as pd\n",
    "import numpy as np"
   ]
  },
  {
   "cell_type": "code",
   "execution_count": 61,
   "metadata": {
    "collapsed": false,
    "pycharm": {
     "name": "#%%\n"
    }
   },
   "outputs": [],
   "source": [
    "raw_path = \"./dataset/raw/\"\n",
    "\n",
    "WaterLevel = pd.read_csv(raw_path + \"WaterLevel.csv\")\n",
    "RainFall = pd.read_csv(raw_path + \"RainFall.csv\")\n",
    "Target = pd.read_csv(raw_path + \"Target.csv\")"
   ]
  },
  {
   "cell_type": "code",
   "execution_count": 62,
   "metadata": {
    "collapsed": false,
    "pycharm": {
     "name": "#%%\n"
    }
   },
   "outputs": [
    {
     "data": {
      "text/html": [
       "<div>\n",
       "<style scoped>\n",
       "    .dataframe tbody tr th:only-of-type {\n",
       "        vertical-align: middle;\n",
       "    }\n",
       "\n",
       "    .dataframe tbody tr th {\n",
       "        vertical-align: top;\n",
       "    }\n",
       "\n",
       "    .dataframe thead th {\n",
       "        text-align: right;\n",
       "    }\n",
       "</style>\n",
       "<table border=\"1\" class=\"dataframe\">\n",
       "  <thead>\n",
       "    <tr style=\"text-align: right;\">\n",
       "      <th></th>\n",
       "      <th>Unnamed: 0</th>\n",
       "      <th>수산대교(창원)_수위</th>\n",
       "      <th>여의리(의령군)_수위</th>\n",
       "      <th>의령군(정암교)_수위</th>\n",
       "      <th>함안군(서출리)_수위</th>\n",
       "      <th>합천군(적포교)_수위</th>\n",
       "    </tr>\n",
       "  </thead>\n",
       "  <tbody>\n",
       "    <tr>\n",
       "      <th>0</th>\n",
       "      <td>2012-08-27 1:00</td>\n",
       "      <td>1.52</td>\n",
       "      <td>0.57</td>\n",
       "      <td>3.83</td>\n",
       "      <td>4.41</td>\n",
       "      <td>0.63</td>\n",
       "    </tr>\n",
       "    <tr>\n",
       "      <th>1</th>\n",
       "      <td>2012-08-27 2:00</td>\n",
       "      <td>1.52</td>\n",
       "      <td>0.57</td>\n",
       "      <td>3.82</td>\n",
       "      <td>4.4</td>\n",
       "      <td>0.63</td>\n",
       "    </tr>\n",
       "    <tr>\n",
       "      <th>2</th>\n",
       "      <td>2012-08-27 3:00</td>\n",
       "      <td>1.54</td>\n",
       "      <td>0.57</td>\n",
       "      <td>3.81</td>\n",
       "      <td>4.39</td>\n",
       "      <td>0.62</td>\n",
       "    </tr>\n",
       "    <tr>\n",
       "      <th>3</th>\n",
       "      <td>2012-08-27 4:00</td>\n",
       "      <td>1.58</td>\n",
       "      <td>0.57</td>\n",
       "      <td>3.79</td>\n",
       "      <td>4.38</td>\n",
       "      <td>0.61</td>\n",
       "    </tr>\n",
       "    <tr>\n",
       "      <th>4</th>\n",
       "      <td>2012-08-27 5:00</td>\n",
       "      <td>1.63</td>\n",
       "      <td>0.57</td>\n",
       "      <td>3.77</td>\n",
       "      <td>4.37</td>\n",
       "      <td>0.60</td>\n",
       "    </tr>\n",
       "  </tbody>\n",
       "</table>\n",
       "</div>"
      ],
      "text/plain": [
       "        Unnamed: 0  수산대교(창원)_수위 여의리(의령군)_수위  의령군(정암교)_수위 함안군(서출리)_수위  \\\n",
       "0  2012-08-27 1:00         1.52        0.57         3.83        4.41   \n",
       "1  2012-08-27 2:00         1.52        0.57         3.82         4.4   \n",
       "2  2012-08-27 3:00         1.54        0.57         3.81        4.39   \n",
       "3  2012-08-27 4:00         1.58        0.57         3.79        4.38   \n",
       "4  2012-08-27 5:00         1.63        0.57         3.77        4.37   \n",
       "\n",
       "   합천군(적포교)_수위  \n",
       "0         0.63  \n",
       "1         0.63  \n",
       "2         0.62  \n",
       "3         0.61  \n",
       "4         0.60  "
      ]
     },
     "execution_count": 62,
     "metadata": {},
     "output_type": "execute_result"
    }
   ],
   "source": [
    "WaterLevel[:5]"
   ]
  },
  {
   "cell_type": "code",
   "execution_count": 63,
   "metadata": {
    "collapsed": false,
    "pycharm": {
     "name": "#%%\n"
    }
   },
   "outputs": [
    {
     "data": {
      "text/html": [
       "<div>\n",
       "<style scoped>\n",
       "    .dataframe tbody tr th:only-of-type {\n",
       "        vertical-align: middle;\n",
       "    }\n",
       "\n",
       "    .dataframe tbody tr th {\n",
       "        vertical-align: top;\n",
       "    }\n",
       "\n",
       "    .dataframe thead th {\n",
       "        text-align: right;\n",
       "    }\n",
       "</style>\n",
       "<table border=\"1\" class=\"dataframe\">\n",
       "  <thead>\n",
       "    <tr style=\"text-align: right;\">\n",
       "      <th></th>\n",
       "      <th>Unnamed: 0</th>\n",
       "      <th>길곡_강수량(mm)</th>\n",
       "      <th>대병_강수량(mm)</th>\n",
       "      <th>창녕_강수량(mm)</th>\n",
       "      <th>청덕_강수량(mm)</th>\n",
       "      <th>함안_강수량(mm)</th>\n",
       "    </tr>\n",
       "  </thead>\n",
       "  <tbody>\n",
       "    <tr>\n",
       "      <th>0</th>\n",
       "      <td>2012-08-27 01:00:00</td>\n",
       "      <td>0.0</td>\n",
       "      <td>0.0</td>\n",
       "      <td>0.0</td>\n",
       "      <td>0.0</td>\n",
       "      <td>0.0</td>\n",
       "    </tr>\n",
       "    <tr>\n",
       "      <th>1</th>\n",
       "      <td>2012-08-27 02:00:00</td>\n",
       "      <td>0.0</td>\n",
       "      <td>0.0</td>\n",
       "      <td>0.0</td>\n",
       "      <td>0.0</td>\n",
       "      <td>0.0</td>\n",
       "    </tr>\n",
       "    <tr>\n",
       "      <th>2</th>\n",
       "      <td>2012-08-27 03:00:00</td>\n",
       "      <td>0.0</td>\n",
       "      <td>0.0</td>\n",
       "      <td>0.0</td>\n",
       "      <td>0.0</td>\n",
       "      <td>0.0</td>\n",
       "    </tr>\n",
       "    <tr>\n",
       "      <th>3</th>\n",
       "      <td>2012-08-27 04:00:00</td>\n",
       "      <td>0.0</td>\n",
       "      <td>0.0</td>\n",
       "      <td>0.0</td>\n",
       "      <td>0.0</td>\n",
       "      <td>0.0</td>\n",
       "    </tr>\n",
       "    <tr>\n",
       "      <th>4</th>\n",
       "      <td>2012-08-27 05:00:00</td>\n",
       "      <td>0.0</td>\n",
       "      <td>0.0</td>\n",
       "      <td>0.0</td>\n",
       "      <td>0.0</td>\n",
       "      <td>0.0</td>\n",
       "    </tr>\n",
       "  </tbody>\n",
       "</table>\n",
       "</div>"
      ],
      "text/plain": [
       "            Unnamed: 0  길곡_강수량(mm)  대병_강수량(mm)  창녕_강수량(mm)  청덕_강수량(mm)  \\\n",
       "0  2012-08-27 01:00:00         0.0         0.0         0.0         0.0   \n",
       "1  2012-08-27 02:00:00         0.0         0.0         0.0         0.0   \n",
       "2  2012-08-27 03:00:00         0.0         0.0         0.0         0.0   \n",
       "3  2012-08-27 04:00:00         0.0         0.0         0.0         0.0   \n",
       "4  2012-08-27 05:00:00         0.0         0.0         0.0         0.0   \n",
       "\n",
       "   함안_강수량(mm)  \n",
       "0         0.0  \n",
       "1         0.0  \n",
       "2         0.0  \n",
       "3         0.0  \n",
       "4         0.0  "
      ]
     },
     "execution_count": 63,
     "metadata": {},
     "output_type": "execute_result"
    }
   ],
   "source": [
    "RainFall[:5]"
   ]
  },
  {
   "cell_type": "code",
   "execution_count": 64,
   "metadata": {
    "collapsed": false,
    "pycharm": {
     "name": "#%%\n"
    }
   },
   "outputs": [
    {
     "data": {
      "text/html": [
       "<div>\n",
       "<style scoped>\n",
       "    .dataframe tbody tr th:only-of-type {\n",
       "        vertical-align: middle;\n",
       "    }\n",
       "\n",
       "    .dataframe tbody tr th {\n",
       "        vertical-align: top;\n",
       "    }\n",
       "\n",
       "    .dataframe thead th {\n",
       "        text-align: right;\n",
       "    }\n",
       "</style>\n",
       "<table border=\"1\" class=\"dataframe\">\n",
       "  <thead>\n",
       "    <tr style=\"text-align: right;\">\n",
       "      <th></th>\n",
       "      <th>Unnamed: 0</th>\n",
       "      <th>Unnamed: 0.1</th>\n",
       "      <th>창녕함안보_수위(EL.m)</th>\n",
       "    </tr>\n",
       "  </thead>\n",
       "  <tbody>\n",
       "    <tr>\n",
       "      <th>0</th>\n",
       "      <td>0</td>\n",
       "      <td>2012-08-27 01:00:00</td>\n",
       "      <td>5.45</td>\n",
       "    </tr>\n",
       "    <tr>\n",
       "      <th>1</th>\n",
       "      <td>1</td>\n",
       "      <td>2012-08-27 02:00:00</td>\n",
       "      <td>5.45</td>\n",
       "    </tr>\n",
       "    <tr>\n",
       "      <th>2</th>\n",
       "      <td>2</td>\n",
       "      <td>2012-08-27 03:00:00</td>\n",
       "      <td>5.45</td>\n",
       "    </tr>\n",
       "    <tr>\n",
       "      <th>3</th>\n",
       "      <td>3</td>\n",
       "      <td>2012-08-27 04:00:00</td>\n",
       "      <td>5.45</td>\n",
       "    </tr>\n",
       "    <tr>\n",
       "      <th>4</th>\n",
       "      <td>4</td>\n",
       "      <td>2012-08-27 05:00:00</td>\n",
       "      <td>5.45</td>\n",
       "    </tr>\n",
       "  </tbody>\n",
       "</table>\n",
       "</div>"
      ],
      "text/plain": [
       "   Unnamed: 0         Unnamed: 0.1  창녕함안보_수위(EL.m)\n",
       "0           0  2012-08-27 01:00:00            5.45\n",
       "1           1  2012-08-27 02:00:00            5.45\n",
       "2           2  2012-08-27 03:00:00            5.45\n",
       "3           3  2012-08-27 04:00:00            5.45\n",
       "4           4  2012-08-27 05:00:00            5.45"
      ]
     },
     "execution_count": 64,
     "metadata": {},
     "output_type": "execute_result"
    }
   ],
   "source": [
    "Target[:5]"
   ]
  },
  {
   "cell_type": "code",
   "execution_count": 65,
   "metadata": {
    "collapsed": false,
    "pycharm": {
     "name": "#%%\n"
    }
   },
   "outputs": [
    {
     "name": "stdout",
     "output_type": "stream",
     "text": [
      "Length of WaterLevel:  81935\n",
      "Length of Rainfall:  81935\n",
      "Length of Target:  81935\n"
     ]
    }
   ],
   "source": [
    "print(\"Length of WaterLevel: \", len(WaterLevel))\n",
    "print(\"Length of Rainfall: \", len(RainFall))\n",
    "print(\"Length of Target: \", len(Target))"
   ]
  },
  {
   "cell_type": "markdown",
   "metadata": {
    "collapsed": false,
    "pycharm": {
     "name": "#%% md\n"
    }
   },
   "source": [
    "# 시간 표현법 통일"
   ]
  },
  {
   "cell_type": "code",
   "execution_count": 66,
   "metadata": {
    "collapsed": false,
    "pycharm": {
     "name": "#%%\n"
    }
   },
   "outputs": [],
   "source": [
    "# 수위\n",
    "df = WaterLevel['Unnamed: 0'].str.split(\" \", expand=True)\n",
    "WaterLevel['date'] = df[0]\n",
    "WaterLevel['time'] = df[1]\n",
    "WaterLevel.drop(['Unnamed: 0'], axis=1, inplace=True)"
   ]
  },
  {
   "cell_type": "code",
   "execution_count": 67,
   "metadata": {
    "collapsed": false,
    "pycharm": {
     "name": "#%%\n"
    }
   },
   "outputs": [
    {
     "data": {
      "text/plain": [
       "array(['1:00', '2:00', '3:00', '4:00', '5:00', '6:00', '7:00', '8:00',\n",
       "       '9:00', '10:00', '11:00', '12:00', '13:00', '14:00', '15:00',\n",
       "       '16:00', '17:00', '18:00', '19:00', '20:00', '21:00', '22:00',\n",
       "       '23:00', '0:00'], dtype=object)"
      ]
     },
     "execution_count": 67,
     "metadata": {},
     "output_type": "execute_result"
    }
   ],
   "source": [
    "WaterLevel['time'].unique()"
   ]
  },
  {
   "cell_type": "code",
   "execution_count": 68,
   "metadata": {
    "collapsed": false,
    "pycharm": {
     "name": "#%%\n"
    }
   },
   "outputs": [
    {
     "data": {
      "text/html": [
       "<div>\n",
       "<style scoped>\n",
       "    .dataframe tbody tr th:only-of-type {\n",
       "        vertical-align: middle;\n",
       "    }\n",
       "\n",
       "    .dataframe tbody tr th {\n",
       "        vertical-align: top;\n",
       "    }\n",
       "\n",
       "    .dataframe thead th {\n",
       "        text-align: right;\n",
       "    }\n",
       "</style>\n",
       "<table border=\"1\" class=\"dataframe\">\n",
       "  <thead>\n",
       "    <tr style=\"text-align: right;\">\n",
       "      <th></th>\n",
       "      <th>수산대교(창원)_수위</th>\n",
       "      <th>여의리(의령군)_수위</th>\n",
       "      <th>의령군(정암교)_수위</th>\n",
       "      <th>함안군(서출리)_수위</th>\n",
       "      <th>합천군(적포교)_수위</th>\n",
       "      <th>date</th>\n",
       "      <th>time</th>\n",
       "    </tr>\n",
       "  </thead>\n",
       "  <tbody>\n",
       "    <tr>\n",
       "      <th>0</th>\n",
       "      <td>1.52</td>\n",
       "      <td>0.57</td>\n",
       "      <td>3.83</td>\n",
       "      <td>4.41</td>\n",
       "      <td>0.63</td>\n",
       "      <td>2012-08-27</td>\n",
       "      <td>1</td>\n",
       "    </tr>\n",
       "    <tr>\n",
       "      <th>1</th>\n",
       "      <td>1.52</td>\n",
       "      <td>0.57</td>\n",
       "      <td>3.82</td>\n",
       "      <td>4.4</td>\n",
       "      <td>0.63</td>\n",
       "      <td>2012-08-27</td>\n",
       "      <td>2</td>\n",
       "    </tr>\n",
       "    <tr>\n",
       "      <th>2</th>\n",
       "      <td>1.54</td>\n",
       "      <td>0.57</td>\n",
       "      <td>3.81</td>\n",
       "      <td>4.39</td>\n",
       "      <td>0.62</td>\n",
       "      <td>2012-08-27</td>\n",
       "      <td>3</td>\n",
       "    </tr>\n",
       "    <tr>\n",
       "      <th>3</th>\n",
       "      <td>1.58</td>\n",
       "      <td>0.57</td>\n",
       "      <td>3.79</td>\n",
       "      <td>4.38</td>\n",
       "      <td>0.61</td>\n",
       "      <td>2012-08-27</td>\n",
       "      <td>4</td>\n",
       "    </tr>\n",
       "    <tr>\n",
       "      <th>4</th>\n",
       "      <td>1.63</td>\n",
       "      <td>0.57</td>\n",
       "      <td>3.77</td>\n",
       "      <td>4.37</td>\n",
       "      <td>0.60</td>\n",
       "      <td>2012-08-27</td>\n",
       "      <td>5</td>\n",
       "    </tr>\n",
       "  </tbody>\n",
       "</table>\n",
       "</div>"
      ],
      "text/plain": [
       "   수산대교(창원)_수위 여의리(의령군)_수위  의령군(정암교)_수위 함안군(서출리)_수위  합천군(적포교)_수위        date  \\\n",
       "0         1.52        0.57         3.83        4.41         0.63  2012-08-27   \n",
       "1         1.52        0.57         3.82         4.4         0.63  2012-08-27   \n",
       "2         1.54        0.57         3.81        4.39         0.62  2012-08-27   \n",
       "3         1.58        0.57         3.79        4.38         0.61  2012-08-27   \n",
       "4         1.63        0.57         3.77        4.37         0.60  2012-08-27   \n",
       "\n",
       "   time  \n",
       "0     1  \n",
       "1     2  \n",
       "2     3  \n",
       "3     4  \n",
       "4     5  "
      ]
     },
     "execution_count": 68,
     "metadata": {},
     "output_type": "execute_result"
    }
   ],
   "source": [
    "WaterLevel['time'] = pd.to_numeric(WaterLevel['time'].str.split(\":\", expand=True)[0])       # 시간을 통일된 표기로 정리\n",
    "WaterLevel[:5]"
   ]
  },
  {
   "cell_type": "code",
   "execution_count": 69,
   "metadata": {
    "collapsed": false,
    "pycharm": {
     "name": "#%%\n"
    }
   },
   "outputs": [],
   "source": [
    "# 강수량\n",
    "df = RainFall['Unnamed: 0'].str.split(\" \", expand=True)\n",
    "RainFall['date'] = df[0]\n",
    "RainFall['time'] = df[1]\n",
    "RainFall.drop(['Unnamed: 0'], axis=1, inplace=True)"
   ]
  },
  {
   "cell_type": "code",
   "execution_count": 70,
   "metadata": {
    "collapsed": false,
    "pycharm": {
     "name": "#%%\n"
    }
   },
   "outputs": [
    {
     "data": {
      "text/plain": [
       "array(['01:00:00', '02:00:00', '03:00:00', '04:00:00', '05:00:00',\n",
       "       '06:00:00', '07:00:00', '08:00:00', '09:00:00', '10:00:00',\n",
       "       '11:00:00', '12:00:00', '13:00:00', '14:00:00', '15:00:00',\n",
       "       '16:00:00', '17:00:00', '18:00:00', '19:00:00', '20:00:00',\n",
       "       '21:00:00', '22:00:00', '23:00:00', '00:00:00'], dtype=object)"
      ]
     },
     "execution_count": 70,
     "metadata": {},
     "output_type": "execute_result"
    }
   ],
   "source": [
    "RainFall['time'].unique()"
   ]
  },
  {
   "cell_type": "code",
   "execution_count": 71,
   "metadata": {
    "collapsed": false,
    "pycharm": {
     "name": "#%%\n"
    }
   },
   "outputs": [
    {
     "data": {
      "text/html": [
       "<div>\n",
       "<style scoped>\n",
       "    .dataframe tbody tr th:only-of-type {\n",
       "        vertical-align: middle;\n",
       "    }\n",
       "\n",
       "    .dataframe tbody tr th {\n",
       "        vertical-align: top;\n",
       "    }\n",
       "\n",
       "    .dataframe thead th {\n",
       "        text-align: right;\n",
       "    }\n",
       "</style>\n",
       "<table border=\"1\" class=\"dataframe\">\n",
       "  <thead>\n",
       "    <tr style=\"text-align: right;\">\n",
       "      <th></th>\n",
       "      <th>길곡_강수량(mm)</th>\n",
       "      <th>대병_강수량(mm)</th>\n",
       "      <th>창녕_강수량(mm)</th>\n",
       "      <th>청덕_강수량(mm)</th>\n",
       "      <th>함안_강수량(mm)</th>\n",
       "      <th>date</th>\n",
       "      <th>time</th>\n",
       "    </tr>\n",
       "  </thead>\n",
       "  <tbody>\n",
       "    <tr>\n",
       "      <th>0</th>\n",
       "      <td>0.0</td>\n",
       "      <td>0.0</td>\n",
       "      <td>0.0</td>\n",
       "      <td>0.0</td>\n",
       "      <td>0.0</td>\n",
       "      <td>2012-08-27</td>\n",
       "      <td>1</td>\n",
       "    </tr>\n",
       "    <tr>\n",
       "      <th>1</th>\n",
       "      <td>0.0</td>\n",
       "      <td>0.0</td>\n",
       "      <td>0.0</td>\n",
       "      <td>0.0</td>\n",
       "      <td>0.0</td>\n",
       "      <td>2012-08-27</td>\n",
       "      <td>2</td>\n",
       "    </tr>\n",
       "    <tr>\n",
       "      <th>2</th>\n",
       "      <td>0.0</td>\n",
       "      <td>0.0</td>\n",
       "      <td>0.0</td>\n",
       "      <td>0.0</td>\n",
       "      <td>0.0</td>\n",
       "      <td>2012-08-27</td>\n",
       "      <td>3</td>\n",
       "    </tr>\n",
       "    <tr>\n",
       "      <th>3</th>\n",
       "      <td>0.0</td>\n",
       "      <td>0.0</td>\n",
       "      <td>0.0</td>\n",
       "      <td>0.0</td>\n",
       "      <td>0.0</td>\n",
       "      <td>2012-08-27</td>\n",
       "      <td>4</td>\n",
       "    </tr>\n",
       "    <tr>\n",
       "      <th>4</th>\n",
       "      <td>0.0</td>\n",
       "      <td>0.0</td>\n",
       "      <td>0.0</td>\n",
       "      <td>0.0</td>\n",
       "      <td>0.0</td>\n",
       "      <td>2012-08-27</td>\n",
       "      <td>5</td>\n",
       "    </tr>\n",
       "  </tbody>\n",
       "</table>\n",
       "</div>"
      ],
      "text/plain": [
       "   길곡_강수량(mm)  대병_강수량(mm)  창녕_강수량(mm)  청덕_강수량(mm)  함안_강수량(mm)        date  \\\n",
       "0         0.0         0.0         0.0         0.0         0.0  2012-08-27   \n",
       "1         0.0         0.0         0.0         0.0         0.0  2012-08-27   \n",
       "2         0.0         0.0         0.0         0.0         0.0  2012-08-27   \n",
       "3         0.0         0.0         0.0         0.0         0.0  2012-08-27   \n",
       "4         0.0         0.0         0.0         0.0         0.0  2012-08-27   \n",
       "\n",
       "   time  \n",
       "0     1  \n",
       "1     2  \n",
       "2     3  \n",
       "3     4  \n",
       "4     5  "
      ]
     },
     "execution_count": 71,
     "metadata": {},
     "output_type": "execute_result"
    }
   ],
   "source": [
    "RainFall['time'] = pd.to_numeric(RainFall['time'].str.split(\":\", expand=True)[0])       # 시간을 통일된 표기로 정리\n",
    "RainFall[:5]"
   ]
  },
  {
   "cell_type": "code",
   "execution_count": 72,
   "metadata": {},
   "outputs": [
    {
     "data": {
      "text/html": [
       "<div>\n",
       "<style scoped>\n",
       "    .dataframe tbody tr th:only-of-type {\n",
       "        vertical-align: middle;\n",
       "    }\n",
       "\n",
       "    .dataframe tbody tr th {\n",
       "        vertical-align: top;\n",
       "    }\n",
       "\n",
       "    .dataframe thead th {\n",
       "        text-align: right;\n",
       "    }\n",
       "</style>\n",
       "<table border=\"1\" class=\"dataframe\">\n",
       "  <thead>\n",
       "    <tr style=\"text-align: right;\">\n",
       "      <th></th>\n",
       "      <th>Unnamed: 0</th>\n",
       "      <th>Unnamed: 0.1</th>\n",
       "      <th>창녕함안보_수위(EL.m)</th>\n",
       "    </tr>\n",
       "  </thead>\n",
       "  <tbody>\n",
       "    <tr>\n",
       "      <th>0</th>\n",
       "      <td>0</td>\n",
       "      <td>2012-08-27 01:00:00</td>\n",
       "      <td>5.45</td>\n",
       "    </tr>\n",
       "    <tr>\n",
       "      <th>1</th>\n",
       "      <td>1</td>\n",
       "      <td>2012-08-27 02:00:00</td>\n",
       "      <td>5.45</td>\n",
       "    </tr>\n",
       "    <tr>\n",
       "      <th>2</th>\n",
       "      <td>2</td>\n",
       "      <td>2012-08-27 03:00:00</td>\n",
       "      <td>5.45</td>\n",
       "    </tr>\n",
       "    <tr>\n",
       "      <th>3</th>\n",
       "      <td>3</td>\n",
       "      <td>2012-08-27 04:00:00</td>\n",
       "      <td>5.45</td>\n",
       "    </tr>\n",
       "    <tr>\n",
       "      <th>4</th>\n",
       "      <td>4</td>\n",
       "      <td>2012-08-27 05:00:00</td>\n",
       "      <td>5.45</td>\n",
       "    </tr>\n",
       "    <tr>\n",
       "      <th>...</th>\n",
       "      <td>...</td>\n",
       "      <td>...</td>\n",
       "      <td>...</td>\n",
       "    </tr>\n",
       "    <tr>\n",
       "      <th>81930</th>\n",
       "      <td>81930</td>\n",
       "      <td>2021-12-31 19:00:00</td>\n",
       "      <td>4.89</td>\n",
       "    </tr>\n",
       "    <tr>\n",
       "      <th>81931</th>\n",
       "      <td>81931</td>\n",
       "      <td>2021-12-31 20:00:00</td>\n",
       "      <td>4.89</td>\n",
       "    </tr>\n",
       "    <tr>\n",
       "      <th>81932</th>\n",
       "      <td>81932</td>\n",
       "      <td>2021-12-31 21:00:00</td>\n",
       "      <td>4.90</td>\n",
       "    </tr>\n",
       "    <tr>\n",
       "      <th>81933</th>\n",
       "      <td>81933</td>\n",
       "      <td>2021-12-31 22:00:00</td>\n",
       "      <td>4.90</td>\n",
       "    </tr>\n",
       "    <tr>\n",
       "      <th>81934</th>\n",
       "      <td>81934</td>\n",
       "      <td>2021-12-31 23:00:00</td>\n",
       "      <td>4.90</td>\n",
       "    </tr>\n",
       "  </tbody>\n",
       "</table>\n",
       "<p>81935 rows × 3 columns</p>\n",
       "</div>"
      ],
      "text/plain": [
       "       Unnamed: 0         Unnamed: 0.1  창녕함안보_수위(EL.m)\n",
       "0               0  2012-08-27 01:00:00            5.45\n",
       "1               1  2012-08-27 02:00:00            5.45\n",
       "2               2  2012-08-27 03:00:00            5.45\n",
       "3               3  2012-08-27 04:00:00            5.45\n",
       "4               4  2012-08-27 05:00:00            5.45\n",
       "...           ...                  ...             ...\n",
       "81930       81930  2021-12-31 19:00:00            4.89\n",
       "81931       81931  2021-12-31 20:00:00            4.89\n",
       "81932       81932  2021-12-31 21:00:00            4.90\n",
       "81933       81933  2021-12-31 22:00:00            4.90\n",
       "81934       81934  2021-12-31 23:00:00            4.90\n",
       "\n",
       "[81935 rows x 3 columns]"
      ]
     },
     "execution_count": 72,
     "metadata": {},
     "output_type": "execute_result"
    }
   ],
   "source": [
    "Target"
   ]
  },
  {
   "cell_type": "code",
   "execution_count": 73,
   "metadata": {
    "collapsed": false,
    "pycharm": {
     "name": "#%%\n"
    }
   },
   "outputs": [],
   "source": [
    "# Target\n",
    "Target['date'] = df[0]\n",
    "Target['time'] = df[1]\n",
    "Target.drop(['Unnamed: 0'], axis=1, inplace=True)"
   ]
  },
  {
   "cell_type": "code",
   "execution_count": 74,
   "metadata": {
    "collapsed": false,
    "pycharm": {
     "name": "#%%\n"
    }
   },
   "outputs": [
    {
     "data": {
      "text/plain": [
       "array(['01:00:00', '02:00:00', '03:00:00', '04:00:00', '05:00:00',\n",
       "       '06:00:00', '07:00:00', '08:00:00', '09:00:00', '10:00:00',\n",
       "       '11:00:00', '12:00:00', '13:00:00', '14:00:00', '15:00:00',\n",
       "       '16:00:00', '17:00:00', '18:00:00', '19:00:00', '20:00:00',\n",
       "       '21:00:00', '22:00:00', '23:00:00', '00:00:00'], dtype=object)"
      ]
     },
     "execution_count": 74,
     "metadata": {},
     "output_type": "execute_result"
    }
   ],
   "source": [
    "Target['time'].unique()"
   ]
  },
  {
   "cell_type": "code",
   "execution_count": 75,
   "metadata": {
    "collapsed": false,
    "pycharm": {
     "name": "#%%\n"
    }
   },
   "outputs": [],
   "source": [
    "Target['time'] = Target['time'].str.split(\":\", expand=True)[0]       # 시간을 통일된 표기로 정리"
   ]
  },
  {
   "cell_type": "code",
   "execution_count": 76,
   "metadata": {
    "collapsed": false,
    "pycharm": {
     "name": "#%%\n"
    }
   },
   "outputs": [
    {
     "data": {
      "text/html": [
       "<div>\n",
       "<style scoped>\n",
       "    .dataframe tbody tr th:only-of-type {\n",
       "        vertical-align: middle;\n",
       "    }\n",
       "\n",
       "    .dataframe tbody tr th {\n",
       "        vertical-align: top;\n",
       "    }\n",
       "\n",
       "    .dataframe thead th {\n",
       "        text-align: right;\n",
       "    }\n",
       "</style>\n",
       "<table border=\"1\" class=\"dataframe\">\n",
       "  <thead>\n",
       "    <tr style=\"text-align: right;\">\n",
       "      <th></th>\n",
       "      <th>Unnamed: 0.1</th>\n",
       "      <th>창녕함안보_수위(EL.m)</th>\n",
       "      <th>date</th>\n",
       "      <th>time</th>\n",
       "    </tr>\n",
       "  </thead>\n",
       "  <tbody>\n",
       "    <tr>\n",
       "      <th>0</th>\n",
       "      <td>2012-08-27 01:00:00</td>\n",
       "      <td>5.45</td>\n",
       "      <td>2012-08-27</td>\n",
       "      <td>1</td>\n",
       "    </tr>\n",
       "    <tr>\n",
       "      <th>1</th>\n",
       "      <td>2012-08-27 02:00:00</td>\n",
       "      <td>5.45</td>\n",
       "      <td>2012-08-27</td>\n",
       "      <td>2</td>\n",
       "    </tr>\n",
       "    <tr>\n",
       "      <th>2</th>\n",
       "      <td>2012-08-27 03:00:00</td>\n",
       "      <td>5.45</td>\n",
       "      <td>2012-08-27</td>\n",
       "      <td>3</td>\n",
       "    </tr>\n",
       "    <tr>\n",
       "      <th>3</th>\n",
       "      <td>2012-08-27 04:00:00</td>\n",
       "      <td>5.45</td>\n",
       "      <td>2012-08-27</td>\n",
       "      <td>4</td>\n",
       "    </tr>\n",
       "    <tr>\n",
       "      <th>4</th>\n",
       "      <td>2012-08-27 05:00:00</td>\n",
       "      <td>5.45</td>\n",
       "      <td>2012-08-27</td>\n",
       "      <td>5</td>\n",
       "    </tr>\n",
       "  </tbody>\n",
       "</table>\n",
       "</div>"
      ],
      "text/plain": [
       "          Unnamed: 0.1  창녕함안보_수위(EL.m)        date  time\n",
       "0  2012-08-27 01:00:00            5.45  2012-08-27     1\n",
       "1  2012-08-27 02:00:00            5.45  2012-08-27     2\n",
       "2  2012-08-27 03:00:00            5.45  2012-08-27     3\n",
       "3  2012-08-27 04:00:00            5.45  2012-08-27     4\n",
       "4  2012-08-27 05:00:00            5.45  2012-08-27     5"
      ]
     },
     "execution_count": 76,
     "metadata": {},
     "output_type": "execute_result"
    }
   ],
   "source": [
    "Target['time'] = pd.to_numeric(Target['time'].str.replace(\"시\", \"\"))\n",
    "Target[:5]"
   ]
  },
  {
   "cell_type": "code",
   "execution_count": 77,
   "metadata": {
    "collapsed": false,
    "pycharm": {
     "name": "#%%\n"
    }
   },
   "outputs": [
    {
     "name": "stdout",
     "output_type": "stream",
     "text": [
      "수위 결측치:  수산대교(창원)_수위    0\n",
      "여의리(의령군)_수위    0\n",
      "의령군(정암교)_수위    0\n",
      "함안군(서출리)_수위    0\n",
      "합천군(적포교)_수위    0\n",
      "date           0\n",
      "time           0\n",
      "dtype: int64\n",
      "강수량 결측치:  길곡_강수량(mm)     369\n",
      "대병_강수량(mm)     795\n",
      "창녕_강수량(mm)     611\n",
      "청덕_강수량(mm)    1080\n",
      "함안_강수량(mm)     475\n",
      "date             0\n",
      "time             0\n",
      "dtype: int64\n",
      "타겟 결측치:  Unnamed: 0.1      0\n",
      "창녕함안보_수위(EL.m)    0\n",
      "date              0\n",
      "time              0\n",
      "dtype: int64\n"
     ]
    }
   ],
   "source": [
    "print(\"수위 결측치: \", WaterLevel.isnull().sum())\n",
    "print(\"강수량 결측치: \", RainFall.isnull().sum())\n",
    "print(\"타겟 결측치: \", Target.isnull().sum())"
   ]
  },
  {
   "cell_type": "markdown",
   "metadata": {
    "collapsed": false,
    "pycharm": {
     "name": "#%% md\n"
    }
   },
   "source": [
    "# 결측값 제거\n",
    "\n",
    "## 강수량"
   ]
  },
  {
   "cell_type": "code",
   "execution_count": 78,
   "metadata": {
    "collapsed": false,
    "pycharm": {
     "name": "#%%\n"
    }
   },
   "outputs": [],
   "source": [
    "from cmath import nan\n",
    "\n",
    "for reg in RainFall.columns:\n",
    "    lst = RainFall.loc[RainFall[reg] == 10000].index\n",
    "\n",
    "    for n in lst:       # 10,000 값을 모두 nan 값으로 변경\n",
    "        RainFall.loc[n, reg] = nan"
   ]
  },
  {
   "cell_type": "code",
   "execution_count": 79,
   "metadata": {
    "collapsed": false,
    "pycharm": {
     "name": "#%%\n"
    }
   },
   "outputs": [
    {
     "data": {
      "text/plain": [
       "길곡_강수량(mm)     445\n",
       "대병_강수량(mm)    1063\n",
       "창녕_강수량(mm)     690\n",
       "청덕_강수량(mm)    1239\n",
       "함안_강수량(mm)     505\n",
       "date             0\n",
       "time             0\n",
       "dtype: int64"
      ]
     },
     "execution_count": 79,
     "metadata": {},
     "output_type": "execute_result"
    }
   ],
   "source": [
    "RainFall.isnull().sum()"
   ]
  },
  {
   "cell_type": "code",
   "execution_count": 80,
   "metadata": {
    "collapsed": false,
    "pycharm": {
     "name": "#%%\n"
    }
   },
   "outputs": [],
   "source": [
    "# 이전 row 값으로 채움\n",
    "RainFall = RainFall.fillna(method=\"ffill\")"
   ]
  },
  {
   "cell_type": "code",
   "execution_count": 81,
   "metadata": {
    "collapsed": false,
    "pycharm": {
     "name": "#%%\n"
    }
   },
   "outputs": [
    {
     "data": {
      "text/plain": [
       "길곡_강수량(mm)    0\n",
       "대병_강수량(mm)    0\n",
       "창녕_강수량(mm)    0\n",
       "청덕_강수량(mm)    0\n",
       "함안_강수량(mm)    0\n",
       "date          0\n",
       "time          0\n",
       "dtype: int64"
      ]
     },
     "execution_count": 81,
     "metadata": {},
     "output_type": "execute_result"
    }
   ],
   "source": [
    "RainFall.isnull().sum()"
   ]
  },
  {
   "cell_type": "markdown",
   "metadata": {
    "collapsed": false,
    "pycharm": {
     "name": "#%% md\n"
    }
   },
   "source": [
    "## 수위"
   ]
  },
  {
   "cell_type": "code",
   "execution_count": 82,
   "metadata": {
    "collapsed": false,
    "pycharm": {
     "name": "#%%\n"
    }
   },
   "outputs": [
    {
     "data": {
      "text/plain": [
       "수산대교(창원)_수위    0\n",
       "여의리(의령군)_수위    0\n",
       "의령군(정암교)_수위    0\n",
       "함안군(서출리)_수위    0\n",
       "합천군(적포교)_수위    0\n",
       "date           0\n",
       "time           0\n",
       "dtype: int64"
      ]
     },
     "execution_count": 82,
     "metadata": {},
     "output_type": "execute_result"
    }
   ],
   "source": [
    "WaterLevel.isnull().sum()\n",
    "# 결측치 없음"
   ]
  },
  {
   "cell_type": "markdown",
   "metadata": {
    "collapsed": false,
    "pycharm": {
     "name": "#%% md\n"
    }
   },
   "source": [
    "## 창녕함안보 (Target)"
   ]
  },
  {
   "cell_type": "code",
   "execution_count": 83,
   "metadata": {
    "collapsed": false,
    "pycharm": {
     "name": "#%%\n"
    }
   },
   "outputs": [
    {
     "data": {
      "text/plain": [
       "Index(['Unnamed: 0.1', '창녕함안보_수위(EL.m)', 'date', 'time'], dtype='object')"
      ]
     },
     "execution_count": 83,
     "metadata": {},
     "output_type": "execute_result"
    }
   ],
   "source": [
    "Target.columns"
   ]
  },
  {
   "cell_type": "code",
   "execution_count": 84,
   "metadata": {
    "collapsed": false,
    "pycharm": {
     "name": "#%%\n"
    }
   },
   "outputs": [
    {
     "data": {
      "text/plain": [
       "Unnamed: 0.1      0\n",
       "창녕함안보_수위(EL.m)    0\n",
       "date              0\n",
       "time              0\n",
       "dtype: int64"
      ]
     },
     "execution_count": 84,
     "metadata": {},
     "output_type": "execute_result"
    }
   ],
   "source": [
    "Target.isnull().sum()"
   ]
  },
  {
   "cell_type": "code",
   "execution_count": 85,
   "metadata": {
    "collapsed": false,
    "pycharm": {
     "name": "#%%\n"
    }
   },
   "outputs": [],
   "source": [
    "lst = Target.loc[Target['창녕함안보_수위(EL.m)'] == 10000].index\n",
    "\n",
    "for n in lst:\n",
    "    Target.loc[n, '창녕함안보_수위(EL.m)'] = nan\n",
    "\n",
    "Target = Target.fillna(method=\"ffill\")"
   ]
  },
  {
   "cell_type": "code",
   "execution_count": 86,
   "metadata": {
    "collapsed": false,
    "pycharm": {
     "name": "#%%\n"
    }
   },
   "outputs": [],
   "source": [
    "import os\n",
    "path = \"./dataset\"\n",
    "RainFall.to_csv(os.path.join(path, \"RainFall.csv\"), index=True)\n",
    "Target.to_csv(os.path.join(path, \"Target.csv\"), index=True)\n",
    "WaterLevel.to_csv(os.path.join(path, \"WaterLevel.csv\"), index=True)"
   ]
  },
  {
   "cell_type": "markdown",
   "metadata": {
    "collapsed": false,
    "pycharm": {
     "name": "#%% md\n"
    }
   },
   "source": [
    "# '-' 바꾸기\n",
    "2022.09.14"
   ]
  },
  {
   "cell_type": "code",
   "execution_count": 87,
   "metadata": {
    "collapsed": false,
    "pycharm": {
     "name": "#%%\n"
    }
   },
   "outputs": [],
   "source": [
    "from cmath import nan\n",
    "import pandas as pd"
   ]
  },
  {
   "cell_type": "code",
   "execution_count": 88,
   "metadata": {
    "collapsed": false,
    "pycharm": {
     "name": "#%%\n"
    }
   },
   "outputs": [
    {
     "name": "stderr",
     "output_type": "stream",
     "text": [
      "/home/khs1/miniconda3/envs/cw-jun/lib/python3.7/site-packages/IPython/core/interactiveshell.py:3457: DtypeWarning: Columns (4) have mixed types.Specify dtype option on import or set low_memory=False.\n",
      "  exec(code_obj, self.user_global_ns, self.user_ns)\n"
     ]
    }
   ],
   "source": [
    "waterlevel = pd.read_csv(\"./dataset/WaterLevel.csv\")\n",
    "\n",
    "for reg in waterlevel.columns:\n",
    "    lst = waterlevel.loc[waterlevel[reg] == '-'].index\n",
    "\n",
    "    for n in lst:       # 10,000 값을 모두 nan 값으로 변경\n",
    "        waterlevel.loc[n, reg] = nan\n",
    "\n",
    "waterlevel = waterlevel.fillna(method=\"ffill\")"
   ]
  },
  {
   "cell_type": "code",
   "execution_count": 89,
   "metadata": {
    "collapsed": false,
    "pycharm": {
     "name": "#%%\n"
    }
   },
   "outputs": [],
   "source": [
    "waterlevel.to_csv(\"./dataset/WaterLevel.csv\", index_label=False)"
   ]
  },
  {
   "cell_type": "markdown",
   "metadata": {
    "collapsed": false,
    "pycharm": {
     "name": "#%% md\n"
    }
   },
   "source": [
    "# 총 방류량 사용"
   ]
  },
  {
   "cell_type": "code",
   "execution_count": 90,
   "metadata": {
    "collapsed": false,
    "pycharm": {
     "name": "#%%\n"
    }
   },
   "outputs": [],
   "source": [
    "import pandas as pd"
   ]
  },
  {
   "cell_type": "code",
   "execution_count": 91,
   "metadata": {
    "collapsed": false,
    "pycharm": {
     "name": "#%%\n"
    }
   },
   "outputs": [],
   "source": [
    "Target2 = pd.read_csv(\"./dataset/raw/Target2.csv\")"
   ]
  },
  {
   "cell_type": "code",
   "execution_count": 92,
   "metadata": {
    "collapsed": false,
    "pycharm": {
     "name": "#%%\n"
    }
   },
   "outputs": [],
   "source": [
    "Target2 = Target2.drop(['Unnamed: 0'], axis = 1)\n",
    "\n",
    "Target2['수위(EL.m)'] = Target2['수위(EL.m)'].astype('float')\n",
    "\n",
    "Target2['총유입량(㎥/s)'] = Target2['총유입량(㎥/s)'].str.strip()\n",
    "Target2['총유입량(㎥/s)'] = Target2['총유입량(㎥/s)'].str.replace(',','')\n",
    "Target2['총유입량(㎥/s)'] = Target2['총유입량(㎥/s)'].astype('float')\n",
    "\n",
    "Target2['총방류량(㎥/s)'] = Target2['총방류량(㎥/s)'].str.strip()\n",
    "Target2['총방류량(㎥/s)'] = Target2['총방류량(㎥/s)'].str.replace(',','')\n",
    "Target2['총방류량(㎥/s)'] = Target2['총방류량(㎥/s)'].astype('float')"
   ]
  },
  {
   "cell_type": "code",
   "execution_count": 93,
   "metadata": {
    "collapsed": false,
    "pycharm": {
     "name": "#%%\n"
    }
   },
   "outputs": [
    {
     "data": {
      "text/html": [
       "<div>\n",
       "<style scoped>\n",
       "    .dataframe tbody tr th:only-of-type {\n",
       "        vertical-align: middle;\n",
       "    }\n",
       "\n",
       "    .dataframe tbody tr th {\n",
       "        vertical-align: top;\n",
       "    }\n",
       "\n",
       "    .dataframe thead th {\n",
       "        text-align: right;\n",
       "    }\n",
       "</style>\n",
       "<table border=\"1\" class=\"dataframe\">\n",
       "  <thead>\n",
       "    <tr style=\"text-align: right;\">\n",
       "      <th></th>\n",
       "      <th>수위(EL.m)</th>\n",
       "      <th>총유입량(㎥/s)</th>\n",
       "      <th>총방류량(㎥/s)</th>\n",
       "    </tr>\n",
       "  </thead>\n",
       "  <tbody>\n",
       "    <tr>\n",
       "      <th>0</th>\n",
       "      <td>5.45</td>\n",
       "      <td>2012.950</td>\n",
       "      <td>1979.978</td>\n",
       "    </tr>\n",
       "    <tr>\n",
       "      <th>1</th>\n",
       "      <td>5.45</td>\n",
       "      <td>1985.586</td>\n",
       "      <td>1985.586</td>\n",
       "    </tr>\n",
       "    <tr>\n",
       "      <th>2</th>\n",
       "      <td>5.45</td>\n",
       "      <td>1929.865</td>\n",
       "      <td>1929.865</td>\n",
       "    </tr>\n",
       "    <tr>\n",
       "      <th>3</th>\n",
       "      <td>5.45</td>\n",
       "      <td>1928.188</td>\n",
       "      <td>1928.188</td>\n",
       "    </tr>\n",
       "    <tr>\n",
       "      <th>4</th>\n",
       "      <td>5.45</td>\n",
       "      <td>1927.172</td>\n",
       "      <td>1927.172</td>\n",
       "    </tr>\n",
       "  </tbody>\n",
       "</table>\n",
       "</div>"
      ],
      "text/plain": [
       "   수위(EL.m)  총유입량(㎥/s)  총방류량(㎥/s)\n",
       "0      5.45   2012.950   1979.978\n",
       "1      5.45   1985.586   1985.586\n",
       "2      5.45   1929.865   1929.865\n",
       "3      5.45   1928.188   1928.188\n",
       "4      5.45   1927.172   1927.172"
      ]
     },
     "execution_count": 93,
     "metadata": {},
     "output_type": "execute_result"
    }
   ],
   "source": [
    "Target2[:5]"
   ]
  },
  {
   "cell_type": "code",
   "execution_count": 94,
   "metadata": {
    "collapsed": false,
    "pycharm": {
     "name": "#%%\n"
    }
   },
   "outputs": [],
   "source": [
    "Target2.columns = ['수위', '총유입량', '총방류량']"
   ]
  },
  {
   "cell_type": "code",
   "execution_count": 95,
   "metadata": {
    "collapsed": false,
    "pycharm": {
     "name": "#%%\n"
    }
   },
   "outputs": [
    {
     "data": {
      "text/html": [
       "<div>\n",
       "<style scoped>\n",
       "    .dataframe tbody tr th:only-of-type {\n",
       "        vertical-align: middle;\n",
       "    }\n",
       "\n",
       "    .dataframe tbody tr th {\n",
       "        vertical-align: top;\n",
       "    }\n",
       "\n",
       "    .dataframe thead th {\n",
       "        text-align: right;\n",
       "    }\n",
       "</style>\n",
       "<table border=\"1\" class=\"dataframe\">\n",
       "  <thead>\n",
       "    <tr style=\"text-align: right;\">\n",
       "      <th></th>\n",
       "      <th>수위</th>\n",
       "      <th>총유입량</th>\n",
       "      <th>총방류량</th>\n",
       "    </tr>\n",
       "  </thead>\n",
       "  <tbody>\n",
       "    <tr>\n",
       "      <th>0</th>\n",
       "      <td>5.45</td>\n",
       "      <td>2012.950</td>\n",
       "      <td>1979.978</td>\n",
       "    </tr>\n",
       "    <tr>\n",
       "      <th>1</th>\n",
       "      <td>5.45</td>\n",
       "      <td>1985.586</td>\n",
       "      <td>1985.586</td>\n",
       "    </tr>\n",
       "    <tr>\n",
       "      <th>2</th>\n",
       "      <td>5.45</td>\n",
       "      <td>1929.865</td>\n",
       "      <td>1929.865</td>\n",
       "    </tr>\n",
       "    <tr>\n",
       "      <th>3</th>\n",
       "      <td>5.45</td>\n",
       "      <td>1928.188</td>\n",
       "      <td>1928.188</td>\n",
       "    </tr>\n",
       "    <tr>\n",
       "      <th>4</th>\n",
       "      <td>5.45</td>\n",
       "      <td>1927.172</td>\n",
       "      <td>1927.172</td>\n",
       "    </tr>\n",
       "  </tbody>\n",
       "</table>\n",
       "</div>"
      ],
      "text/plain": [
       "     수위      총유입량      총방류량\n",
       "0  5.45  2012.950  1979.978\n",
       "1  5.45  1985.586  1985.586\n",
       "2  5.45  1929.865  1929.865\n",
       "3  5.45  1928.188  1928.188\n",
       "4  5.45  1927.172  1927.172"
      ]
     },
     "execution_count": 95,
     "metadata": {},
     "output_type": "execute_result"
    }
   ],
   "source": [
    "Target2[:5]"
   ]
  },
  {
   "cell_type": "code",
   "execution_count": 96,
   "metadata": {
    "collapsed": false,
    "pycharm": {
     "name": "#%%\n"
    }
   },
   "outputs": [
    {
     "data": {
      "text/plain": [
       "0"
      ]
     },
     "execution_count": 96,
     "metadata": {},
     "output_type": "execute_result"
    }
   ],
   "source": [
    "Target2['총유입량'].isnull().sum()"
   ]
  },
  {
   "cell_type": "code",
   "execution_count": 97,
   "metadata": {
    "collapsed": false,
    "pycharm": {
     "name": "#%%\n"
    }
   },
   "outputs": [
    {
     "data": {
      "text/plain": [
       "81935"
      ]
     },
     "execution_count": 97,
     "metadata": {},
     "output_type": "execute_result"
    }
   ],
   "source": [
    "len(Target2)"
   ]
  },
  {
   "cell_type": "code",
   "execution_count": 98,
   "metadata": {
    "collapsed": false,
    "pycharm": {
     "name": "#%%\n"
    }
   },
   "outputs": [],
   "source": [
    "Target2.to_csv(\"./dataset/Target_discharge.csv\")"
   ]
  },
  {
   "cell_type": "markdown",
   "metadata": {
    "collapsed": false,
    "pycharm": {
     "name": "#%% md\n"
    }
   },
   "source": [
    "# 컬럼 이름 변경 (단위 제거)"
   ]
  },
  {
   "cell_type": "code",
   "execution_count": 99,
   "metadata": {
    "collapsed": false,
    "pycharm": {
     "name": "#%%\n"
    }
   },
   "outputs": [],
   "source": [
    "WaterLevel = pd.read_csv(\"./dataset/WaterLevel.csv\")\n",
    "RainFall = pd.read_csv(\"./dataset/RainFall.csv\")"
   ]
  },
  {
   "cell_type": "code",
   "execution_count": 100,
   "metadata": {
    "collapsed": false,
    "pycharm": {
     "name": "#%%\n"
    }
   },
   "outputs": [
    {
     "data": {
      "text/plain": [
       "Index(['Unnamed: 0', '수산대교(창원)_수위', '여의리(의령군)_수위', '의령군(정암교)_수위',\n",
       "       '함안군(서출리)_수위', '합천군(적포교)_수위', 'date', 'time'],\n",
       "      dtype='object')"
      ]
     },
     "execution_count": 100,
     "metadata": {},
     "output_type": "execute_result"
    }
   ],
   "source": [
    "WaterLevel.columns"
   ]
  },
  {
   "cell_type": "code",
   "execution_count": 101,
   "metadata": {
    "collapsed": false,
    "pycharm": {
     "name": "#%%\n"
    }
   },
   "outputs": [],
   "source": [
    "RainFall.columns = ['Unnamed: 단위(mm)', '길곡강수량', '대병강수량', '창녕강수량', '창덕강수량', '함안강수량', 'date', 'time']"
   ]
  },
  {
   "cell_type": "code",
   "execution_count": 102,
   "metadata": {
    "collapsed": false,
    "pycharm": {
     "name": "#%%\n"
    }
   },
   "outputs": [
    {
     "data": {
      "text/html": [
       "<div>\n",
       "<style scoped>\n",
       "    .dataframe tbody tr th:only-of-type {\n",
       "        vertical-align: middle;\n",
       "    }\n",
       "\n",
       "    .dataframe tbody tr th {\n",
       "        vertical-align: top;\n",
       "    }\n",
       "\n",
       "    .dataframe thead th {\n",
       "        text-align: right;\n",
       "    }\n",
       "</style>\n",
       "<table border=\"1\" class=\"dataframe\">\n",
       "  <thead>\n",
       "    <tr style=\"text-align: right;\">\n",
       "      <th></th>\n",
       "      <th>Unnamed: 단위(mm)</th>\n",
       "      <th>길곡강수량</th>\n",
       "      <th>대병강수량</th>\n",
       "      <th>창녕강수량</th>\n",
       "      <th>창덕강수량</th>\n",
       "      <th>함안강수량</th>\n",
       "      <th>date</th>\n",
       "      <th>time</th>\n",
       "    </tr>\n",
       "  </thead>\n",
       "  <tbody>\n",
       "    <tr>\n",
       "      <th>0</th>\n",
       "      <td>0</td>\n",
       "      <td>0.0</td>\n",
       "      <td>0.0</td>\n",
       "      <td>0.0</td>\n",
       "      <td>0.0</td>\n",
       "      <td>0.0</td>\n",
       "      <td>2012-08-27</td>\n",
       "      <td>1</td>\n",
       "    </tr>\n",
       "    <tr>\n",
       "      <th>1</th>\n",
       "      <td>1</td>\n",
       "      <td>0.0</td>\n",
       "      <td>0.0</td>\n",
       "      <td>0.0</td>\n",
       "      <td>0.0</td>\n",
       "      <td>0.0</td>\n",
       "      <td>2012-08-27</td>\n",
       "      <td>2</td>\n",
       "    </tr>\n",
       "    <tr>\n",
       "      <th>2</th>\n",
       "      <td>2</td>\n",
       "      <td>0.0</td>\n",
       "      <td>0.0</td>\n",
       "      <td>0.0</td>\n",
       "      <td>0.0</td>\n",
       "      <td>0.0</td>\n",
       "      <td>2012-08-27</td>\n",
       "      <td>3</td>\n",
       "    </tr>\n",
       "    <tr>\n",
       "      <th>3</th>\n",
       "      <td>3</td>\n",
       "      <td>0.0</td>\n",
       "      <td>0.0</td>\n",
       "      <td>0.0</td>\n",
       "      <td>0.0</td>\n",
       "      <td>0.0</td>\n",
       "      <td>2012-08-27</td>\n",
       "      <td>4</td>\n",
       "    </tr>\n",
       "    <tr>\n",
       "      <th>4</th>\n",
       "      <td>4</td>\n",
       "      <td>0.0</td>\n",
       "      <td>0.0</td>\n",
       "      <td>0.0</td>\n",
       "      <td>0.0</td>\n",
       "      <td>0.0</td>\n",
       "      <td>2012-08-27</td>\n",
       "      <td>5</td>\n",
       "    </tr>\n",
       "  </tbody>\n",
       "</table>\n",
       "</div>"
      ],
      "text/plain": [
       "   Unnamed: 단위(mm)  길곡강수량  대병강수량  창녕강수량  창덕강수량  함안강수량        date  time\n",
       "0                0    0.0    0.0    0.0    0.0    0.0  2012-08-27     1\n",
       "1                1    0.0    0.0    0.0    0.0    0.0  2012-08-27     2\n",
       "2                2    0.0    0.0    0.0    0.0    0.0  2012-08-27     3\n",
       "3                3    0.0    0.0    0.0    0.0    0.0  2012-08-27     4\n",
       "4                4    0.0    0.0    0.0    0.0    0.0  2012-08-27     5"
      ]
     },
     "execution_count": 102,
     "metadata": {},
     "output_type": "execute_result"
    }
   ],
   "source": [
    "RainFall[:5]"
   ]
  },
  {
   "cell_type": "code",
   "execution_count": 103,
   "metadata": {
    "collapsed": false,
    "pycharm": {
     "name": "#%%\n"
    }
   },
   "outputs": [],
   "source": [
    "RainFall.to_csv(\"./dataset/RainFall.csv\")"
   ]
  },
  {
   "cell_type": "markdown",
   "metadata": {
    "collapsed": false,
    "pycharm": {
     "name": "#%% md\n"
    }
   },
   "source": [
    "# Min Max Scaler"
   ]
  },
  {
   "cell_type": "code",
   "execution_count": 104,
   "metadata": {
    "collapsed": false,
    "pycharm": {
     "name": "#%%\n"
    }
   },
   "outputs": [],
   "source": [
    "from sklearn.preprocessing import MinMaxScaler"
   ]
  },
  {
   "cell_type": "code",
   "execution_count": 105,
   "metadata": {
    "collapsed": false,
    "pycharm": {
     "name": "#%%\n"
    }
   },
   "outputs": [],
   "source": [
    "RainFall = pd.read_csv(\"./dataset/RainFall.csv\")\n",
    "WaterLevel = pd.read_csv(\"./dataset/WaterLevel.csv\")"
   ]
  },
  {
   "cell_type": "code",
   "execution_count": 106,
   "metadata": {
    "collapsed": false,
    "pycharm": {
     "name": "#%%\n"
    }
   },
   "outputs": [],
   "source": [
    "rain_column = RainFall.drop(['Unnamed: 0', 'Unnamed: 단위(mm)', 'date', 'time'], axis=1).columns\n",
    "water_column = WaterLevel.drop(['Unnamed: 0', 'date', 'time'], axis=1).columns"
   ]
  },
  {
   "cell_type": "code",
   "execution_count": 107,
   "metadata": {
    "collapsed": false,
    "pycharm": {
     "name": "#%%\n"
    }
   },
   "outputs": [
    {
     "data": {
      "text/plain": [
       "Index(['길곡강수량', '대병강수량', '창녕강수량', '창덕강수량', '함안강수량'], dtype='object')"
      ]
     },
     "execution_count": 107,
     "metadata": {},
     "output_type": "execute_result"
    }
   ],
   "source": [
    "rain_column"
   ]
  },
  {
   "cell_type": "code",
   "execution_count": 108,
   "metadata": {
    "collapsed": false,
    "pycharm": {
     "name": "#%%\n"
    }
   },
   "outputs": [],
   "source": [
    "for column in rain_column:\n",
    "    scaler = MinMaxScaler()\n",
    "    X = RainFall[column].values.reshape(-1,1)\n",
    "    X = scaler.fit_transform(X)\n",
    "    RainFall[column] = X"
   ]
  },
  {
   "cell_type": "code",
   "execution_count": 109,
   "metadata": {
    "collapsed": false,
    "pycharm": {
     "name": "#%%\n"
    }
   },
   "outputs": [],
   "source": [
    "for column in water_column:\n",
    "    scaler = MinMaxScaler()\n",
    "    X = WaterLevel[column].values.reshape(-1,1)\n",
    "    X = scaler.fit_transform(X)\n",
    "    WaterLevel[column] = X"
   ]
  },
  {
   "cell_type": "code",
   "execution_count": 110,
   "metadata": {},
   "outputs": [
    {
     "data": {
      "text/html": [
       "<div>\n",
       "<style scoped>\n",
       "    .dataframe tbody tr th:only-of-type {\n",
       "        vertical-align: middle;\n",
       "    }\n",
       "\n",
       "    .dataframe tbody tr th {\n",
       "        vertical-align: top;\n",
       "    }\n",
       "\n",
       "    .dataframe thead th {\n",
       "        text-align: right;\n",
       "    }\n",
       "</style>\n",
       "<table border=\"1\" class=\"dataframe\">\n",
       "  <thead>\n",
       "    <tr style=\"text-align: right;\">\n",
       "      <th></th>\n",
       "      <th>Unnamed: 0</th>\n",
       "      <th>수산대교(창원)_수위</th>\n",
       "      <th>여의리(의령군)_수위</th>\n",
       "      <th>의령군(정암교)_수위</th>\n",
       "      <th>함안군(서출리)_수위</th>\n",
       "      <th>합천군(적포교)_수위</th>\n",
       "      <th>date</th>\n",
       "      <th>time</th>\n",
       "    </tr>\n",
       "  </thead>\n",
       "  <tbody>\n",
       "    <tr>\n",
       "      <th>0</th>\n",
       "      <td>0</td>\n",
       "      <td>0.100119</td>\n",
       "      <td>0.230140</td>\n",
       "      <td>0.463054</td>\n",
       "      <td>0.424699</td>\n",
       "      <td>0.235080</td>\n",
       "      <td>2012-08-27</td>\n",
       "      <td>1</td>\n",
       "    </tr>\n",
       "    <tr>\n",
       "      <th>1</th>\n",
       "      <td>1</td>\n",
       "      <td>0.100119</td>\n",
       "      <td>0.230140</td>\n",
       "      <td>0.461823</td>\n",
       "      <td>0.423695</td>\n",
       "      <td>0.235080</td>\n",
       "      <td>2012-08-27</td>\n",
       "      <td>2</td>\n",
       "    </tr>\n",
       "    <tr>\n",
       "      <th>2</th>\n",
       "      <td>2</td>\n",
       "      <td>0.102503</td>\n",
       "      <td>0.230140</td>\n",
       "      <td>0.460591</td>\n",
       "      <td>0.422691</td>\n",
       "      <td>0.234561</td>\n",
       "      <td>2012-08-27</td>\n",
       "      <td>3</td>\n",
       "    </tr>\n",
       "    <tr>\n",
       "      <th>3</th>\n",
       "      <td>3</td>\n",
       "      <td>0.107271</td>\n",
       "      <td>0.230140</td>\n",
       "      <td>0.458128</td>\n",
       "      <td>0.421687</td>\n",
       "      <td>0.234043</td>\n",
       "      <td>2012-08-27</td>\n",
       "      <td>4</td>\n",
       "    </tr>\n",
       "    <tr>\n",
       "      <th>4</th>\n",
       "      <td>4</td>\n",
       "      <td>0.113230</td>\n",
       "      <td>0.230140</td>\n",
       "      <td>0.455665</td>\n",
       "      <td>0.420683</td>\n",
       "      <td>0.233524</td>\n",
       "      <td>2012-08-27</td>\n",
       "      <td>5</td>\n",
       "    </tr>\n",
       "    <tr>\n",
       "      <th>...</th>\n",
       "      <td>...</td>\n",
       "      <td>...</td>\n",
       "      <td>...</td>\n",
       "      <td>...</td>\n",
       "      <td>...</td>\n",
       "      <td>...</td>\n",
       "      <td>...</td>\n",
       "      <td>...</td>\n",
       "    </tr>\n",
       "    <tr>\n",
       "      <th>81930</th>\n",
       "      <td>81930</td>\n",
       "      <td>0.064362</td>\n",
       "      <td>0.786215</td>\n",
       "      <td>0.012315</td>\n",
       "      <td>0.164659</td>\n",
       "      <td>0.428646</td>\n",
       "      <td>2021-12-31</td>\n",
       "      <td>19</td>\n",
       "    </tr>\n",
       "    <tr>\n",
       "      <th>81931</th>\n",
       "      <td>81931</td>\n",
       "      <td>0.064362</td>\n",
       "      <td>0.785631</td>\n",
       "      <td>0.012315</td>\n",
       "      <td>0.163655</td>\n",
       "      <td>0.428646</td>\n",
       "      <td>2021-12-31</td>\n",
       "      <td>20</td>\n",
       "    </tr>\n",
       "    <tr>\n",
       "      <th>81932</th>\n",
       "      <td>81932</td>\n",
       "      <td>0.064362</td>\n",
       "      <td>0.786215</td>\n",
       "      <td>0.012315</td>\n",
       "      <td>0.163655</td>\n",
       "      <td>0.428646</td>\n",
       "      <td>2021-12-31</td>\n",
       "      <td>21</td>\n",
       "    </tr>\n",
       "    <tr>\n",
       "      <th>81933</th>\n",
       "      <td>81933</td>\n",
       "      <td>0.063170</td>\n",
       "      <td>0.786799</td>\n",
       "      <td>0.012315</td>\n",
       "      <td>0.163655</td>\n",
       "      <td>0.428646</td>\n",
       "      <td>2021-12-31</td>\n",
       "      <td>22</td>\n",
       "    </tr>\n",
       "    <tr>\n",
       "      <th>81934</th>\n",
       "      <td>81934</td>\n",
       "      <td>0.063170</td>\n",
       "      <td>0.786215</td>\n",
       "      <td>0.012315</td>\n",
       "      <td>0.163655</td>\n",
       "      <td>0.428646</td>\n",
       "      <td>2021-12-31</td>\n",
       "      <td>23</td>\n",
       "    </tr>\n",
       "  </tbody>\n",
       "</table>\n",
       "<p>81935 rows × 8 columns</p>\n",
       "</div>"
      ],
      "text/plain": [
       "       Unnamed: 0  수산대교(창원)_수위  여의리(의령군)_수위  의령군(정암교)_수위  함안군(서출리)_수위  \\\n",
       "0               0     0.100119     0.230140     0.463054     0.424699   \n",
       "1               1     0.100119     0.230140     0.461823     0.423695   \n",
       "2               2     0.102503     0.230140     0.460591     0.422691   \n",
       "3               3     0.107271     0.230140     0.458128     0.421687   \n",
       "4               4     0.113230     0.230140     0.455665     0.420683   \n",
       "...           ...          ...          ...          ...          ...   \n",
       "81930       81930     0.064362     0.786215     0.012315     0.164659   \n",
       "81931       81931     0.064362     0.785631     0.012315     0.163655   \n",
       "81932       81932     0.064362     0.786215     0.012315     0.163655   \n",
       "81933       81933     0.063170     0.786799     0.012315     0.163655   \n",
       "81934       81934     0.063170     0.786215     0.012315     0.163655   \n",
       "\n",
       "       합천군(적포교)_수위        date  time  \n",
       "0         0.235080  2012-08-27     1  \n",
       "1         0.235080  2012-08-27     2  \n",
       "2         0.234561  2012-08-27     3  \n",
       "3         0.234043  2012-08-27     4  \n",
       "4         0.233524  2012-08-27     5  \n",
       "...            ...         ...   ...  \n",
       "81930     0.428646  2021-12-31    19  \n",
       "81931     0.428646  2021-12-31    20  \n",
       "81932     0.428646  2021-12-31    21  \n",
       "81933     0.428646  2021-12-31    22  \n",
       "81934     0.428646  2021-12-31    23  \n",
       "\n",
       "[81935 rows x 8 columns]"
      ]
     },
     "execution_count": 110,
     "metadata": {},
     "output_type": "execute_result"
    }
   ],
   "source": [
    "WaterLevel"
   ]
  },
  {
   "cell_type": "code",
   "execution_count": 111,
   "metadata": {
    "collapsed": false,
    "pycharm": {
     "name": "#%%\n"
    }
   },
   "outputs": [
    {
     "data": {
      "text/html": [
       "<div>\n",
       "<style scoped>\n",
       "    .dataframe tbody tr th:only-of-type {\n",
       "        vertical-align: middle;\n",
       "    }\n",
       "\n",
       "    .dataframe tbody tr th {\n",
       "        vertical-align: top;\n",
       "    }\n",
       "\n",
       "    .dataframe thead th {\n",
       "        text-align: right;\n",
       "    }\n",
       "</style>\n",
       "<table border=\"1\" class=\"dataframe\">\n",
       "  <thead>\n",
       "    <tr style=\"text-align: right;\">\n",
       "      <th></th>\n",
       "      <th>Unnamed: 0</th>\n",
       "      <th>Unnamed: 단위(mm)</th>\n",
       "      <th>길곡강수량</th>\n",
       "      <th>대병강수량</th>\n",
       "      <th>창녕강수량</th>\n",
       "      <th>창덕강수량</th>\n",
       "      <th>함안강수량</th>\n",
       "      <th>date</th>\n",
       "      <th>time</th>\n",
       "    </tr>\n",
       "  </thead>\n",
       "  <tbody>\n",
       "    <tr>\n",
       "      <th>0</th>\n",
       "      <td>0</td>\n",
       "      <td>0</td>\n",
       "      <td>0.0</td>\n",
       "      <td>0.0</td>\n",
       "      <td>0.0</td>\n",
       "      <td>0.0</td>\n",
       "      <td>0.0</td>\n",
       "      <td>2012-08-27</td>\n",
       "      <td>1</td>\n",
       "    </tr>\n",
       "    <tr>\n",
       "      <th>1</th>\n",
       "      <td>1</td>\n",
       "      <td>1</td>\n",
       "      <td>0.0</td>\n",
       "      <td>0.0</td>\n",
       "      <td>0.0</td>\n",
       "      <td>0.0</td>\n",
       "      <td>0.0</td>\n",
       "      <td>2012-08-27</td>\n",
       "      <td>2</td>\n",
       "    </tr>\n",
       "    <tr>\n",
       "      <th>2</th>\n",
       "      <td>2</td>\n",
       "      <td>2</td>\n",
       "      <td>0.0</td>\n",
       "      <td>0.0</td>\n",
       "      <td>0.0</td>\n",
       "      <td>0.0</td>\n",
       "      <td>0.0</td>\n",
       "      <td>2012-08-27</td>\n",
       "      <td>3</td>\n",
       "    </tr>\n",
       "    <tr>\n",
       "      <th>3</th>\n",
       "      <td>3</td>\n",
       "      <td>3</td>\n",
       "      <td>0.0</td>\n",
       "      <td>0.0</td>\n",
       "      <td>0.0</td>\n",
       "      <td>0.0</td>\n",
       "      <td>0.0</td>\n",
       "      <td>2012-08-27</td>\n",
       "      <td>4</td>\n",
       "    </tr>\n",
       "    <tr>\n",
       "      <th>4</th>\n",
       "      <td>4</td>\n",
       "      <td>4</td>\n",
       "      <td>0.0</td>\n",
       "      <td>0.0</td>\n",
       "      <td>0.0</td>\n",
       "      <td>0.0</td>\n",
       "      <td>0.0</td>\n",
       "      <td>2012-08-27</td>\n",
       "      <td>5</td>\n",
       "    </tr>\n",
       "    <tr>\n",
       "      <th>...</th>\n",
       "      <td>...</td>\n",
       "      <td>...</td>\n",
       "      <td>...</td>\n",
       "      <td>...</td>\n",
       "      <td>...</td>\n",
       "      <td>...</td>\n",
       "      <td>...</td>\n",
       "      <td>...</td>\n",
       "      <td>...</td>\n",
       "    </tr>\n",
       "    <tr>\n",
       "      <th>81930</th>\n",
       "      <td>81930</td>\n",
       "      <td>81930</td>\n",
       "      <td>0.0</td>\n",
       "      <td>0.0</td>\n",
       "      <td>0.0</td>\n",
       "      <td>0.0</td>\n",
       "      <td>0.0</td>\n",
       "      <td>2021-12-31</td>\n",
       "      <td>19</td>\n",
       "    </tr>\n",
       "    <tr>\n",
       "      <th>81931</th>\n",
       "      <td>81931</td>\n",
       "      <td>81931</td>\n",
       "      <td>0.0</td>\n",
       "      <td>0.0</td>\n",
       "      <td>0.0</td>\n",
       "      <td>0.0</td>\n",
       "      <td>0.0</td>\n",
       "      <td>2021-12-31</td>\n",
       "      <td>20</td>\n",
       "    </tr>\n",
       "    <tr>\n",
       "      <th>81932</th>\n",
       "      <td>81932</td>\n",
       "      <td>81932</td>\n",
       "      <td>0.0</td>\n",
       "      <td>0.0</td>\n",
       "      <td>0.0</td>\n",
       "      <td>0.0</td>\n",
       "      <td>0.0</td>\n",
       "      <td>2021-12-31</td>\n",
       "      <td>21</td>\n",
       "    </tr>\n",
       "    <tr>\n",
       "      <th>81933</th>\n",
       "      <td>81933</td>\n",
       "      <td>81933</td>\n",
       "      <td>0.0</td>\n",
       "      <td>0.0</td>\n",
       "      <td>0.0</td>\n",
       "      <td>0.0</td>\n",
       "      <td>0.0</td>\n",
       "      <td>2021-12-31</td>\n",
       "      <td>22</td>\n",
       "    </tr>\n",
       "    <tr>\n",
       "      <th>81934</th>\n",
       "      <td>81934</td>\n",
       "      <td>81934</td>\n",
       "      <td>0.0</td>\n",
       "      <td>0.0</td>\n",
       "      <td>0.0</td>\n",
       "      <td>0.0</td>\n",
       "      <td>0.0</td>\n",
       "      <td>2021-12-31</td>\n",
       "      <td>23</td>\n",
       "    </tr>\n",
       "  </tbody>\n",
       "</table>\n",
       "<p>81935 rows × 9 columns</p>\n",
       "</div>"
      ],
      "text/plain": [
       "       Unnamed: 0  Unnamed: 단위(mm)  길곡강수량  대병강수량  창녕강수량  창덕강수량  함안강수량  \\\n",
       "0               0                0    0.0    0.0    0.0    0.0    0.0   \n",
       "1               1                1    0.0    0.0    0.0    0.0    0.0   \n",
       "2               2                2    0.0    0.0    0.0    0.0    0.0   \n",
       "3               3                3    0.0    0.0    0.0    0.0    0.0   \n",
       "4               4                4    0.0    0.0    0.0    0.0    0.0   \n",
       "...           ...              ...    ...    ...    ...    ...    ...   \n",
       "81930       81930            81930    0.0    0.0    0.0    0.0    0.0   \n",
       "81931       81931            81931    0.0    0.0    0.0    0.0    0.0   \n",
       "81932       81932            81932    0.0    0.0    0.0    0.0    0.0   \n",
       "81933       81933            81933    0.0    0.0    0.0    0.0    0.0   \n",
       "81934       81934            81934    0.0    0.0    0.0    0.0    0.0   \n",
       "\n",
       "             date  time  \n",
       "0      2012-08-27     1  \n",
       "1      2012-08-27     2  \n",
       "2      2012-08-27     3  \n",
       "3      2012-08-27     4  \n",
       "4      2012-08-27     5  \n",
       "...           ...   ...  \n",
       "81930  2021-12-31    19  \n",
       "81931  2021-12-31    20  \n",
       "81932  2021-12-31    21  \n",
       "81933  2021-12-31    22  \n",
       "81934  2021-12-31    23  \n",
       "\n",
       "[81935 rows x 9 columns]"
      ]
     },
     "execution_count": 111,
     "metadata": {},
     "output_type": "execute_result"
    }
   ],
   "source": [
    "RainFall"
   ]
  },
  {
   "cell_type": "code",
   "execution_count": 112,
   "metadata": {
    "collapsed": false,
    "pycharm": {
     "name": "#%%\n"
    }
   },
   "outputs": [
    {
     "data": {
      "text/html": [
       "<div>\n",
       "<style scoped>\n",
       "    .dataframe tbody tr th:only-of-type {\n",
       "        vertical-align: middle;\n",
       "    }\n",
       "\n",
       "    .dataframe tbody tr th {\n",
       "        vertical-align: top;\n",
       "    }\n",
       "\n",
       "    .dataframe thead th {\n",
       "        text-align: right;\n",
       "    }\n",
       "</style>\n",
       "<table border=\"1\" class=\"dataframe\">\n",
       "  <thead>\n",
       "    <tr style=\"text-align: right;\">\n",
       "      <th></th>\n",
       "      <th>Unnamed: 0</th>\n",
       "      <th>수산대교(창원)_수위</th>\n",
       "      <th>여의리(의령군)_수위</th>\n",
       "      <th>의령군(정암교)_수위</th>\n",
       "      <th>함안군(서출리)_수위</th>\n",
       "      <th>합천군(적포교)_수위</th>\n",
       "      <th>date</th>\n",
       "      <th>time</th>\n",
       "    </tr>\n",
       "  </thead>\n",
       "  <tbody>\n",
       "    <tr>\n",
       "      <th>0</th>\n",
       "      <td>0</td>\n",
       "      <td>0.100119</td>\n",
       "      <td>0.230140</td>\n",
       "      <td>0.463054</td>\n",
       "      <td>0.424699</td>\n",
       "      <td>0.235080</td>\n",
       "      <td>2012-08-27</td>\n",
       "      <td>1</td>\n",
       "    </tr>\n",
       "    <tr>\n",
       "      <th>1</th>\n",
       "      <td>1</td>\n",
       "      <td>0.100119</td>\n",
       "      <td>0.230140</td>\n",
       "      <td>0.461823</td>\n",
       "      <td>0.423695</td>\n",
       "      <td>0.235080</td>\n",
       "      <td>2012-08-27</td>\n",
       "      <td>2</td>\n",
       "    </tr>\n",
       "    <tr>\n",
       "      <th>2</th>\n",
       "      <td>2</td>\n",
       "      <td>0.102503</td>\n",
       "      <td>0.230140</td>\n",
       "      <td>0.460591</td>\n",
       "      <td>0.422691</td>\n",
       "      <td>0.234561</td>\n",
       "      <td>2012-08-27</td>\n",
       "      <td>3</td>\n",
       "    </tr>\n",
       "    <tr>\n",
       "      <th>3</th>\n",
       "      <td>3</td>\n",
       "      <td>0.107271</td>\n",
       "      <td>0.230140</td>\n",
       "      <td>0.458128</td>\n",
       "      <td>0.421687</td>\n",
       "      <td>0.234043</td>\n",
       "      <td>2012-08-27</td>\n",
       "      <td>4</td>\n",
       "    </tr>\n",
       "    <tr>\n",
       "      <th>4</th>\n",
       "      <td>4</td>\n",
       "      <td>0.113230</td>\n",
       "      <td>0.230140</td>\n",
       "      <td>0.455665</td>\n",
       "      <td>0.420683</td>\n",
       "      <td>0.233524</td>\n",
       "      <td>2012-08-27</td>\n",
       "      <td>5</td>\n",
       "    </tr>\n",
       "    <tr>\n",
       "      <th>...</th>\n",
       "      <td>...</td>\n",
       "      <td>...</td>\n",
       "      <td>...</td>\n",
       "      <td>...</td>\n",
       "      <td>...</td>\n",
       "      <td>...</td>\n",
       "      <td>...</td>\n",
       "      <td>...</td>\n",
       "    </tr>\n",
       "    <tr>\n",
       "      <th>81930</th>\n",
       "      <td>81930</td>\n",
       "      <td>0.064362</td>\n",
       "      <td>0.786215</td>\n",
       "      <td>0.012315</td>\n",
       "      <td>0.164659</td>\n",
       "      <td>0.428646</td>\n",
       "      <td>2021-12-31</td>\n",
       "      <td>19</td>\n",
       "    </tr>\n",
       "    <tr>\n",
       "      <th>81931</th>\n",
       "      <td>81931</td>\n",
       "      <td>0.064362</td>\n",
       "      <td>0.785631</td>\n",
       "      <td>0.012315</td>\n",
       "      <td>0.163655</td>\n",
       "      <td>0.428646</td>\n",
       "      <td>2021-12-31</td>\n",
       "      <td>20</td>\n",
       "    </tr>\n",
       "    <tr>\n",
       "      <th>81932</th>\n",
       "      <td>81932</td>\n",
       "      <td>0.064362</td>\n",
       "      <td>0.786215</td>\n",
       "      <td>0.012315</td>\n",
       "      <td>0.163655</td>\n",
       "      <td>0.428646</td>\n",
       "      <td>2021-12-31</td>\n",
       "      <td>21</td>\n",
       "    </tr>\n",
       "    <tr>\n",
       "      <th>81933</th>\n",
       "      <td>81933</td>\n",
       "      <td>0.063170</td>\n",
       "      <td>0.786799</td>\n",
       "      <td>0.012315</td>\n",
       "      <td>0.163655</td>\n",
       "      <td>0.428646</td>\n",
       "      <td>2021-12-31</td>\n",
       "      <td>22</td>\n",
       "    </tr>\n",
       "    <tr>\n",
       "      <th>81934</th>\n",
       "      <td>81934</td>\n",
       "      <td>0.063170</td>\n",
       "      <td>0.786215</td>\n",
       "      <td>0.012315</td>\n",
       "      <td>0.163655</td>\n",
       "      <td>0.428646</td>\n",
       "      <td>2021-12-31</td>\n",
       "      <td>23</td>\n",
       "    </tr>\n",
       "  </tbody>\n",
       "</table>\n",
       "<p>81935 rows × 8 columns</p>\n",
       "</div>"
      ],
      "text/plain": [
       "       Unnamed: 0  수산대교(창원)_수위  여의리(의령군)_수위  의령군(정암교)_수위  함안군(서출리)_수위  \\\n",
       "0               0     0.100119     0.230140     0.463054     0.424699   \n",
       "1               1     0.100119     0.230140     0.461823     0.423695   \n",
       "2               2     0.102503     0.230140     0.460591     0.422691   \n",
       "3               3     0.107271     0.230140     0.458128     0.421687   \n",
       "4               4     0.113230     0.230140     0.455665     0.420683   \n",
       "...           ...          ...          ...          ...          ...   \n",
       "81930       81930     0.064362     0.786215     0.012315     0.164659   \n",
       "81931       81931     0.064362     0.785631     0.012315     0.163655   \n",
       "81932       81932     0.064362     0.786215     0.012315     0.163655   \n",
       "81933       81933     0.063170     0.786799     0.012315     0.163655   \n",
       "81934       81934     0.063170     0.786215     0.012315     0.163655   \n",
       "\n",
       "       합천군(적포교)_수위        date  time  \n",
       "0         0.235080  2012-08-27     1  \n",
       "1         0.235080  2012-08-27     2  \n",
       "2         0.234561  2012-08-27     3  \n",
       "3         0.234043  2012-08-27     4  \n",
       "4         0.233524  2012-08-27     5  \n",
       "...            ...         ...   ...  \n",
       "81930     0.428646  2021-12-31    19  \n",
       "81931     0.428646  2021-12-31    20  \n",
       "81932     0.428646  2021-12-31    21  \n",
       "81933     0.428646  2021-12-31    22  \n",
       "81934     0.428646  2021-12-31    23  \n",
       "\n",
       "[81935 rows x 8 columns]"
      ]
     },
     "execution_count": 112,
     "metadata": {},
     "output_type": "execute_result"
    }
   ],
   "source": [
    "WaterLevel"
   ]
  },
  {
   "cell_type": "code",
   "execution_count": 113,
   "metadata": {
    "collapsed": false,
    "pycharm": {
     "name": "#%%\n"
    }
   },
   "outputs": [],
   "source": [
    "RainFall.to_csv(\"./dataset/RainFall.csv\", index_label=False)\n",
    "WaterLevel.to_csv(\"./dataset/WaterLevel.csv\", index_label=False)"
   ]
  },
  {
   "cell_type": "markdown",
   "metadata": {
    "collapsed": false,
    "pycharm": {
     "name": "#%%\n"
    }
   },
   "source": [
    "# 우기(06월 ~ 09월)만 잘라서 사용"
   ]
  },
  {
   "cell_type": "code",
   "execution_count": 114,
   "metadata": {},
   "outputs": [],
   "source": [
    "RainFall = pd.read_csv('./dataset/RainFall.csv')\n",
    "WaterLevel = pd.read_csv('./dataset/WaterLevel.csv')\n",
    "Target = pd.read_csv('./dataset/Target_discharge.csv')"
   ]
  },
  {
   "cell_type": "code",
   "execution_count": 115,
   "metadata": {},
   "outputs": [
    {
     "name": "stdout",
     "output_type": "stream",
     "text": [
      "date    2013-06-01\n",
      "time             0\n",
      "Name: 6671, dtype: object\n",
      "date    2013-09-30\n",
      "time            23\n",
      "Name: 9598, dtype: object\n"
     ]
    }
   ],
   "source": [
    "st_idx = 6671 # \n",
    "end_idx = 9598\n",
    "print(RainFall.loc[st_idx, ['date', 'time']])\n",
    "print(RainFall.loc[end_idx, ['date', 'time']])\n",
    "\n",
    "year_idx = 365*24\n",
    "#rs = rainy season ^^\n",
    "\n",
    "rs_RainFall = RainFall[st_idx:end_idx]\n",
    "rs_WaterLevel = WaterLevel[st_idx:end_idx]\n",
    "rs_Target = Target[st_idx:end_idx]\n",
    "\n",
    "for i in range(9):\n",
    "\n",
    "    data1 = RainFall\n",
    "    rs_RainFall = pd.concat([rs_RainFall, data1[st_idx+(i*year_idx) : end_idx+(i*year_idx)]])\n",
    "\n",
    "    data2 = WaterLevel\n",
    "    rs_WaterLevel = pd.concat([rs_WaterLevel, data2[st_idx+(i*year_idx) : end_idx+(i*year_idx)]])\n",
    "\n",
    "    data3 = Target\n",
    "    rs_Target = pd.concat([rs_Target, data3[st_idx+(i*year_idx) : end_idx+(i*year_idx)]])"
   ]
  },
  {
   "cell_type": "code",
   "execution_count": 116,
   "metadata": {},
   "outputs": [],
   "source": [
    "if not os.path.isdir('./dataset/Rainy_season'):\n",
    "    os.mkdir('./dataset/Rainy_season')\n",
    "rs_RainFall.to_csv('./dataset/Rainy_season/rs_RainFall.csv', index=False)\n",
    "rs_WaterLevel.to_csv('./dataset/Rainy_season/rs_WaterLevel.csv', index=False)\n",
    "rs_Target.to_csv('./dataset/Rainy_season/Target.csv', index=False)"
   ]
  },
  {
   "cell_type": "code",
   "execution_count": 117,
   "metadata": {},
   "outputs": [
    {
     "data": {
      "text/html": [
       "<div>\n",
       "<style scoped>\n",
       "    .dataframe tbody tr th:only-of-type {\n",
       "        vertical-align: middle;\n",
       "    }\n",
       "\n",
       "    .dataframe tbody tr th {\n",
       "        vertical-align: top;\n",
       "    }\n",
       "\n",
       "    .dataframe thead th {\n",
       "        text-align: right;\n",
       "    }\n",
       "</style>\n",
       "<table border=\"1\" class=\"dataframe\">\n",
       "  <thead>\n",
       "    <tr style=\"text-align: right;\">\n",
       "      <th></th>\n",
       "      <th>Unnamed: 0</th>\n",
       "      <th>수산대교(창원)_수위</th>\n",
       "      <th>여의리(의령군)_수위</th>\n",
       "      <th>의령군(정암교)_수위</th>\n",
       "      <th>함안군(서출리)_수위</th>\n",
       "      <th>합천군(적포교)_수위</th>\n",
       "      <th>date</th>\n",
       "      <th>time</th>\n",
       "    </tr>\n",
       "  </thead>\n",
       "  <tbody>\n",
       "    <tr>\n",
       "      <th>6671</th>\n",
       "      <td>6671</td>\n",
       "      <td>0.051251</td>\n",
       "      <td>0.180491</td>\n",
       "      <td>0.210591</td>\n",
       "      <td>0.215863</td>\n",
       "      <td>0.173326</td>\n",
       "      <td>2013-06-01</td>\n",
       "      <td>0</td>\n",
       "    </tr>\n",
       "    <tr>\n",
       "      <th>6672</th>\n",
       "      <td>6672</td>\n",
       "      <td>0.054827</td>\n",
       "      <td>0.182243</td>\n",
       "      <td>0.209360</td>\n",
       "      <td>0.217871</td>\n",
       "      <td>0.177478</td>\n",
       "      <td>2013-06-01</td>\n",
       "      <td>1</td>\n",
       "    </tr>\n",
       "    <tr>\n",
       "      <th>6673</th>\n",
       "      <td>6673</td>\n",
       "      <td>0.054827</td>\n",
       "      <td>0.183411</td>\n",
       "      <td>0.206897</td>\n",
       "      <td>0.218876</td>\n",
       "      <td>0.177997</td>\n",
       "      <td>2013-06-01</td>\n",
       "      <td>2</td>\n",
       "    </tr>\n",
       "    <tr>\n",
       "      <th>6674</th>\n",
       "      <td>6674</td>\n",
       "      <td>0.056019</td>\n",
       "      <td>0.183411</td>\n",
       "      <td>0.204433</td>\n",
       "      <td>0.219880</td>\n",
       "      <td>0.177478</td>\n",
       "      <td>2013-06-01</td>\n",
       "      <td>3</td>\n",
       "    </tr>\n",
       "    <tr>\n",
       "      <th>6675</th>\n",
       "      <td>6675</td>\n",
       "      <td>0.056019</td>\n",
       "      <td>0.184579</td>\n",
       "      <td>0.199507</td>\n",
       "      <td>0.221888</td>\n",
       "      <td>0.179035</td>\n",
       "      <td>2013-06-01</td>\n",
       "      <td>4</td>\n",
       "    </tr>\n",
       "    <tr>\n",
       "      <th>...</th>\n",
       "      <td>...</td>\n",
       "      <td>...</td>\n",
       "      <td>...</td>\n",
       "      <td>...</td>\n",
       "      <td>...</td>\n",
       "      <td>...</td>\n",
       "      <td>...</td>\n",
       "      <td>...</td>\n",
       "    </tr>\n",
       "    <tr>\n",
       "      <th>79673</th>\n",
       "      <td>79673</td>\n",
       "      <td>0.056019</td>\n",
       "      <td>0.649533</td>\n",
       "      <td>0.039409</td>\n",
       "      <td>0.019076</td>\n",
       "      <td>0.310846</td>\n",
       "      <td>2021-09-28</td>\n",
       "      <td>18</td>\n",
       "    </tr>\n",
       "    <tr>\n",
       "      <th>79674</th>\n",
       "      <td>79674</td>\n",
       "      <td>0.060787</td>\n",
       "      <td>0.651869</td>\n",
       "      <td>0.039409</td>\n",
       "      <td>0.019076</td>\n",
       "      <td>0.313441</td>\n",
       "      <td>2021-09-28</td>\n",
       "      <td>19</td>\n",
       "    </tr>\n",
       "    <tr>\n",
       "      <th>79675</th>\n",
       "      <td>79675</td>\n",
       "      <td>0.065554</td>\n",
       "      <td>0.647196</td>\n",
       "      <td>0.039409</td>\n",
       "      <td>0.019076</td>\n",
       "      <td>0.317073</td>\n",
       "      <td>2021-09-28</td>\n",
       "      <td>20</td>\n",
       "    </tr>\n",
       "    <tr>\n",
       "      <th>79676</th>\n",
       "      <td>79676</td>\n",
       "      <td>0.065554</td>\n",
       "      <td>0.646612</td>\n",
       "      <td>0.039409</td>\n",
       "      <td>0.019076</td>\n",
       "      <td>0.317073</td>\n",
       "      <td>2021-09-28</td>\n",
       "      <td>21</td>\n",
       "    </tr>\n",
       "    <tr>\n",
       "      <th>79677</th>\n",
       "      <td>79677</td>\n",
       "      <td>0.064362</td>\n",
       "      <td>0.646028</td>\n",
       "      <td>0.038177</td>\n",
       "      <td>0.019076</td>\n",
       "      <td>0.316035</td>\n",
       "      <td>2021-09-28</td>\n",
       "      <td>22</td>\n",
       "    </tr>\n",
       "  </tbody>\n",
       "</table>\n",
       "<p>29270 rows × 8 columns</p>\n",
       "</div>"
      ],
      "text/plain": [
       "       Unnamed: 0  수산대교(창원)_수위  여의리(의령군)_수위  의령군(정암교)_수위  함안군(서출리)_수위  \\\n",
       "6671         6671     0.051251     0.180491     0.210591     0.215863   \n",
       "6672         6672     0.054827     0.182243     0.209360     0.217871   \n",
       "6673         6673     0.054827     0.183411     0.206897     0.218876   \n",
       "6674         6674     0.056019     0.183411     0.204433     0.219880   \n",
       "6675         6675     0.056019     0.184579     0.199507     0.221888   \n",
       "...           ...          ...          ...          ...          ...   \n",
       "79673       79673     0.056019     0.649533     0.039409     0.019076   \n",
       "79674       79674     0.060787     0.651869     0.039409     0.019076   \n",
       "79675       79675     0.065554     0.647196     0.039409     0.019076   \n",
       "79676       79676     0.065554     0.646612     0.039409     0.019076   \n",
       "79677       79677     0.064362     0.646028     0.038177     0.019076   \n",
       "\n",
       "       합천군(적포교)_수위        date  time  \n",
       "6671      0.173326  2013-06-01     0  \n",
       "6672      0.177478  2013-06-01     1  \n",
       "6673      0.177997  2013-06-01     2  \n",
       "6674      0.177478  2013-06-01     3  \n",
       "6675      0.179035  2013-06-01     4  \n",
       "...            ...         ...   ...  \n",
       "79673     0.310846  2021-09-28    18  \n",
       "79674     0.313441  2021-09-28    19  \n",
       "79675     0.317073  2021-09-28    20  \n",
       "79676     0.317073  2021-09-28    21  \n",
       "79677     0.316035  2021-09-28    22  \n",
       "\n",
       "[29270 rows x 8 columns]"
      ]
     },
     "execution_count": 117,
     "metadata": {},
     "output_type": "execute_result"
    }
   ],
   "source": [
    "rs_WaterLevel"
   ]
  },
  {
   "cell_type": "code",
   "execution_count": null,
   "metadata": {},
   "outputs": [],
   "source": []
  }
 ],
 "metadata": {
  "kernelspec": {
   "display_name": "Python 3.7.13 ('cw-jun')",
   "language": "python",
   "name": "python3"
  },
  "language_info": {
   "codemirror_mode": {
    "name": "ipython",
    "version": 3
   },
   "file_extension": ".py",
   "mimetype": "text/x-python",
   "name": "python",
   "nbconvert_exporter": "python",
   "pygments_lexer": "ipython3",
   "version": "3.7.13"
  },
  "vscode": {
   "interpreter": {
    "hash": "abfa4eeb02cd0fd0627c994a6e41cbc3e8f6a2a52aae8b81292df05c4b3621d0"
   }
  }
 },
 "nbformat": 4,
 "nbformat_minor": 0
}
