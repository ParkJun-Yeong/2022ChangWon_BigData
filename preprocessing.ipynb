{
 "cells": [
  {
   "cell_type": "code",
   "execution_count": 70,
   "metadata": {
    "collapsed": true,
    "pycharm": {
     "name": "#%%\n"
    }
   },
   "outputs": [],
   "source": [
    "import pandas as pd\n",
    "import numpy as np"
   ]
  },
  {
   "cell_type": "code",
   "execution_count": 71,
   "outputs": [],
   "source": [
    "raw_path = \"./dataset/raw/\"\n",
    "\n",
    "WaterLevel = pd.read_csv(raw_path + \"WaterLevel.csv\")\n",
    "RainFall = pd.read_csv(raw_path + \"RainFall.csv\")\n",
    "Target = pd.read_csv(raw_path + \"Target.csv\")"
   ],
   "metadata": {
    "collapsed": false,
    "pycharm": {
     "name": "#%%\n"
    }
   }
  },
  {
   "cell_type": "code",
   "execution_count": 72,
   "outputs": [
    {
     "data": {
      "text/plain": "        Unnamed: 0  수산대교(창원)_수위 여의리(의령군)_수위  의령군(정암교)_수위 함안군(서출리)_수위  \\\n0  2012-08-27 1:00         1.52        0.57         3.83        4.41   \n1  2012-08-27 2:00         1.52        0.57         3.82         4.4   \n2  2012-08-27 3:00         1.54        0.57         3.81        4.39   \n3  2012-08-27 4:00         1.58        0.57         3.79        4.38   \n4  2012-08-27 5:00         1.63        0.57         3.77        4.37   \n\n   합천군(적포교)_수위  \n0         0.63  \n1         0.63  \n2         0.62  \n3         0.61  \n4         0.60  ",
      "text/html": "<div>\n<style scoped>\n    .dataframe tbody tr th:only-of-type {\n        vertical-align: middle;\n    }\n\n    .dataframe tbody tr th {\n        vertical-align: top;\n    }\n\n    .dataframe thead th {\n        text-align: right;\n    }\n</style>\n<table border=\"1\" class=\"dataframe\">\n  <thead>\n    <tr style=\"text-align: right;\">\n      <th></th>\n      <th>Unnamed: 0</th>\n      <th>수산대교(창원)_수위</th>\n      <th>여의리(의령군)_수위</th>\n      <th>의령군(정암교)_수위</th>\n      <th>함안군(서출리)_수위</th>\n      <th>합천군(적포교)_수위</th>\n    </tr>\n  </thead>\n  <tbody>\n    <tr>\n      <th>0</th>\n      <td>2012-08-27 1:00</td>\n      <td>1.52</td>\n      <td>0.57</td>\n      <td>3.83</td>\n      <td>4.41</td>\n      <td>0.63</td>\n    </tr>\n    <tr>\n      <th>1</th>\n      <td>2012-08-27 2:00</td>\n      <td>1.52</td>\n      <td>0.57</td>\n      <td>3.82</td>\n      <td>4.4</td>\n      <td>0.63</td>\n    </tr>\n    <tr>\n      <th>2</th>\n      <td>2012-08-27 3:00</td>\n      <td>1.54</td>\n      <td>0.57</td>\n      <td>3.81</td>\n      <td>4.39</td>\n      <td>0.62</td>\n    </tr>\n    <tr>\n      <th>3</th>\n      <td>2012-08-27 4:00</td>\n      <td>1.58</td>\n      <td>0.57</td>\n      <td>3.79</td>\n      <td>4.38</td>\n      <td>0.61</td>\n    </tr>\n    <tr>\n      <th>4</th>\n      <td>2012-08-27 5:00</td>\n      <td>1.63</td>\n      <td>0.57</td>\n      <td>3.77</td>\n      <td>4.37</td>\n      <td>0.60</td>\n    </tr>\n  </tbody>\n</table>\n</div>"
     },
     "execution_count": 72,
     "metadata": {},
     "output_type": "execute_result"
    }
   ],
   "source": [
    "WaterLevel[:5]"
   ],
   "metadata": {
    "collapsed": false,
    "pycharm": {
     "name": "#%%\n"
    }
   }
  },
  {
   "cell_type": "code",
   "execution_count": 73,
   "outputs": [
    {
     "data": {
      "text/plain": "            Unnamed: 0  길곡_강수량(mm)  대병_강수량(mm)  창녕_강수량(mm)  청덕_강수량(mm)  \\\n0  2012-08-27 01:00:00         0.0         0.0         0.0         0.0   \n1  2012-08-27 02:00:00         0.0         0.0         0.0         0.0   \n2  2012-08-27 03:00:00         0.0         0.0         0.0         0.0   \n3  2012-08-27 04:00:00         0.0         0.0         0.0         0.0   \n4  2012-08-27 05:00:00         0.0         0.0         0.0         0.0   \n\n   함안_강수량(mm)  \n0         0.0  \n1         0.0  \n2         0.0  \n3         0.0  \n4         0.0  ",
      "text/html": "<div>\n<style scoped>\n    .dataframe tbody tr th:only-of-type {\n        vertical-align: middle;\n    }\n\n    .dataframe tbody tr th {\n        vertical-align: top;\n    }\n\n    .dataframe thead th {\n        text-align: right;\n    }\n</style>\n<table border=\"1\" class=\"dataframe\">\n  <thead>\n    <tr style=\"text-align: right;\">\n      <th></th>\n      <th>Unnamed: 0</th>\n      <th>길곡_강수량(mm)</th>\n      <th>대병_강수량(mm)</th>\n      <th>창녕_강수량(mm)</th>\n      <th>청덕_강수량(mm)</th>\n      <th>함안_강수량(mm)</th>\n    </tr>\n  </thead>\n  <tbody>\n    <tr>\n      <th>0</th>\n      <td>2012-08-27 01:00:00</td>\n      <td>0.0</td>\n      <td>0.0</td>\n      <td>0.0</td>\n      <td>0.0</td>\n      <td>0.0</td>\n    </tr>\n    <tr>\n      <th>1</th>\n      <td>2012-08-27 02:00:00</td>\n      <td>0.0</td>\n      <td>0.0</td>\n      <td>0.0</td>\n      <td>0.0</td>\n      <td>0.0</td>\n    </tr>\n    <tr>\n      <th>2</th>\n      <td>2012-08-27 03:00:00</td>\n      <td>0.0</td>\n      <td>0.0</td>\n      <td>0.0</td>\n      <td>0.0</td>\n      <td>0.0</td>\n    </tr>\n    <tr>\n      <th>3</th>\n      <td>2012-08-27 04:00:00</td>\n      <td>0.0</td>\n      <td>0.0</td>\n      <td>0.0</td>\n      <td>0.0</td>\n      <td>0.0</td>\n    </tr>\n    <tr>\n      <th>4</th>\n      <td>2012-08-27 05:00:00</td>\n      <td>0.0</td>\n      <td>0.0</td>\n      <td>0.0</td>\n      <td>0.0</td>\n      <td>0.0</td>\n    </tr>\n  </tbody>\n</table>\n</div>"
     },
     "execution_count": 73,
     "metadata": {},
     "output_type": "execute_result"
    }
   ],
   "source": [
    "RainFall[:5]"
   ],
   "metadata": {
    "collapsed": false,
    "pycharm": {
     "name": "#%%\n"
    }
   }
  },
  {
   "cell_type": "code",
   "execution_count": 74,
   "outputs": [
    {
     "data": {
      "text/plain": "   Unnamed: 0.1           Unnamed: 0  창녕함안보_수위(EL.m)\n0             0  2012-08-27 01:00:00            5.45\n1             1  2012-08-27 02:00:00            5.45\n2             2  2012-08-27 03:00:00            5.45\n3             3  2012-08-27 04:00:00            5.45\n4             4  2012-08-27 05:00:00            5.45",
      "text/html": "<div>\n<style scoped>\n    .dataframe tbody tr th:only-of-type {\n        vertical-align: middle;\n    }\n\n    .dataframe tbody tr th {\n        vertical-align: top;\n    }\n\n    .dataframe thead th {\n        text-align: right;\n    }\n</style>\n<table border=\"1\" class=\"dataframe\">\n  <thead>\n    <tr style=\"text-align: right;\">\n      <th></th>\n      <th>Unnamed: 0.1</th>\n      <th>Unnamed: 0</th>\n      <th>창녕함안보_수위(EL.m)</th>\n    </tr>\n  </thead>\n  <tbody>\n    <tr>\n      <th>0</th>\n      <td>0</td>\n      <td>2012-08-27 01:00:00</td>\n      <td>5.45</td>\n    </tr>\n    <tr>\n      <th>1</th>\n      <td>1</td>\n      <td>2012-08-27 02:00:00</td>\n      <td>5.45</td>\n    </tr>\n    <tr>\n      <th>2</th>\n      <td>2</td>\n      <td>2012-08-27 03:00:00</td>\n      <td>5.45</td>\n    </tr>\n    <tr>\n      <th>3</th>\n      <td>3</td>\n      <td>2012-08-27 04:00:00</td>\n      <td>5.45</td>\n    </tr>\n    <tr>\n      <th>4</th>\n      <td>4</td>\n      <td>2012-08-27 05:00:00</td>\n      <td>5.45</td>\n    </tr>\n  </tbody>\n</table>\n</div>"
     },
     "execution_count": 74,
     "metadata": {},
     "output_type": "execute_result"
    }
   ],
   "source": [
    "Target[:5]"
   ],
   "metadata": {
    "collapsed": false,
    "pycharm": {
     "name": "#%%\n"
    }
   }
  },
  {
   "cell_type": "code",
   "execution_count": 75,
   "outputs": [
    {
     "name": "stdout",
     "output_type": "stream",
     "text": [
      "Length of WaterLevel:  81935\n",
      "Length of Rainfall:  81935\n",
      "Length of Target:  81935\n"
     ]
    }
   ],
   "source": [
    "print(\"Length of WaterLevel: \", len(WaterLevel))\n",
    "print(\"Length of Rainfall: \", len(RainFall))\n",
    "print(\"Length of Target: \", len(Target))"
   ],
   "metadata": {
    "collapsed": false,
    "pycharm": {
     "name": "#%%\n"
    }
   }
  },
  {
   "cell_type": "markdown",
   "source": [
    "# 시간 표현법 통일"
   ],
   "metadata": {
    "collapsed": false,
    "pycharm": {
     "name": "#%% md\n"
    }
   }
  },
  {
   "cell_type": "code",
   "execution_count": 77,
   "outputs": [],
   "source": [
    "# 수위\n",
    "df = WaterLevel['Unnamed: 0'].str.split(\" \", expand=True)\n",
    "WaterLevel['date'] = df[0]\n",
    "WaterLevel['time'] = df[1]\n",
    "WaterLevel.drop(['Unnamed: 0'], axis=1, inplace=True)"
   ],
   "metadata": {
    "collapsed": false,
    "pycharm": {
     "name": "#%%\n"
    }
   }
  },
  {
   "cell_type": "code",
   "execution_count": 82,
   "outputs": [
    {
     "data": {
      "text/plain": "array(['1:00', '2:00', '3:00', '4:00', '5:00', '6:00', '7:00', '8:00',\n       '9:00', '10:00', '11:00', '12:00', '13:00', '14:00', '15:00',\n       '16:00', '17:00', '18:00', '19:00', '20:00', '21:00', '22:00',\n       '23:00', '0:00'], dtype=object)"
     },
     "execution_count": 82,
     "metadata": {},
     "output_type": "execute_result"
    }
   ],
   "source": [
    "WaterLevel['time'].unique()"
   ],
   "metadata": {
    "collapsed": false,
    "pycharm": {
     "name": "#%%\n"
    }
   }
  },
  {
   "cell_type": "code",
   "execution_count": 87,
   "outputs": [
    {
     "data": {
      "text/plain": "   수산대교(창원)_수위 여의리(의령군)_수위  의령군(정암교)_수위 함안군(서출리)_수위  합천군(적포교)_수위        date  \\\n0         1.52        0.57         3.83        4.41         0.63  2012-08-27   \n1         1.52        0.57         3.82         4.4         0.63  2012-08-27   \n2         1.54        0.57         3.81        4.39         0.62  2012-08-27   \n3         1.58        0.57         3.79        4.38         0.61  2012-08-27   \n4         1.63        0.57         3.77        4.37         0.60  2012-08-27   \n\n   time  \n0     1  \n1     2  \n2     3  \n3     4  \n4     5  ",
      "text/html": "<div>\n<style scoped>\n    .dataframe tbody tr th:only-of-type {\n        vertical-align: middle;\n    }\n\n    .dataframe tbody tr th {\n        vertical-align: top;\n    }\n\n    .dataframe thead th {\n        text-align: right;\n    }\n</style>\n<table border=\"1\" class=\"dataframe\">\n  <thead>\n    <tr style=\"text-align: right;\">\n      <th></th>\n      <th>수산대교(창원)_수위</th>\n      <th>여의리(의령군)_수위</th>\n      <th>의령군(정암교)_수위</th>\n      <th>함안군(서출리)_수위</th>\n      <th>합천군(적포교)_수위</th>\n      <th>date</th>\n      <th>time</th>\n    </tr>\n  </thead>\n  <tbody>\n    <tr>\n      <th>0</th>\n      <td>1.52</td>\n      <td>0.57</td>\n      <td>3.83</td>\n      <td>4.41</td>\n      <td>0.63</td>\n      <td>2012-08-27</td>\n      <td>1</td>\n    </tr>\n    <tr>\n      <th>1</th>\n      <td>1.52</td>\n      <td>0.57</td>\n      <td>3.82</td>\n      <td>4.4</td>\n      <td>0.63</td>\n      <td>2012-08-27</td>\n      <td>2</td>\n    </tr>\n    <tr>\n      <th>2</th>\n      <td>1.54</td>\n      <td>0.57</td>\n      <td>3.81</td>\n      <td>4.39</td>\n      <td>0.62</td>\n      <td>2012-08-27</td>\n      <td>3</td>\n    </tr>\n    <tr>\n      <th>3</th>\n      <td>1.58</td>\n      <td>0.57</td>\n      <td>3.79</td>\n      <td>4.38</td>\n      <td>0.61</td>\n      <td>2012-08-27</td>\n      <td>4</td>\n    </tr>\n    <tr>\n      <th>4</th>\n      <td>1.63</td>\n      <td>0.57</td>\n      <td>3.77</td>\n      <td>4.37</td>\n      <td>0.60</td>\n      <td>2012-08-27</td>\n      <td>5</td>\n    </tr>\n  </tbody>\n</table>\n</div>"
     },
     "execution_count": 87,
     "metadata": {},
     "output_type": "execute_result"
    }
   ],
   "source": [
    "WaterLevel['time'] = pd.to_numeric(WaterLevel['time'].str.split(\":\", expand=True)[0])       # 시간을 통일된 표기로 정리\n",
    "WaterLevel[:5]"
   ],
   "metadata": {
    "collapsed": false,
    "pycharm": {
     "name": "#%%\n"
    }
   }
  },
  {
   "cell_type": "code",
   "execution_count": 80,
   "outputs": [],
   "source": [
    "# 강수량\n",
    "df = RainFall['Unnamed: 0'].str.split(\" \", expand=True)\n",
    "RainFall['date'] = df[0]\n",
    "RainFall['time'] = df[1]\n",
    "RainFall.drop(['Unnamed: 0'], axis=1, inplace=True)"
   ],
   "metadata": {
    "collapsed": false,
    "pycharm": {
     "name": "#%%\n"
    }
   }
  },
  {
   "cell_type": "code",
   "execution_count": 81,
   "outputs": [
    {
     "data": {
      "text/plain": "array(['01:00:00', '02:00:00', '03:00:00', '04:00:00', '05:00:00',\n       '06:00:00', '07:00:00', '08:00:00', '09:00:00', '10:00:00',\n       '11:00:00', '12:00:00', '13:00:00', '14:00:00', '15:00:00',\n       '16:00:00', '17:00:00', '18:00:00', '19:00:00', '20:00:00',\n       '21:00:00', '22:00:00', '23:00:00', '00:00:00'], dtype=object)"
     },
     "execution_count": 81,
     "metadata": {},
     "output_type": "execute_result"
    }
   ],
   "source": [
    "RainFall['time'].unique()"
   ],
   "metadata": {
    "collapsed": false,
    "pycharm": {
     "name": "#%%\n"
    }
   }
  },
  {
   "cell_type": "code",
   "execution_count": 88,
   "outputs": [
    {
     "data": {
      "text/plain": "   길곡_강수량(mm)  대병_강수량(mm)  창녕_강수량(mm)  청덕_강수량(mm)  함안_강수량(mm)        date  \\\n0         0.0         0.0         0.0         0.0         0.0  2012-08-27   \n1         0.0         0.0         0.0         0.0         0.0  2012-08-27   \n2         0.0         0.0         0.0         0.0         0.0  2012-08-27   \n3         0.0         0.0         0.0         0.0         0.0  2012-08-27   \n4         0.0         0.0         0.0         0.0         0.0  2012-08-27   \n\n   time  \n0     1  \n1     2  \n2     3  \n3     4  \n4     5  ",
      "text/html": "<div>\n<style scoped>\n    .dataframe tbody tr th:only-of-type {\n        vertical-align: middle;\n    }\n\n    .dataframe tbody tr th {\n        vertical-align: top;\n    }\n\n    .dataframe thead th {\n        text-align: right;\n    }\n</style>\n<table border=\"1\" class=\"dataframe\">\n  <thead>\n    <tr style=\"text-align: right;\">\n      <th></th>\n      <th>길곡_강수량(mm)</th>\n      <th>대병_강수량(mm)</th>\n      <th>창녕_강수량(mm)</th>\n      <th>청덕_강수량(mm)</th>\n      <th>함안_강수량(mm)</th>\n      <th>date</th>\n      <th>time</th>\n    </tr>\n  </thead>\n  <tbody>\n    <tr>\n      <th>0</th>\n      <td>0.0</td>\n      <td>0.0</td>\n      <td>0.0</td>\n      <td>0.0</td>\n      <td>0.0</td>\n      <td>2012-08-27</td>\n      <td>1</td>\n    </tr>\n    <tr>\n      <th>1</th>\n      <td>0.0</td>\n      <td>0.0</td>\n      <td>0.0</td>\n      <td>0.0</td>\n      <td>0.0</td>\n      <td>2012-08-27</td>\n      <td>2</td>\n    </tr>\n    <tr>\n      <th>2</th>\n      <td>0.0</td>\n      <td>0.0</td>\n      <td>0.0</td>\n      <td>0.0</td>\n      <td>0.0</td>\n      <td>2012-08-27</td>\n      <td>3</td>\n    </tr>\n    <tr>\n      <th>3</th>\n      <td>0.0</td>\n      <td>0.0</td>\n      <td>0.0</td>\n      <td>0.0</td>\n      <td>0.0</td>\n      <td>2012-08-27</td>\n      <td>4</td>\n    </tr>\n    <tr>\n      <th>4</th>\n      <td>0.0</td>\n      <td>0.0</td>\n      <td>0.0</td>\n      <td>0.0</td>\n      <td>0.0</td>\n      <td>2012-08-27</td>\n      <td>5</td>\n    </tr>\n  </tbody>\n</table>\n</div>"
     },
     "execution_count": 88,
     "metadata": {},
     "output_type": "execute_result"
    }
   ],
   "source": [
    "RainFall['time'] = pd.to_numeric(RainFall['time'].str.split(\":\", expand=True)[0])       # 시간을 통일된 표기로 정리\n",
    "RainFall[:5]"
   ],
   "metadata": {
    "collapsed": false,
    "pycharm": {
     "name": "#%%\n"
    }
   }
  },
  {
   "cell_type": "code",
   "execution_count": 84,
   "outputs": [],
   "source": [
    "# Target\n",
    "df = Target['Unnamed: 0'].str.split(\" \", expand=True)\n",
    "Target['date'] = df[0]\n",
    "Target['time'] = df[1]\n",
    "Target.drop(['Unnamed: 0'], axis=1, inplace=True)"
   ],
   "metadata": {
    "collapsed": false,
    "pycharm": {
     "name": "#%%\n"
    }
   }
  },
  {
   "cell_type": "code",
   "execution_count": 86,
   "outputs": [
    {
     "data": {
      "text/plain": "array(['01:00:00', '02:00:00', '03:00:00', '04:00:00', '05:00:00',\n       '06:00:00', '07:00:00', '08:00:00', '09:00:00', '10:00:00',\n       '11:00:00', '12:00:00', '13:00:00', '14:00:00', '15:00:00',\n       '16:00:00', '17:00:00', '18:00:00', '19:00:00', '20:00:00',\n       '21:00:00', '22:00:00', '23:00:00', '00:00:00'], dtype=object)"
     },
     "execution_count": 86,
     "metadata": {},
     "output_type": "execute_result"
    }
   ],
   "source": [
    "Target['time'].unique()"
   ],
   "metadata": {
    "collapsed": false,
    "pycharm": {
     "name": "#%%\n"
    }
   }
  },
  {
   "cell_type": "code",
   "execution_count": 89,
   "outputs": [],
   "source": [
    "Target['time'] = Target['time'].str.split(\":\", expand=True)[0]       # 시간을 통일된 표기로 정리"
   ],
   "metadata": {
    "collapsed": false,
    "pycharm": {
     "name": "#%%\n"
    }
   }
  },
  {
   "cell_type": "code",
   "execution_count": 90,
   "outputs": [
    {
     "data": {
      "text/plain": "   Unnamed: 0.1  창녕함안보_수위(EL.m)        date  time\n0             0            5.45  2012-08-27     1\n1             1            5.45  2012-08-27     2\n2             2            5.45  2012-08-27     3\n3             3            5.45  2012-08-27     4\n4             4            5.45  2012-08-27     5",
      "text/html": "<div>\n<style scoped>\n    .dataframe tbody tr th:only-of-type {\n        vertical-align: middle;\n    }\n\n    .dataframe tbody tr th {\n        vertical-align: top;\n    }\n\n    .dataframe thead th {\n        text-align: right;\n    }\n</style>\n<table border=\"1\" class=\"dataframe\">\n  <thead>\n    <tr style=\"text-align: right;\">\n      <th></th>\n      <th>Unnamed: 0.1</th>\n      <th>창녕함안보_수위(EL.m)</th>\n      <th>date</th>\n      <th>time</th>\n    </tr>\n  </thead>\n  <tbody>\n    <tr>\n      <th>0</th>\n      <td>0</td>\n      <td>5.45</td>\n      <td>2012-08-27</td>\n      <td>1</td>\n    </tr>\n    <tr>\n      <th>1</th>\n      <td>1</td>\n      <td>5.45</td>\n      <td>2012-08-27</td>\n      <td>2</td>\n    </tr>\n    <tr>\n      <th>2</th>\n      <td>2</td>\n      <td>5.45</td>\n      <td>2012-08-27</td>\n      <td>3</td>\n    </tr>\n    <tr>\n      <th>3</th>\n      <td>3</td>\n      <td>5.45</td>\n      <td>2012-08-27</td>\n      <td>4</td>\n    </tr>\n    <tr>\n      <th>4</th>\n      <td>4</td>\n      <td>5.45</td>\n      <td>2012-08-27</td>\n      <td>5</td>\n    </tr>\n  </tbody>\n</table>\n</div>"
     },
     "execution_count": 90,
     "metadata": {},
     "output_type": "execute_result"
    }
   ],
   "source": [
    "Target['time'] = pd.to_numeric(Target['time'].str.replace(\"시\", \"\"))\n",
    "Target[:5]"
   ],
   "metadata": {
    "collapsed": false,
    "pycharm": {
     "name": "#%%\n"
    }
   }
  },
  {
   "cell_type": "code",
   "execution_count": 91,
   "outputs": [
    {
     "name": "stdout",
     "output_type": "stream",
     "text": [
      "수위 결측치:  수산대교(창원)_수위    0\n",
      "여의리(의령군)_수위    0\n",
      "의령군(정암교)_수위    0\n",
      "함안군(서출리)_수위    0\n",
      "합천군(적포교)_수위    0\n",
      "date           0\n",
      "time           0\n",
      "dtype: int64\n",
      "강수량 결측치:  길곡_강수량(mm)     369\n",
      "대병_강수량(mm)     795\n",
      "창녕_강수량(mm)     611\n",
      "청덕_강수량(mm)    1080\n",
      "함안_강수량(mm)     475\n",
      "date             0\n",
      "time             0\n",
      "dtype: int64\n",
      "타겟 결측치:  Unnamed: 0.1      0\n",
      "창녕함안보_수위(EL.m)    0\n",
      "date              0\n",
      "time              0\n",
      "dtype: int64\n"
     ]
    }
   ],
   "source": [
    "print(\"수위 결측치: \", WaterLevel.isnull().sum())\n",
    "print(\"강수량 결측치: \", RainFall.isnull().sum())\n",
    "print(\"타겟 결측치: \", Target.isnull().sum())"
   ],
   "metadata": {
    "collapsed": false,
    "pycharm": {
     "name": "#%%\n"
    }
   }
  },
  {
   "cell_type": "markdown",
   "source": [
    "# 결측값 제거\n",
    "\n",
    "## 강수량"
   ],
   "metadata": {
    "collapsed": false,
    "pycharm": {
     "name": "#%% md\n"
    }
   }
  },
  {
   "cell_type": "code",
   "execution_count": 92,
   "outputs": [],
   "source": [
    "from cmath import nan\n",
    "\n",
    "for reg in RainFall.columns:\n",
    "    lst = RainFall.loc[RainFall[reg] == 10000].index\n",
    "\n",
    "    for n in lst:       # 10,000 값을 모두 nan 값으로 변경\n",
    "        RainFall.loc[n, reg] = nan"
   ],
   "metadata": {
    "collapsed": false,
    "pycharm": {
     "name": "#%%\n"
    }
   }
  },
  {
   "cell_type": "code",
   "execution_count": 93,
   "outputs": [
    {
     "data": {
      "text/plain": "길곡_강수량(mm)     445\n대병_강수량(mm)    1063\n창녕_강수량(mm)     690\n청덕_강수량(mm)    1239\n함안_강수량(mm)     505\ndate             0\ntime             0\ndtype: int64"
     },
     "execution_count": 93,
     "metadata": {},
     "output_type": "execute_result"
    }
   ],
   "source": [
    "RainFall.isnull().sum()"
   ],
   "metadata": {
    "collapsed": false,
    "pycharm": {
     "name": "#%%\n"
    }
   }
  },
  {
   "cell_type": "code",
   "execution_count": 94,
   "outputs": [],
   "source": [
    "# 이전 row 값으로 채움\n",
    "RainFall = RainFall.fillna(method=\"ffill\")"
   ],
   "metadata": {
    "collapsed": false,
    "pycharm": {
     "name": "#%%\n"
    }
   }
  },
  {
   "cell_type": "code",
   "execution_count": 95,
   "outputs": [
    {
     "data": {
      "text/plain": "길곡_강수량(mm)    0\n대병_강수량(mm)    0\n창녕_강수량(mm)    0\n청덕_강수량(mm)    0\n함안_강수량(mm)    0\ndate          0\ntime          0\ndtype: int64"
     },
     "execution_count": 95,
     "metadata": {},
     "output_type": "execute_result"
    }
   ],
   "source": [
    "RainFall.isnull().sum()"
   ],
   "metadata": {
    "collapsed": false,
    "pycharm": {
     "name": "#%%\n"
    }
   }
  },
  {
   "cell_type": "markdown",
   "source": [
    "## 수위"
   ],
   "metadata": {
    "collapsed": false,
    "pycharm": {
     "name": "#%% md\n"
    }
   }
  },
  {
   "cell_type": "code",
   "execution_count": 96,
   "outputs": [
    {
     "data": {
      "text/plain": "수산대교(창원)_수위    0\n여의리(의령군)_수위    0\n의령군(정암교)_수위    0\n함안군(서출리)_수위    0\n합천군(적포교)_수위    0\ndate           0\ntime           0\ndtype: int64"
     },
     "execution_count": 96,
     "metadata": {},
     "output_type": "execute_result"
    }
   ],
   "source": [
    "WaterLevel.isnull().sum()\n",
    "# 결측치 없음"
   ],
   "metadata": {
    "collapsed": false,
    "pycharm": {
     "name": "#%%\n"
    }
   }
  },
  {
   "cell_type": "markdown",
   "source": [
    "## 창녕함안보 (Target)"
   ],
   "metadata": {
    "collapsed": false,
    "pycharm": {
     "name": "#%% md\n"
    }
   }
  },
  {
   "cell_type": "code",
   "execution_count": 97,
   "outputs": [
    {
     "data": {
      "text/plain": "Index(['Unnamed: 0.1', '창녕함안보_수위(EL.m)', 'date', 'time'], dtype='object')"
     },
     "execution_count": 97,
     "metadata": {},
     "output_type": "execute_result"
    }
   ],
   "source": [
    "Target.columns"
   ],
   "metadata": {
    "collapsed": false,
    "pycharm": {
     "name": "#%%\n"
    }
   }
  },
  {
   "cell_type": "code",
   "execution_count": 98,
   "outputs": [
    {
     "data": {
      "text/plain": "Unnamed: 0.1      0\n창녕함안보_수위(EL.m)    0\ndate              0\ntime              0\ndtype: int64"
     },
     "execution_count": 98,
     "metadata": {},
     "output_type": "execute_result"
    }
   ],
   "source": [
    "Target.isnull().sum()"
   ],
   "metadata": {
    "collapsed": false,
    "pycharm": {
     "name": "#%%\n"
    }
   }
  },
  {
   "cell_type": "code",
   "execution_count": 99,
   "outputs": [],
   "source": [
    "lst = Target.loc[Target['창녕함안보_수위(EL.m)'] == 10000].index\n",
    "\n",
    "for n in lst:\n",
    "    Target.loc[n, '창녕함안보_수위(EL.m)'] = nan\n",
    "\n",
    "Target = Target.fillna(method=\"ffill\")"
   ],
   "metadata": {
    "collapsed": false,
    "pycharm": {
     "name": "#%%\n"
    }
   }
  },
  {
   "cell_type": "code",
   "execution_count": 100,
   "outputs": [],
   "source": [
    "import os\n",
    "path = \"./dataset\"\n",
    "RainFall.to_csv(os.path.join(path, \"RainFall.csv\"), index=True)\n",
    "Target.to_csv(os.path.join(path, \"Target.csv\"), index=True)\n",
    "WaterLevel.to_csv(os.path.join(path, \"WaterLevel.csv\"), index=True)"
   ],
   "metadata": {
    "collapsed": false,
    "pycharm": {
     "name": "#%%\n"
    }
   }
  },
  {
   "cell_type": "markdown",
   "source": [
    "# '-' 바꾸기\n",
    "2022.09.14"
   ],
   "metadata": {
    "collapsed": false,
    "pycharm": {
     "name": "#%% md\n"
    }
   }
  },
  {
   "cell_type": "code",
   "execution_count": 102,
   "outputs": [],
   "source": [
    "from cmath import nan\n",
    "import pandas as pd"
   ],
   "metadata": {
    "collapsed": false,
    "pycharm": {
     "name": "#%%\n"
    }
   }
  },
  {
   "cell_type": "code",
   "execution_count": 103,
   "outputs": [
    {
     "name": "stderr",
     "output_type": "stream",
     "text": [
      "C:\\Users\\mlpa\\AppData\\Local\\Temp\\ipykernel_13936\\3137417838.py:1: DtypeWarning: Columns (4) have mixed types. Specify dtype option on import or set low_memory=False.\n",
      "  waterlevel = pd.read_csv(\"./dataset/WaterLevel.csv\")\n"
     ]
    }
   ],
   "source": [
    "waterlevel = pd.read_csv(\"./dataset/WaterLevel.csv\")\n",
    "\n",
    "for reg in waterlevel.columns:\n",
    "    lst = waterlevel.loc[waterlevel[reg] == '-'].index\n",
    "\n",
    "    for n in lst:       # 10,000 값을 모두 nan 값으로 변경\n",
    "        waterlevel.loc[n, reg] = nan\n",
    "\n",
    "waterlevel = waterlevel.fillna(method=\"ffill\")"
   ],
   "metadata": {
    "collapsed": false,
    "pycharm": {
     "name": "#%%\n"
    }
   }
  },
  {
   "cell_type": "code",
   "execution_count": 105,
   "outputs": [],
   "source": [
    "waterlevel.to_csv(\"./dataset/WaterLevel.csv\", index_label=False)"
   ],
   "metadata": {
    "collapsed": false,
    "pycharm": {
     "name": "#%%\n"
    }
   }
  },
  {
   "cell_type": "markdown",
   "source": [
    "# 총 방류량 사용"
   ],
   "metadata": {
    "collapsed": false,
    "pycharm": {
     "name": "#%% md\n"
    }
   }
  },
  {
   "cell_type": "code",
   "execution_count": 1,
   "outputs": [],
   "source": [
    "import pandas as pd"
   ],
   "metadata": {
    "collapsed": false,
    "pycharm": {
     "name": "#%%\n"
    }
   }
  },
  {
   "cell_type": "code",
   "execution_count": 2,
   "outputs": [],
   "source": [
    "Target2 = pd.read_csv(\"./dataset/raw/Target2.csv\")"
   ],
   "metadata": {
    "collapsed": false,
    "pycharm": {
     "name": "#%%\n"
    }
   }
  },
  {
   "cell_type": "code",
   "execution_count": 3,
   "outputs": [],
   "source": [
    "Target2 = Target2.drop(['Unnamed: 0'], axis = 1)\n",
    "\n",
    "Target2['수위(EL.m)'] = Target2['수위(EL.m)'].astype('float')\n",
    "\n",
    "Target2['총유입량(㎥/s)'] = Target2['총유입량(㎥/s)'].str.strip()\n",
    "Target2['총유입량(㎥/s)'] = Target2['총유입량(㎥/s)'].str.replace(',','')\n",
    "Target2['총유입량(㎥/s)'] = Target2['총유입량(㎥/s)'].astype('float')\n",
    "\n",
    "Target2['총방류량(㎥/s)'] = Target2['총방류량(㎥/s)'].str.strip()\n",
    "Target2['총방류량(㎥/s)'] = Target2['총방류량(㎥/s)'].str.replace(',','')\n",
    "Target2['총방류량(㎥/s)'] = Target2['총방류량(㎥/s)'].astype('float')"
   ],
   "metadata": {
    "collapsed": false,
    "pycharm": {
     "name": "#%%\n"
    }
   }
  },
  {
   "cell_type": "code",
   "execution_count": 4,
   "outputs": [
    {
     "data": {
      "text/plain": "   수위(EL.m)  총유입량(㎥/s)  총방류량(㎥/s)\n0      5.45   2012.950   1979.978\n1      5.45   1985.586   1985.586\n2      5.45   1929.865   1929.865\n3      5.45   1928.188   1928.188\n4      5.45   1927.172   1927.172",
      "text/html": "<div>\n<style scoped>\n    .dataframe tbody tr th:only-of-type {\n        vertical-align: middle;\n    }\n\n    .dataframe tbody tr th {\n        vertical-align: top;\n    }\n\n    .dataframe thead th {\n        text-align: right;\n    }\n</style>\n<table border=\"1\" class=\"dataframe\">\n  <thead>\n    <tr style=\"text-align: right;\">\n      <th></th>\n      <th>수위(EL.m)</th>\n      <th>총유입량(㎥/s)</th>\n      <th>총방류량(㎥/s)</th>\n    </tr>\n  </thead>\n  <tbody>\n    <tr>\n      <th>0</th>\n      <td>5.45</td>\n      <td>2012.950</td>\n      <td>1979.978</td>\n    </tr>\n    <tr>\n      <th>1</th>\n      <td>5.45</td>\n      <td>1985.586</td>\n      <td>1985.586</td>\n    </tr>\n    <tr>\n      <th>2</th>\n      <td>5.45</td>\n      <td>1929.865</td>\n      <td>1929.865</td>\n    </tr>\n    <tr>\n      <th>3</th>\n      <td>5.45</td>\n      <td>1928.188</td>\n      <td>1928.188</td>\n    </tr>\n    <tr>\n      <th>4</th>\n      <td>5.45</td>\n      <td>1927.172</td>\n      <td>1927.172</td>\n    </tr>\n  </tbody>\n</table>\n</div>"
     },
     "execution_count": 4,
     "metadata": {},
     "output_type": "execute_result"
    }
   ],
   "source": [
    "Target2[:5]"
   ],
   "metadata": {
    "collapsed": false,
    "pycharm": {
     "name": "#%%\n"
    }
   }
  },
  {
   "cell_type": "code",
   "execution_count": 5,
   "outputs": [],
   "source": [
    "Target2.columns = ['수위', '총유입량', '총방류량']"
   ],
   "metadata": {
    "collapsed": false,
    "pycharm": {
     "name": "#%%\n"
    }
   }
  },
  {
   "cell_type": "code",
   "execution_count": 6,
   "outputs": [
    {
     "data": {
      "text/plain": "     수위      총유입량      총방류량\n0  5.45  2012.950  1979.978\n1  5.45  1985.586  1985.586\n2  5.45  1929.865  1929.865\n3  5.45  1928.188  1928.188\n4  5.45  1927.172  1927.172",
      "text/html": "<div>\n<style scoped>\n    .dataframe tbody tr th:only-of-type {\n        vertical-align: middle;\n    }\n\n    .dataframe tbody tr th {\n        vertical-align: top;\n    }\n\n    .dataframe thead th {\n        text-align: right;\n    }\n</style>\n<table border=\"1\" class=\"dataframe\">\n  <thead>\n    <tr style=\"text-align: right;\">\n      <th></th>\n      <th>수위</th>\n      <th>총유입량</th>\n      <th>총방류량</th>\n    </tr>\n  </thead>\n  <tbody>\n    <tr>\n      <th>0</th>\n      <td>5.45</td>\n      <td>2012.950</td>\n      <td>1979.978</td>\n    </tr>\n    <tr>\n      <th>1</th>\n      <td>5.45</td>\n      <td>1985.586</td>\n      <td>1985.586</td>\n    </tr>\n    <tr>\n      <th>2</th>\n      <td>5.45</td>\n      <td>1929.865</td>\n      <td>1929.865</td>\n    </tr>\n    <tr>\n      <th>3</th>\n      <td>5.45</td>\n      <td>1928.188</td>\n      <td>1928.188</td>\n    </tr>\n    <tr>\n      <th>4</th>\n      <td>5.45</td>\n      <td>1927.172</td>\n      <td>1927.172</td>\n    </tr>\n  </tbody>\n</table>\n</div>"
     },
     "execution_count": 6,
     "metadata": {},
     "output_type": "execute_result"
    }
   ],
   "source": [
    "Target2[:5]"
   ],
   "metadata": {
    "collapsed": false,
    "pycharm": {
     "name": "#%%\n"
    }
   }
  },
  {
   "cell_type": "code",
   "execution_count": 7,
   "outputs": [
    {
     "data": {
      "text/plain": "0"
     },
     "execution_count": 7,
     "metadata": {},
     "output_type": "execute_result"
    }
   ],
   "source": [
    "Target2['총유입량'].isnull().sum()"
   ],
   "metadata": {
    "collapsed": false,
    "pycharm": {
     "name": "#%%\n"
    }
   }
  },
  {
   "cell_type": "code",
   "execution_count": 8,
   "outputs": [
    {
     "data": {
      "text/plain": "81935"
     },
     "execution_count": 8,
     "metadata": {},
     "output_type": "execute_result"
    }
   ],
   "source": [
    "len(Target2)"
   ],
   "metadata": {
    "collapsed": false,
    "pycharm": {
     "name": "#%%\n"
    }
   }
  },
  {
   "cell_type": "code",
   "execution_count": 10,
   "outputs": [],
   "source": [
    "Target2.to_csv(\"./dataset/Target_discharge.csv\")"
   ],
   "metadata": {
    "collapsed": false,
    "pycharm": {
     "name": "#%%\n"
    }
   }
  },
  {
   "cell_type": "markdown",
   "source": [
    "# 컬럼 이름 변경 (단위 제거)"
   ],
   "metadata": {
    "collapsed": false,
    "pycharm": {
     "name": "#%% md\n"
    }
   }
  },
  {
   "cell_type": "code",
   "execution_count": 12,
   "outputs": [],
   "source": [
    "WaterLevel = pd.read_csv(\"./dataset/WaterLevel.csv\")\n",
    "RainFall = pd.read_csv(\"./dataset/RainFall.csv\")\n",
    "Target = pd.read_csv(\"./dataset/Target.csv\")"
   ],
   "metadata": {
    "collapsed": false,
    "pycharm": {
     "name": "#%%\n"
    }
   }
  },
  {
   "cell_type": "code",
   "execution_count": 13,
   "outputs": [
    {
     "data": {
      "text/plain": "Index(['Unnamed: 0', '수산대교(창원)_수위', '여의리(의령군)_수위', '의령군(정암교)_수위',\n       '함안군(서출리)_수위', '합천군(적포교)_수위', 'date', 'time'],\n      dtype='object')"
     },
     "execution_count": 13,
     "metadata": {},
     "output_type": "execute_result"
    }
   ],
   "source": [
    "WaterLevel.columns"
   ],
   "metadata": {
    "collapsed": false,
    "pycharm": {
     "name": "#%%\n"
    }
   }
  },
  {
   "cell_type": "code",
   "execution_count": 15,
   "outputs": [],
   "source": [
    "RainFall.columns = ['Unnamed: 단위(mm)', '길곡강수량', '대병강수량', '창녕강수량', '창덕강수량', '함안강수량', 'date', 'time']"
   ],
   "metadata": {
    "collapsed": false,
    "pycharm": {
     "name": "#%%\n"
    }
   }
  },
  {
   "cell_type": "code",
   "execution_count": 16,
   "outputs": [
    {
     "data": {
      "text/plain": "   Unnamed: 단위(mm)  길곡강수량  대병강수량  창녕강수량  창덕강수량  함안강수량        date  time\n0                0    0.0    0.0    0.0    0.0    0.0  2012-08-27     1\n1                1    0.0    0.0    0.0    0.0    0.0  2012-08-27     2\n2                2    0.0    0.0    0.0    0.0    0.0  2012-08-27     3\n3                3    0.0    0.0    0.0    0.0    0.0  2012-08-27     4\n4                4    0.0    0.0    0.0    0.0    0.0  2012-08-27     5",
      "text/html": "<div>\n<style scoped>\n    .dataframe tbody tr th:only-of-type {\n        vertical-align: middle;\n    }\n\n    .dataframe tbody tr th {\n        vertical-align: top;\n    }\n\n    .dataframe thead th {\n        text-align: right;\n    }\n</style>\n<table border=\"1\" class=\"dataframe\">\n  <thead>\n    <tr style=\"text-align: right;\">\n      <th></th>\n      <th>Unnamed: 단위(mm)</th>\n      <th>길곡강수량</th>\n      <th>대병강수량</th>\n      <th>창녕강수량</th>\n      <th>창덕강수량</th>\n      <th>함안강수량</th>\n      <th>date</th>\n      <th>time</th>\n    </tr>\n  </thead>\n  <tbody>\n    <tr>\n      <th>0</th>\n      <td>0</td>\n      <td>0.0</td>\n      <td>0.0</td>\n      <td>0.0</td>\n      <td>0.0</td>\n      <td>0.0</td>\n      <td>2012-08-27</td>\n      <td>1</td>\n    </tr>\n    <tr>\n      <th>1</th>\n      <td>1</td>\n      <td>0.0</td>\n      <td>0.0</td>\n      <td>0.0</td>\n      <td>0.0</td>\n      <td>0.0</td>\n      <td>2012-08-27</td>\n      <td>2</td>\n    </tr>\n    <tr>\n      <th>2</th>\n      <td>2</td>\n      <td>0.0</td>\n      <td>0.0</td>\n      <td>0.0</td>\n      <td>0.0</td>\n      <td>0.0</td>\n      <td>2012-08-27</td>\n      <td>3</td>\n    </tr>\n    <tr>\n      <th>3</th>\n      <td>3</td>\n      <td>0.0</td>\n      <td>0.0</td>\n      <td>0.0</td>\n      <td>0.0</td>\n      <td>0.0</td>\n      <td>2012-08-27</td>\n      <td>4</td>\n    </tr>\n    <tr>\n      <th>4</th>\n      <td>4</td>\n      <td>0.0</td>\n      <td>0.0</td>\n      <td>0.0</td>\n      <td>0.0</td>\n      <td>0.0</td>\n      <td>2012-08-27</td>\n      <td>5</td>\n    </tr>\n  </tbody>\n</table>\n</div>"
     },
     "execution_count": 16,
     "metadata": {},
     "output_type": "execute_result"
    }
   ],
   "source": [
    "RainFall[:5]"
   ],
   "metadata": {
    "collapsed": false,
    "pycharm": {
     "name": "#%%\n"
    }
   }
  },
  {
   "cell_type": "code",
   "execution_count": 17,
   "outputs": [],
   "source": [
    "RainFall.to_csv(\"./dataset/RainFall.csv\")"
   ],
   "metadata": {
    "collapsed": false,
    "pycharm": {
     "name": "#%%\n"
    }
   }
  },
  {
   "cell_type": "code",
   "execution_count": 18,
   "outputs": [
    {
     "data": {
      "text/plain": "Index(['Unnamed: 0', 'Unnamed: 0.1', 'waterlevel', 'date', 'time'], dtype='object')"
     },
     "execution_count": 18,
     "metadata": {},
     "output_type": "execute_result"
    }
   ],
   "source": [
    "Target.columns"
   ],
   "metadata": {
    "collapsed": false,
    "pycharm": {
     "name": "#%%\n"
    }
   }
  },
  {
   "cell_type": "code",
   "execution_count": null,
   "outputs": [],
   "source": [],
   "metadata": {
    "collapsed": false,
    "pycharm": {
     "name": "#%%\n"
    }
   }
  }
 ],
 "metadata": {
  "kernelspec": {
   "display_name": "Python 3",
   "language": "python",
   "name": "python3"
  },
  "language_info": {
   "codemirror_mode": {
    "name": "ipython",
    "version": 2
   },
   "file_extension": ".py",
   "mimetype": "text/x-python",
   "name": "python",
   "nbconvert_exporter": "python",
   "pygments_lexer": "ipython2",
   "version": "2.7.6"
  }
 },
 "nbformat": 4,
 "nbformat_minor": 0
}